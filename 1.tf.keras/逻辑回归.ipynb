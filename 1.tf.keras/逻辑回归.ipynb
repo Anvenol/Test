{
 "cells": [
  {
   "cell_type": "code",
   "execution_count": 1,
   "metadata": {},
   "outputs": [],
   "source": [
    "import tensorflow as tf\n",
    "import pandas as pd\n",
    "import numpy as np\n",
    "import matplotlib.pyplot as plt\n",
    "%matplotlib inline"
   ]
  },
  {
   "cell_type": "code",
   "execution_count": 6,
   "metadata": {},
   "outputs": [],
   "source": [
    "data=pd.read_csv('D:/Study/深度学习/tensorflow入门与实战-基础部分数据集/tensorflow/credit-a.csv',header=None)"
   ]
  },
  {
   "cell_type": "code",
   "execution_count": 7,
   "metadata": {},
   "outputs": [
    {
     "data": {
      "text/html": [
       "<div>\n",
       "<style scoped>\n",
       "    .dataframe tbody tr th:only-of-type {\n",
       "        vertical-align: middle;\n",
       "    }\n",
       "\n",
       "    .dataframe tbody tr th {\n",
       "        vertical-align: top;\n",
       "    }\n",
       "\n",
       "    .dataframe thead th {\n",
       "        text-align: right;\n",
       "    }\n",
       "</style>\n",
       "<table border=\"1\" class=\"dataframe\">\n",
       "  <thead>\n",
       "    <tr style=\"text-align: right;\">\n",
       "      <th></th>\n",
       "      <th>0</th>\n",
       "      <th>1</th>\n",
       "      <th>2</th>\n",
       "      <th>3</th>\n",
       "      <th>4</th>\n",
       "      <th>5</th>\n",
       "      <th>6</th>\n",
       "      <th>7</th>\n",
       "      <th>8</th>\n",
       "      <th>9</th>\n",
       "      <th>10</th>\n",
       "      <th>11</th>\n",
       "      <th>12</th>\n",
       "      <th>13</th>\n",
       "      <th>14</th>\n",
       "      <th>15</th>\n",
       "    </tr>\n",
       "  </thead>\n",
       "  <tbody>\n",
       "    <tr>\n",
       "      <th>0</th>\n",
       "      <td>0</td>\n",
       "      <td>30.83</td>\n",
       "      <td>0.000</td>\n",
       "      <td>0</td>\n",
       "      <td>0</td>\n",
       "      <td>9</td>\n",
       "      <td>0</td>\n",
       "      <td>1.25</td>\n",
       "      <td>0</td>\n",
       "      <td>0</td>\n",
       "      <td>1</td>\n",
       "      <td>1</td>\n",
       "      <td>0</td>\n",
       "      <td>202</td>\n",
       "      <td>0.0</td>\n",
       "      <td>-1</td>\n",
       "    </tr>\n",
       "    <tr>\n",
       "      <th>1</th>\n",
       "      <td>1</td>\n",
       "      <td>58.67</td>\n",
       "      <td>4.460</td>\n",
       "      <td>0</td>\n",
       "      <td>0</td>\n",
       "      <td>8</td>\n",
       "      <td>1</td>\n",
       "      <td>3.04</td>\n",
       "      <td>0</td>\n",
       "      <td>0</td>\n",
       "      <td>6</td>\n",
       "      <td>1</td>\n",
       "      <td>0</td>\n",
       "      <td>43</td>\n",
       "      <td>560.0</td>\n",
       "      <td>-1</td>\n",
       "    </tr>\n",
       "    <tr>\n",
       "      <th>2</th>\n",
       "      <td>1</td>\n",
       "      <td>24.50</td>\n",
       "      <td>0.500</td>\n",
       "      <td>0</td>\n",
       "      <td>0</td>\n",
       "      <td>8</td>\n",
       "      <td>1</td>\n",
       "      <td>1.50</td>\n",
       "      <td>0</td>\n",
       "      <td>1</td>\n",
       "      <td>0</td>\n",
       "      <td>1</td>\n",
       "      <td>0</td>\n",
       "      <td>280</td>\n",
       "      <td>824.0</td>\n",
       "      <td>-1</td>\n",
       "    </tr>\n",
       "    <tr>\n",
       "      <th>3</th>\n",
       "      <td>0</td>\n",
       "      <td>27.83</td>\n",
       "      <td>1.540</td>\n",
       "      <td>0</td>\n",
       "      <td>0</td>\n",
       "      <td>9</td>\n",
       "      <td>0</td>\n",
       "      <td>3.75</td>\n",
       "      <td>0</td>\n",
       "      <td>0</td>\n",
       "      <td>5</td>\n",
       "      <td>0</td>\n",
       "      <td>0</td>\n",
       "      <td>100</td>\n",
       "      <td>3.0</td>\n",
       "      <td>-1</td>\n",
       "    </tr>\n",
       "    <tr>\n",
       "      <th>4</th>\n",
       "      <td>0</td>\n",
       "      <td>20.17</td>\n",
       "      <td>5.625</td>\n",
       "      <td>0</td>\n",
       "      <td>0</td>\n",
       "      <td>9</td>\n",
       "      <td>0</td>\n",
       "      <td>1.71</td>\n",
       "      <td>0</td>\n",
       "      <td>1</td>\n",
       "      <td>0</td>\n",
       "      <td>1</td>\n",
       "      <td>2</td>\n",
       "      <td>120</td>\n",
       "      <td>0.0</td>\n",
       "      <td>-1</td>\n",
       "    </tr>\n",
       "  </tbody>\n",
       "</table>\n",
       "</div>"
      ],
      "text/plain": [
       "   0      1      2   3   4   5   6     7   8   9   10  11  12   13     14  15\n",
       "0   0  30.83  0.000   0   0   9   0  1.25   0   0   1   1   0  202    0.0  -1\n",
       "1   1  58.67  4.460   0   0   8   1  3.04   0   0   6   1   0   43  560.0  -1\n",
       "2   1  24.50  0.500   0   0   8   1  1.50   0   1   0   1   0  280  824.0  -1\n",
       "3   0  27.83  1.540   0   0   9   0  3.75   0   0   5   0   0  100    3.0  -1\n",
       "4   0  20.17  5.625   0   0   9   0  1.71   0   1   0   1   2  120    0.0  -1"
      ]
     },
     "execution_count": 7,
     "metadata": {},
     "output_type": "execute_result"
    }
   ],
   "source": [
    "data.head()"
   ]
  },
  {
   "cell_type": "code",
   "execution_count": 9,
   "metadata": {},
   "outputs": [
    {
     "data": {
      "text/plain": [
       " 1    357\n",
       "-1    296\n",
       "Name: 15, dtype: int64"
      ]
     },
     "execution_count": 9,
     "metadata": {},
     "output_type": "execute_result"
    }
   ],
   "source": [
    "data.iloc[:,-1].value_counts()"
   ]
  },
  {
   "cell_type": "code",
   "execution_count": 17,
   "metadata": {},
   "outputs": [],
   "source": [
    "x=data.iloc[:,:-1]\n",
    "y=data.iloc[:,-1].replace(-1,0)"
   ]
  },
  {
   "cell_type": "code",
   "execution_count": 18,
   "metadata": {},
   "outputs": [],
   "source": [
    "model=tf.keras.Sequential()"
   ]
  },
  {
   "cell_type": "code",
   "execution_count": 49,
   "metadata": {},
   "outputs": [],
   "source": [
    "model.add(tf.keras.layers.Dense(7,input_shape=(15,),activation='relu'))\n",
    "model.add(tf.keras.layers.Dense(7,activation='relu'))\n",
    "model.add(tf.keras.layers.Dense(1,activation='sigmoid'))"
   ]
  },
  {
   "cell_type": "code",
   "execution_count": 50,
   "metadata": {},
   "outputs": [
    {
     "name": "stdout",
     "output_type": "stream",
     "text": [
      "Model: \"sequential_3\"\n",
      "_________________________________________________________________\n",
      "Layer (type)                 Output Shape              Param #   \n",
      "=================================================================\n",
      "dense (Dense)                (None, 4)                 64        \n",
      "_________________________________________________________________\n",
      "dense_1 (Dense)              (None, 4)                 20        \n",
      "_________________________________________________________________\n",
      "dense_2 (Dense)              (None, 1)                 5         \n",
      "_________________________________________________________________\n",
      "dense_3 (Dense)              (None, 5)                 10        \n",
      "_________________________________________________________________\n",
      "dense_4 (Dense)              (None, 5)                 30        \n",
      "_________________________________________________________________\n",
      "dense_5 (Dense)              (None, 1)                 6         \n",
      "_________________________________________________________________\n",
      "dense_6 (Dense)              (None, 7)                 14        \n",
      "_________________________________________________________________\n",
      "dense_7 (Dense)              (None, 7)                 56        \n",
      "_________________________________________________________________\n",
      "dense_8 (Dense)              (None, 1)                 8         \n",
      "=================================================================\n",
      "Total params: 213\n",
      "Trainable params: 213\n",
      "Non-trainable params: 0\n",
      "_________________________________________________________________\n"
     ]
    }
   ],
   "source": [
    "model.summary()"
   ]
  },
  {
   "cell_type": "code",
   "execution_count": 51,
   "metadata": {},
   "outputs": [],
   "source": [
    "model.compile(optimizer='adam',\n",
    "              loss='binary_crossentropy',  \n",
    "             metrics=['acc']\n",
    "             )"
   ]
  },
  {
   "cell_type": "code",
   "execution_count": 52,
   "metadata": {},
   "outputs": [
    {
     "name": "stdout",
     "output_type": "stream",
     "text": [
      "Epoch 1/100\n",
      "21/21 [==============================] - 0s 1ms/step - loss: 0.5925 - acc: 0.5467\n",
      "Epoch 2/100\n",
      "21/21 [==============================] - 0s 950us/step - loss: 0.5780 - acc: 0.5482\n",
      "Epoch 3/100\n",
      "21/21 [==============================] - 0s 998us/step - loss: 0.5678 - acc: 0.8116\n",
      "Epoch 4/100\n",
      "21/21 [==============================] - 0s 997us/step - loss: 0.5537 - acc: 0.8606\n",
      "Epoch 5/100\n",
      "21/21 [==============================] - 0s 950us/step - loss: 0.5307 - acc: 0.8683\n",
      "Epoch 6/100\n",
      "21/21 [==============================] - 0s 760us/step - loss: 0.5128 - acc: 0.8622\n",
      "Epoch 7/100\n",
      "21/21 [==============================] - 0s 818us/step - loss: 0.4930 - acc: 0.8744\n",
      "Epoch 8/100\n",
      "21/21 [==============================] - 0s 760us/step - loss: 0.4717 - acc: 0.8714\n",
      "Epoch 9/100\n",
      "21/21 [==============================] - 0s 821us/step - loss: 0.4581 - acc: 0.8683\n",
      "Epoch 10/100\n",
      "21/21 [==============================] - 0s 760us/step - loss: 0.4777 - acc: 0.8178\n",
      "Epoch 11/100\n",
      "21/21 [==============================] - 0s 855us/step - loss: 0.4804 - acc: 0.8086\n",
      "Epoch 12/100\n",
      "21/21 [==============================] - 0s 807us/step - loss: 0.4705 - acc: 0.8239\n",
      "Epoch 13/100\n",
      "21/21 [==============================] - 0s 855us/step - loss: 0.4600 - acc: 0.8147\n",
      "Epoch 14/100\n",
      "21/21 [==============================] - 0s 760us/step - loss: 0.4523 - acc: 0.8285\n",
      "Epoch 15/100\n",
      "21/21 [==============================] - 0s 807us/step - loss: 0.4460 - acc: 0.8254\n",
      "Epoch 16/100\n",
      "21/21 [==============================] - 0s 807us/step - loss: 0.4450 - acc: 0.8132\n",
      "Epoch 17/100\n",
      "21/21 [==============================] - 0s 760us/step - loss: 0.4359 - acc: 0.8224\n",
      "Epoch 18/100\n",
      "21/21 [==============================] - 0s 760us/step - loss: 0.4367 - acc: 0.8147\n",
      "Epoch 19/100\n",
      "21/21 [==============================] - 0s 760us/step - loss: 0.4259 - acc: 0.8300\n",
      "Epoch 20/100\n",
      "21/21 [==============================] - 0s 806us/step - loss: 0.4161 - acc: 0.8315\n",
      "Epoch 21/100\n",
      "21/21 [==============================] - 0s 807us/step - loss: 0.4011 - acc: 0.8438\n",
      "Epoch 22/100\n",
      "21/21 [==============================] - 0s 742us/step - loss: 0.3942 - acc: 0.8469\n",
      "Epoch 23/100\n",
      "21/21 [==============================] - 0s 839us/step - loss: 0.3740 - acc: 0.8530\n",
      "Epoch 24/100\n",
      "21/21 [==============================] - 0s 807us/step - loss: 0.3584 - acc: 0.8714\n",
      "Epoch 25/100\n",
      "21/21 [==============================] - 0s 807us/step - loss: 0.3494 - acc: 0.8806\n",
      "Epoch 26/100\n",
      "21/21 [==============================] - 0s 760us/step - loss: 0.3476 - acc: 0.8806\n",
      "Epoch 27/100\n",
      "21/21 [==============================] - 0s 807us/step - loss: 0.3398 - acc: 0.8744\n",
      "Epoch 28/100\n",
      "21/21 [==============================] - 0s 793us/step - loss: 0.3423 - acc: 0.8744\n",
      "Epoch 29/100\n",
      "21/21 [==============================] - 0s 712us/step - loss: 0.3396 - acc: 0.8790\n",
      "Epoch 30/100\n",
      "21/21 [==============================] - 0s 806us/step - loss: 0.3353 - acc: 0.8744\n",
      "Epoch 31/100\n",
      "21/21 [==============================] - 0s 773us/step - loss: 0.3368 - acc: 0.8714\n",
      "Epoch 32/100\n",
      "21/21 [==============================] - 0s 824us/step - loss: 0.3279 - acc: 0.8775\n",
      "Epoch 33/100\n",
      "21/21 [==============================] - 0s 854us/step - loss: 0.3238 - acc: 0.8897\n",
      "Epoch 34/100\n",
      "21/21 [==============================] - 0s 779us/step - loss: 0.3459 - acc: 0.8637\n",
      "Epoch 35/100\n",
      "21/21 [==============================] - 0s 712us/step - loss: 0.3439 - acc: 0.8622\n",
      "Epoch 36/100\n",
      "21/21 [==============================] - 0s 807us/step - loss: 0.3356 - acc: 0.8714\n",
      "Epoch 37/100\n",
      "21/21 [==============================] - 0s 856us/step - loss: 0.3278 - acc: 0.8760\n",
      "Epoch 38/100\n",
      "21/21 [==============================] - 0s 823us/step - loss: 0.3390 - acc: 0.8698\n",
      "Epoch 39/100\n",
      "21/21 [==============================] - 0s 807us/step - loss: 0.3273 - acc: 0.8790\n",
      "Epoch 40/100\n",
      "21/21 [==============================] - 0s 807us/step - loss: 0.3298 - acc: 0.8775\n",
      "Epoch 41/100\n",
      "21/21 [==============================] - 0s 807us/step - loss: 0.3403 - acc: 0.8668\n",
      "Epoch 42/100\n",
      "21/21 [==============================] - 0s 841us/step - loss: 0.3289 - acc: 0.8683\n",
      "Epoch 43/100\n",
      "21/21 [==============================] - 0s 760us/step - loss: 0.3222 - acc: 0.8790\n",
      "Epoch 44/100\n",
      "21/21 [==============================] - 0s 760us/step - loss: 0.3341 - acc: 0.8729\n",
      "Epoch 45/100\n",
      "21/21 [==============================] - 0s 807us/step - loss: 0.3429 - acc: 0.8760\n",
      "Epoch 46/100\n",
      "21/21 [==============================] - 0s 808us/step - loss: 0.3213 - acc: 0.8729\n",
      "Epoch 47/100\n",
      "21/21 [==============================] - 0s 760us/step - loss: 0.4018 - acc: 0.8300\n",
      "Epoch 48/100\n",
      "21/21 [==============================] - 0s 761us/step - loss: 0.4430 - acc: 0.8270\n",
      "Epoch 49/100\n",
      "21/21 [==============================] - 0s 793us/step - loss: 0.4298 - acc: 0.8239\n",
      "Epoch 50/100\n",
      "21/21 [==============================] - 0s 809us/step - loss: 0.4238 - acc: 0.8239\n",
      "Epoch 51/100\n",
      "21/21 [==============================] - 0s 809us/step - loss: 0.4135 - acc: 0.8285\n",
      "Epoch 52/100\n",
      "21/21 [==============================] - 0s 806us/step - loss: 0.3998 - acc: 0.8377\n",
      "Epoch 53/100\n",
      "21/21 [==============================] - 0s 760us/step - loss: 0.3820 - acc: 0.8423\n",
      "Epoch 54/100\n",
      "21/21 [==============================] - 0s 815us/step - loss: 0.3446 - acc: 0.8729\n",
      "Epoch 55/100\n",
      "21/21 [==============================] - 0s 855us/step - loss: 0.3332 - acc: 0.8698\n",
      "Epoch 56/100\n",
      "21/21 [==============================] - 0s 807us/step - loss: 0.3345 - acc: 0.8714\n",
      "Epoch 57/100\n",
      "21/21 [==============================] - 0s 807us/step - loss: 0.3393 - acc: 0.8683\n",
      "Epoch 58/100\n",
      "21/21 [==============================] - 0s 855us/step - loss: 0.3265 - acc: 0.8714\n",
      "Epoch 59/100\n",
      "21/21 [==============================] - 0s 781us/step - loss: 0.3308 - acc: 0.8698\n",
      "Epoch 60/100\n",
      "21/21 [==============================] - 0s 760us/step - loss: 0.3506 - acc: 0.8668\n",
      "Epoch 61/100\n",
      "21/21 [==============================] - 0s 807us/step - loss: 0.3340 - acc: 0.8698\n",
      "Epoch 62/100\n",
      "21/21 [==============================] - 0s 850us/step - loss: 0.3275 - acc: 0.8775\n",
      "Epoch 63/100\n",
      "21/21 [==============================] - 0s 807us/step - loss: 0.3563 - acc: 0.8652\n",
      "Epoch 64/100\n",
      "21/21 [==============================] - 0s 806us/step - loss: 0.3243 - acc: 0.8790\n",
      "Epoch 65/100\n",
      "21/21 [==============================] - 0s 760us/step - loss: 0.3265 - acc: 0.8729\n",
      "Epoch 66/100\n",
      "21/21 [==============================] - 0s 760us/step - loss: 0.3200 - acc: 0.8775\n",
      "Epoch 67/100\n",
      "21/21 [==============================] - 0s 760us/step - loss: 0.3218 - acc: 0.8760\n",
      "Epoch 68/100\n",
      "21/21 [==============================] - 0s 807us/step - loss: 0.4649 - acc: 0.8208\n",
      "Epoch 69/100\n",
      "21/21 [==============================] - 0s 803us/step - loss: 0.4407 - acc: 0.8178\n",
      "Epoch 70/100\n",
      "21/21 [==============================] - 0s 855us/step - loss: 0.4297 - acc: 0.8224\n",
      "Epoch 71/100\n",
      "21/21 [==============================] - 0s 807us/step - loss: 0.4260 - acc: 0.8285\n",
      "Epoch 72/100\n",
      "21/21 [==============================] - 0s 823us/step - loss: 0.4258 - acc: 0.8193\n",
      "Epoch 73/100\n",
      "21/21 [==============================] - 0s 913us/step - loss: 0.4165 - acc: 0.8254\n",
      "Epoch 74/100\n",
      "21/21 [==============================] - 0s 745us/step - loss: 0.4118 - acc: 0.8315\n",
      "Epoch 75/100\n",
      "21/21 [==============================] - 0s 806us/step - loss: 0.4000 - acc: 0.8346\n",
      "Epoch 76/100\n",
      "21/21 [==============================] - 0s 785us/step - loss: 0.3849 - acc: 0.8469\n",
      "Epoch 77/100\n",
      "21/21 [==============================] - 0s 807us/step - loss: 0.3699 - acc: 0.8469\n",
      "Epoch 78/100\n",
      "21/21 [==============================] - 0s 807us/step - loss: 0.3389 - acc: 0.8683\n",
      "Epoch 79/100\n",
      "21/21 [==============================] - 0s 739us/step - loss: 0.3308 - acc: 0.8744\n",
      "Epoch 80/100\n",
      "21/21 [==============================] - 0s 807us/step - loss: 0.3312 - acc: 0.8729\n",
      "Epoch 81/100\n",
      "21/21 [==============================] - 0s 845us/step - loss: 0.3603 - acc: 0.8591\n",
      "Epoch 82/100\n",
      "21/21 [==============================] - 0s 756us/step - loss: 0.3384 - acc: 0.8668\n",
      "Epoch 83/100\n",
      "21/21 [==============================] - 0s 760us/step - loss: 0.3547 - acc: 0.8652\n",
      "Epoch 84/100\n",
      "21/21 [==============================] - 0s 806us/step - loss: 0.3253 - acc: 0.8698\n",
      "Epoch 85/100\n"
     ]
    },
    {
     "name": "stdout",
     "output_type": "stream",
     "text": [
      "21/21 [==============================] - 0s 853us/step - loss: 0.3176 - acc: 0.8851\n",
      "Epoch 86/100\n",
      "21/21 [==============================] - 0s 760us/step - loss: 0.3224 - acc: 0.8729\n",
      "Epoch 87/100\n",
      "21/21 [==============================] - 0s 857us/step - loss: 0.3264 - acc: 0.8729\n",
      "Epoch 88/100\n",
      "21/21 [==============================] - 0s 806us/step - loss: 0.3160 - acc: 0.8760\n",
      "Epoch 89/100\n",
      "21/21 [==============================] - 0s 766us/step - loss: 0.3253 - acc: 0.8714\n",
      "Epoch 90/100\n",
      "21/21 [==============================] - 0s 760us/step - loss: 0.3347 - acc: 0.8714\n",
      "Epoch 91/100\n",
      "21/21 [==============================] - 0s 761us/step - loss: 0.3395 - acc: 0.8714\n",
      "Epoch 92/100\n",
      "21/21 [==============================] - 0s 767us/step - loss: 0.3044 - acc: 0.8836\n",
      "Epoch 93/100\n",
      "21/21 [==============================] - 0s 807us/step - loss: 0.3251 - acc: 0.8683\n",
      "Epoch 94/100\n",
      "21/21 [==============================] - 0s 873us/step - loss: 0.3186 - acc: 0.8806\n",
      "Epoch 95/100\n",
      "21/21 [==============================] - 0s 904us/step - loss: 0.3321 - acc: 0.8714\n",
      "Epoch 96/100\n",
      "21/21 [==============================] - 0s 770us/step - loss: 0.3197 - acc: 0.8760\n",
      "Epoch 97/100\n",
      "21/21 [==============================] - 0s 759us/step - loss: 0.3170 - acc: 0.8698\n",
      "Epoch 98/100\n",
      "21/21 [==============================] - 0s 807us/step - loss: 0.3116 - acc: 0.8790\n",
      "Epoch 99/100\n",
      "21/21 [==============================] - 0s 807us/step - loss: 0.3193 - acc: 0.8760\n",
      "Epoch 100/100\n",
      "21/21 [==============================] - 0s 761us/step - loss: 0.3172 - acc: 0.8775\n"
     ]
    }
   ],
   "source": [
    "history=model.fit(x,y,epochs=100)"
   ]
  },
  {
   "cell_type": "code",
   "execution_count": 53,
   "metadata": {},
   "outputs": [
    {
     "data": {
      "text/plain": [
       "dict_keys(['loss', 'acc'])"
      ]
     },
     "execution_count": 53,
     "metadata": {},
     "output_type": "execute_result"
    }
   ],
   "source": [
    "history.history.keys()"
   ]
  },
  {
   "cell_type": "code",
   "execution_count": 54,
   "metadata": {},
   "outputs": [
    {
     "data": {
      "text/plain": [
       "[<matplotlib.lines.Line2D at 0x1c70ed62670>]"
      ]
     },
     "execution_count": 54,
     "metadata": {},
     "output_type": "execute_result"
    },
    {
     "data": {
      "image/png": "[encoded data removed]",
      "text/plain": [
       "<Figure size 432x288 with 1 Axes>"
      ]
     },
     "metadata": {
      "needs_background": "light"
     },
     "output_type": "display_data"
    }
   ],
   "source": [
    "plt.plot(history.epoch,history.history.get('loss'))"
   ]
  },
  {
   "cell_type": "code",
   "execution_count": 55,
   "metadata": {},
   "outputs": [
    {
     "data": {
      "text/plain": [
       "[<matplotlib.lines.Line2D at 0x1c70fd7cdc0>]"
      ]
     },
     "execution_count": 55,
     "metadata": {},
     "output_type": "execute_result"
    },
    {
     "data": {
      "image/png": "[encoded data removed]",
      "text/plain": [
       "<Figure size 432x288 with 1 Axes>"
      ]
     },
     "metadata": {
      "needs_background": "light"
     },
     "output_type": "display_data"
    }
   ],
   "source": [
    "plt.plot(history.epoch,history.history.get('acc'))"
   ]
  },
  {
   "cell_type": "code",
   "execution_count": null,
   "metadata": {},
   "outputs": [],
   "source": []
  }
 ],
 "metadata": {
  "kernelspec": {
   "display_name": "Python 3",
   "language": "python",
   "name": "python3"
  },
  "language_info": {
   "codemirror_mode": {
    "name": "ipython",
    "version": 3
   },
   "file_extension": ".py",
   "mimetype": "text/x-python",
   "name": "python",
   "nbconvert_exporter": "python",
   "pygments_lexer": "ipython3",
   "version": "3.8.3"
  },
  "toc": {
   "base_numbering": 1,
   "nav_menu": {},
   "number_sections": true,
   "sideBar": true,
   "skip_h1_title": false,
   "title_cell": "Table of Contents",
   "title_sidebar": "Contents",
   "toc_cell": false,
   "toc_position": {},
   "toc_section_display": true,
   "toc_window_display": false
  }
 },
 "nbformat": 4,
 "nbformat_minor": 4
}
