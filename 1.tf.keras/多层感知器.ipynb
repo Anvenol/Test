{
 "cells": [
  {
   "cell_type": "code",
   "execution_count": 3,
   "metadata": {},
   "outputs": [],
   "source": [
    "import tensorflow as tf"
   ]
  },
  {
   "cell_type": "code",
   "execution_count": 4,
   "metadata": {},
   "outputs": [],
   "source": [
    "import pandas as pd\n",
    "import numpy as np\n",
    "import matplotlib.pyplot as plt\n",
    "%matplotlib inline"
   ]
  },
  {
   "cell_type": "code",
   "execution_count": 5,
   "metadata": {},
   "outputs": [],
   "source": [
    "data=pd.read_csv('D:/Study/深度学习/4.csv')"
   ]
  },
  {
   "cell_type": "code",
   "execution_count": 6,
   "metadata": {},
   "outputs": [
    {
     "data": {
      "text/html": [
       "<div>\n",
       "<style scoped>\n",
       "    .dataframe tbody tr th:only-of-type {\n",
       "        vertical-align: middle;\n",
       "    }\n",
       "\n",
       "    .dataframe tbody tr th {\n",
       "        vertical-align: top;\n",
       "    }\n",
       "\n",
       "    .dataframe thead th {\n",
       "        text-align: right;\n",
       "    }\n",
       "</style>\n",
       "<table border=\"1\" class=\"dataframe\">\n",
       "  <thead>\n",
       "    <tr style=\"text-align: right;\">\n",
       "      <th></th>\n",
       "      <th>Unnamed: 0</th>\n",
       "      <th>TV</th>\n",
       "      <th>radio</th>\n",
       "      <th>newspaper</th>\n",
       "      <th>sales</th>\n",
       "    </tr>\n",
       "  </thead>\n",
       "  <tbody>\n",
       "    <tr>\n",
       "      <th>0</th>\n",
       "      <td>1</td>\n",
       "      <td>230.1</td>\n",
       "      <td>37.8</td>\n",
       "      <td>69.2</td>\n",
       "      <td>22.1</td>\n",
       "    </tr>\n",
       "    <tr>\n",
       "      <th>1</th>\n",
       "      <td>2</td>\n",
       "      <td>44.5</td>\n",
       "      <td>39.3</td>\n",
       "      <td>45.1</td>\n",
       "      <td>10.4</td>\n",
       "    </tr>\n",
       "    <tr>\n",
       "      <th>2</th>\n",
       "      <td>3</td>\n",
       "      <td>17.2</td>\n",
       "      <td>45.9</td>\n",
       "      <td>69.3</td>\n",
       "      <td>9.3</td>\n",
       "    </tr>\n",
       "    <tr>\n",
       "      <th>3</th>\n",
       "      <td>4</td>\n",
       "      <td>151.5</td>\n",
       "      <td>41.3</td>\n",
       "      <td>58.5</td>\n",
       "      <td>18.5</td>\n",
       "    </tr>\n",
       "    <tr>\n",
       "      <th>4</th>\n",
       "      <td>5</td>\n",
       "      <td>180.8</td>\n",
       "      <td>10.8</td>\n",
       "      <td>58.4</td>\n",
       "      <td>12.9</td>\n",
       "    </tr>\n",
       "  </tbody>\n",
       "</table>\n",
       "</div>"
      ],
      "text/plain": [
       "   Unnamed: 0     TV  radio  newspaper  sales\n",
       "0           1  230.1   37.8       69.2   22.1\n",
       "1           2   44.5   39.3       45.1   10.4\n",
       "2           3   17.2   45.9       69.3    9.3\n",
       "3           4  151.5   41.3       58.5   18.5\n",
       "4           5  180.8   10.8       58.4   12.9"
      ]
     },
     "execution_count": 6,
     "metadata": {},
     "output_type": "execute_result"
    }
   ],
   "source": [
    "data.head()"
   ]
  },
  {
   "cell_type": "code",
   "execution_count": 10,
   "metadata": {},
   "outputs": [
    {
     "data": {
      "text/plain": [
       "<matplotlib.collections.PathCollection at 0x1e039564fa0>"
      ]
     },
     "execution_count": 10,
     "metadata": {},
     "output_type": "execute_result"
    },
    {
     "data": {
      "image/png": "[encoded data removed]",
      "text/plain": [
       "<Figure size 432x288 with 1 Axes>"
      ]
     },
     "metadata": {
      "needs_background": "light"
     },
     "output_type": "display_data"
    }
   ],
   "source": [
    "plt.scatter(data.radio,data.sales)"
   ]
  },
  {
   "cell_type": "code",
   "execution_count": 11,
   "metadata": {},
   "outputs": [],
   "source": [
    "x=data.iloc[:,1:-1]\n",
    "y=data.iloc[:,-1]"
   ]
  },
  {
   "cell_type": "code",
   "execution_count": 12,
   "metadata": {},
   "outputs": [],
   "source": [
    "model=tf.keras.Sequential([tf.keras.layers.Dense(10,input_shape=(3,),activation='relu'),\n",
    "                          tf.keras.layers.Dense(1)])"
   ]
  },
  {
   "cell_type": "code",
   "execution_count": 14,
   "metadata": {},
   "outputs": [
    {
     "name": "stdout",
     "output_type": "stream",
     "text": [
      "Model: \"sequential\"\n",
      "_________________________________________________________________\n",
      "Layer (type)                 Output Shape              Param #   \n",
      "=================================================================\n",
      "dense (Dense)                (None, 10)                40        \n",
      "_________________________________________________________________\n",
      "dense_1 (Dense)              (None, 1)                 11        \n",
      "=================================================================\n",
      "Total params: 51\n",
      "Trainable params: 51\n",
      "Non-trainable params: 0\n",
      "_________________________________________________________________\n"
     ]
    }
   ],
   "source": [
    "model.summary()"
   ]
  },
  {
   "cell_type": "code",
   "execution_count": 16,
   "metadata": {},
   "outputs": [],
   "source": [
    "model.compile(optimizer='adam',\n",
    "              loss='mse'\n",
    ")"
   ]
  },
  {
   "cell_type": "code",
   "execution_count": 19,
   "metadata": {},
   "outputs": [
    {
     "name": "stdout",
     "output_type": "stream",
     "text": [
      "Epoch 1/100\n",
      "1/1 [==============================] - 0s 998us/step - loss: 2196.7124\n",
      "Epoch 2/100\n",
      "1/1 [==============================] - 0s 1ms/step - loss: 2139.3972\n",
      "Epoch 3/100\n",
      "1/1 [==============================] - 0s 2ms/step - loss: 2083.1890\n",
      "Epoch 4/100\n",
      "1/1 [==============================] - 0s 997us/step - loss: 2028.1019\n",
      "Epoch 5/100\n",
      "1/1 [==============================] - 0s 997us/step - loss: 1974.1498\n",
      "Epoch 6/100\n",
      "1/1 [==============================] - 0s 997us/step - loss: 1921.3450\n",
      "Epoch 7/100\n",
      "1/1 [==============================] - 0s 997us/step - loss: 1869.6969\n",
      "Epoch 8/100\n",
      "1/1 [==============================] - 0s 0s/step - loss: 1819.2152\n",
      "Epoch 9/100\n",
      "1/1 [==============================] - 0s 0s/step - loss: 1769.9065\n",
      "Epoch 10/100\n",
      "1/1 [==============================] - 0s 998us/step - loss: 1721.7777\n",
      "Epoch 11/100\n",
      "1/1 [==============================] - 0s 2ms/step - loss: 1674.8326\n",
      "Epoch 12/100\n",
      "1/1 [==============================] - 0s 998us/step - loss: 1629.0751\n",
      "Epoch 13/100\n",
      "1/1 [==============================] - 0s 997us/step - loss: 1584.2709\n",
      "Epoch 14/100\n",
      "1/1 [==============================] - 0s 997us/step - loss: 1539.8977\n",
      "Epoch 15/100\n",
      "1/1 [==============================] - 0s 999us/step - loss: 1496.6853\n",
      "Epoch 16/100\n",
      "1/1 [==============================] - 0s 2ms/step - loss: 1455.1661\n",
      "Epoch 17/100\n",
      "1/1 [==============================] - 0s 998us/step - loss: 1414.7917\n",
      "Epoch 18/100\n",
      "1/1 [==============================] - 0s 997us/step - loss: 1375.5601\n",
      "Epoch 19/100\n",
      "1/1 [==============================] - 0s 999us/step - loss: 1337.4666\n",
      "Epoch 20/100\n",
      "1/1 [==============================] - 0s 996us/step - loss: 1300.5056\n",
      "Epoch 21/100\n",
      "1/1 [==============================] - 0s 998us/step - loss: 1264.6692\n",
      "Epoch 22/100\n",
      "1/1 [==============================] - 0s 998us/step - loss: 1229.9481\n",
      "Epoch 23/100\n",
      "1/1 [==============================] - 0s 997us/step - loss: 1196.3315\n",
      "Epoch 24/100\n",
      "1/1 [==============================] - 0s 998us/step - loss: 1163.8074\n",
      "Epoch 25/100\n",
      "1/1 [==============================] - 0s 997us/step - loss: 1132.3630\n",
      "Epoch 26/100\n",
      "1/1 [==============================] - 0s 0s/step - loss: 1101.9834\n",
      "Epoch 27/100\n",
      "1/1 [==============================] - 0s 997us/step - loss: 1072.6531\n",
      "Epoch 28/100\n",
      "1/1 [==============================] - 0s 997us/step - loss: 1044.3551\n",
      "Epoch 29/100\n",
      "1/1 [==============================] - 0s 2ms/step - loss: 1017.0724\n",
      "Epoch 30/100\n",
      "1/1 [==============================] - 0s 998us/step - loss: 990.7858\n",
      "Epoch 31/100\n",
      "1/1 [==============================] - 0s 998us/step - loss: 965.4762\n",
      "Epoch 32/100\n",
      "1/1 [==============================] - 0s 998us/step - loss: 941.1234\n",
      "Epoch 33/100\n",
      "1/1 [==============================] - 0s 997us/step - loss: 917.7064\n",
      "Epoch 34/100\n",
      "1/1 [==============================] - 0s 997us/step - loss: 895.2036\n",
      "Epoch 35/100\n",
      "1/1 [==============================] - 0s 997us/step - loss: 873.5931\n",
      "Epoch 36/100\n",
      "1/1 [==============================] - 0s 998us/step - loss: 852.8521\n",
      "Epoch 37/100\n",
      "1/1 [==============================] - 0s 996us/step - loss: 832.9779\n",
      "Epoch 38/100\n",
      "1/1 [==============================] - 0s 997us/step - loss: 813.9788\n",
      "Epoch 39/100\n",
      "1/1 [==============================] - 0s 997us/step - loss: 795.7594\n",
      "Epoch 40/100\n",
      "1/1 [==============================] - 0s 997us/step - loss: 778.2955\n",
      "Epoch 41/100\n",
      "1/1 [==============================] - 0s 0s/step - loss: 761.5623\n",
      "Epoch 42/100\n",
      "1/1 [==============================] - 0s 998us/step - loss: 745.5358\n",
      "Epoch 43/100\n",
      "1/1 [==============================] - 0s 0s/step - loss: 730.1923\n",
      "Epoch 44/100\n",
      "1/1 [==============================] - 0s 0s/step - loss: 715.5078\n",
      "Epoch 45/100\n",
      "1/1 [==============================] - 0s 997us/step - loss: 701.4587\n",
      "Epoch 46/100\n",
      "1/1 [==============================] - 0s 997us/step - loss: 688.0218\n",
      "Epoch 47/100\n",
      "1/1 [==============================] - 0s 999us/step - loss: 675.1740\n",
      "Epoch 48/100\n",
      "1/1 [==============================] - 0s 997us/step - loss: 662.8926\n",
      "Epoch 49/100\n",
      "1/1 [==============================] - 0s 0s/step - loss: 651.3336\n",
      "Epoch 50/100\n",
      "1/1 [==============================] - 0s 997us/step - loss: 640.3177\n",
      "Epoch 51/100\n",
      "1/1 [==============================] - 0s 999us/step - loss: 629.8032\n",
      "Epoch 52/100\n",
      "1/1 [==============================] - 0s 997us/step - loss: 619.7676\n",
      "Epoch 53/100\n",
      "1/1 [==============================] - 0s 0s/step - loss: 610.1893\n",
      "Epoch 54/100\n",
      "1/1 [==============================] - 0s 997us/step - loss: 601.0468\n",
      "Epoch 55/100\n",
      "1/1 [==============================] - 0s 997us/step - loss: 592.3196\n",
      "Epoch 56/100\n",
      "1/1 [==============================] - 0s 997us/step - loss: 583.9880\n",
      "Epoch 57/100\n",
      "1/1 [==============================] - 0s 997us/step - loss: 576.0317\n",
      "Epoch 58/100\n",
      "1/1 [==============================] - 0s 997us/step - loss: 568.4323\n",
      "Epoch 59/100\n",
      "1/1 [==============================] - 0s 997us/step - loss: 561.1711\n",
      "Epoch 60/100\n",
      "1/1 [==============================] - 0s 998us/step - loss: 554.2305\n",
      "Epoch 61/100\n",
      "1/1 [==============================] - 0s 996us/step - loss: 547.5932\n",
      "Epoch 62/100\n",
      "1/1 [==============================] - 0s 998us/step - loss: 541.2428\n",
      "Epoch 63/100\n",
      "1/1 [==============================] - 0s 996us/step - loss: 535.1628\n",
      "Epoch 64/100\n",
      "1/1 [==============================] - 0s 2ms/step - loss: 529.3383\n",
      "Epoch 65/100\n",
      "1/1 [==============================] - 0s 0s/step - loss: 523.7203\n",
      "Epoch 66/100\n",
      "1/1 [==============================] - 0s 2ms/step - loss: 517.9718\n",
      "Epoch 67/100\n",
      "1/1 [==============================] - 0s 998us/step - loss: 512.3996\n",
      "Epoch 68/100\n",
      "1/1 [==============================] - 0s 997us/step - loss: 506.9978\n",
      "Epoch 69/100\n",
      "1/1 [==============================] - 0s 996us/step - loss: 501.7602\n",
      "Epoch 70/100\n",
      "1/1 [==============================] - 0s 996us/step - loss: 496.6803\n",
      "Epoch 71/100\n",
      "1/1 [==============================] - 0s 0s/step - loss: 491.7512\n",
      "Epoch 72/100\n",
      "1/1 [==============================] - 0s 997us/step - loss: 486.9665\n",
      "Epoch 73/100\n",
      "1/1 [==============================] - 0s 998us/step - loss: 482.3193\n",
      "Epoch 74/100\n",
      "1/1 [==============================] - 0s 997us/step - loss: 477.8030\n",
      "Epoch 75/100\n",
      "1/1 [==============================] - 0s 997us/step - loss: 473.4108\n",
      "Epoch 76/100\n",
      "1/1 [==============================] - 0s 2ms/step - loss: 469.1363\n",
      "Epoch 77/100\n",
      "1/1 [==============================] - 0s 2ms/step - loss: 464.9731\n",
      "Epoch 78/100\n",
      "1/1 [==============================] - 0s 997us/step - loss: 460.9150\n",
      "Epoch 79/100\n",
      "1/1 [==============================] - 0s 998us/step - loss: 456.9559\n",
      "Epoch 80/100\n",
      "1/1 [==============================] - 0s 1ms/step - loss: 453.0901\n",
      "Epoch 81/100\n",
      "1/1 [==============================] - 0s 997us/step - loss: 449.3122\n",
      "Epoch 82/100\n",
      "1/1 [==============================] - 0s 997us/step - loss: 445.6165\n",
      "Epoch 83/100\n",
      "1/1 [==============================] - 0s 998us/step - loss: 441.9984\n",
      "Epoch 84/100\n",
      "1/1 [==============================] - 0s 997us/step - loss: 438.4526\n",
      "Epoch 85/100\n",
      "1/1 [==============================] - 0s 997us/step - loss: 434.9749\n",
      "Epoch 86/100\n",
      "1/1 [==============================] - 0s 0s/step - loss: 431.5610\n",
      "Epoch 87/100\n",
      "1/1 [==============================] - 0s 1000us/step - loss: 428.2066\n",
      "Epoch 88/100\n",
      "1/1 [==============================] - 0s 0s/step - loss: 424.9081\n",
      "Epoch 89/100\n",
      "1/1 [==============================] - 0s 998us/step - loss: 421.6619\n",
      "Epoch 90/100\n",
      "1/1 [==============================] - 0s 996us/step - loss: 418.4646\n",
      "Epoch 91/100\n",
      "1/1 [==============================] - 0s 997us/step - loss: 415.3131\n",
      "Epoch 92/100\n",
      "1/1 [==============================] - 0s 0s/step - loss: 412.2047\n",
      "Epoch 93/100\n",
      "1/1 [==============================] - 0s 997us/step - loss: 409.1366\n",
      "Epoch 94/100\n",
      "1/1 [==============================] - 0s 998us/step - loss: 406.1064\n",
      "Epoch 95/100\n",
      "1/1 [==============================] - 0s 996us/step - loss: 403.1119\n",
      "Epoch 96/100\n",
      "1/1 [==============================] - 0s 996us/step - loss: 400.1508\n",
      "Epoch 97/100\n",
      "1/1 [==============================] - 0s 0s/step - loss: 397.2215\n",
      "Epoch 98/100\n",
      "1/1 [==============================] - 0s 998us/step - loss: 394.3221\n",
      "Epoch 99/100\n",
      "1/1 [==============================] - 0s 997us/step - loss: 391.4512\n",
      "Epoch 100/100\n"
     ]
    },
    {
     "name": "stdout",
     "output_type": "stream",
     "text": [
      "1/1 [==============================] - ETA: 0s - loss: 388.6071\b\b\b\b\b\b\b\b\b\b\b\b\b\b\b\b\b\b\b\b\b\b\b\b\b\b\b\b\b\b\b\b\b\b\b\b\b\b\b\b\b\b\b\b\b\b\b\b\b\b\b\b\b\b\b\b\b\b\b\b\b\b\b\r",
      "1/1 [==============================] - 0s 997us/step - loss: 388.6071\n"
     ]
    },
    {
     "data": {
      "text/plain": [
       "<tensorflow.python.keras.callbacks.History at 0x1e03c91c2b0>"
      ]
     },
     "execution_count": 19,
     "metadata": {},
     "output_type": "execute_result"
    }
   ],
   "source": [
    "model.fit(x,y,epochs=100)"
   ]
  },
  {
   "cell_type": "code",
   "execution_count": null,
   "metadata": {},
   "outputs": [],
   "source": []
  }
 ],
 "metadata": {
  "kernelspec": {
   "display_name": "Python 3",
   "language": "python",
   "name": "python3"
  },
  "language_info": {
   "codemirror_mode": {
    "name": "ipython",
    "version": 3
   },
   "file_extension": ".py",
   "mimetype": "text/x-python",
   "name": "python",
   "nbconvert_exporter": "python",
   "pygments_lexer": "ipython3",
   "version": "3.8.3"
  },
  "toc": {
   "base_numbering": 1,
   "nav_menu": {},
   "number_sections": true,
   "sideBar": true,
   "skip_h1_title": false,
   "title_cell": "Table of Contents",
   "title_sidebar": "Contents",
   "toc_cell": false,
   "toc_position": {},
   "toc_section_display": true,
   "toc_window_display": false
  }
 },
 "nbformat": 4,
 "nbformat_minor": 4
}
