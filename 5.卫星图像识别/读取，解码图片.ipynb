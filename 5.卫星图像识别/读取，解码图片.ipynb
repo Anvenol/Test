{
 "cells": [
  {
   "cell_type": "code",
   "execution_count": 169,
   "metadata": {},
   "outputs": [],
   "source": [
    "import tensorflow as tf\n",
    "import matplotlib.pyplot as plt\n",
    "%matplotlib inline\n",
    "import numpy as np\n",
    "import pathlib"
   ]
  },
  {
   "cell_type": "code",
   "execution_count": 170,
   "metadata": {},
   "outputs": [],
   "source": [
    "data_dir='D:/Study/深度学习/日月光华-tensorflow入门与实战资料/数据集/卫星图像识别数据/2_class'"
   ]
  },
  {
   "cell_type": "code",
   "execution_count": 171,
   "metadata": {},
   "outputs": [],
   "source": [
    "data_root=pathlib.Path(data_dir)"
   ]
  },
  {
   "cell_type": "code",
   "execution_count": 172,
   "metadata": {},
   "outputs": [
    {
     "data": {
      "text/plain": [
       "WindowsPath('D:/Study/深度学习/日月光华-tensorflow入门与实战资料/数据集/卫星图像识别数据/2_class')"
      ]
     },
     "execution_count": 172,
     "metadata": {},
     "output_type": "execute_result"
    }
   ],
   "source": [
    "data_root"
   ]
  },
  {
   "cell_type": "code",
   "execution_count": 173,
   "metadata": {},
   "outputs": [
    {
     "name": "stdout",
     "output_type": "stream",
     "text": [
      "D:\\Study\\深度学习\\日月光华-tensorflow入门与实战资料\\数据集\\卫星图像识别数据\\2_class\\airplane\n",
      "D:\\Study\\深度学习\\日月光华-tensorflow入门与实战资料\\数据集\\卫星图像识别数据\\2_class\\lake\n"
     ]
    }
   ],
   "source": [
    "for item in data_root.iterdir():\n",
    "    print (item)"
   ]
  },
  {
   "cell_type": "code",
   "execution_count": 174,
   "metadata": {},
   "outputs": [],
   "source": [
    "all_image_path=list(data_root.glob('*/*'))#提取所有文件,并变成列表"
   ]
  },
  {
   "cell_type": "code",
   "execution_count": 175,
   "metadata": {},
   "outputs": [
    {
     "data": {
      "text/plain": [
       "1400"
      ]
     },
     "execution_count": 175,
     "metadata": {},
     "output_type": "execute_result"
    }
   ],
   "source": [
    "len(all_image_path)"
   ]
  },
  {
   "cell_type": "code",
   "execution_count": 176,
   "metadata": {},
   "outputs": [
    {
     "data": {
      "text/plain": [
       "[WindowsPath('D:/Study/深度学习/日月光华-tensorflow入门与实战资料/数据集/卫星图像识别数据/2_class/airplane/airplane_004.jpg'),\n",
       " WindowsPath('D:/Study/深度学习/日月光华-tensorflow入门与实战资料/数据集/卫星图像识别数据/2_class/airplane/airplane_005.jpg'),\n",
       " WindowsPath('D:/Study/深度学习/日月光华-tensorflow入门与实战资料/数据集/卫星图像识别数据/2_class/airplane/airplane_006.jpg'),\n",
       " WindowsPath('D:/Study/深度学习/日月光华-tensorflow入门与实战资料/数据集/卫星图像识别数据/2_class/airplane/airplane_007.jpg'),\n",
       " WindowsPath('D:/Study/深度学习/日月光华-tensorflow入门与实战资料/数据集/卫星图像识别数据/2_class/airplane/airplane_008.jpg'),\n",
       " WindowsPath('D:/Study/深度学习/日月光华-tensorflow入门与实战资料/数据集/卫星图像识别数据/2_class/airplane/airplane_009.jpg'),\n",
       " WindowsPath('D:/Study/深度学习/日月光华-tensorflow入门与实战资料/数据集/卫星图像识别数据/2_class/airplane/airplane_010.jpg'),\n",
       " WindowsPath('D:/Study/深度学习/日月光华-tensorflow入门与实战资料/数据集/卫星图像识别数据/2_class/airplane/airplane_011.jpg'),\n",
       " WindowsPath('D:/Study/深度学习/日月光华-tensorflow入门与实战资料/数据集/卫星图像识别数据/2_class/airplane/airplane_012.jpg'),\n",
       " WindowsPath('D:/Study/深度学习/日月光华-tensorflow入门与实战资料/数据集/卫星图像识别数据/2_class/airplane/airplane_013.jpg'),\n",
       " WindowsPath('D:/Study/深度学习/日月光华-tensorflow入门与实战资料/数据集/卫星图像识别数据/2_class/airplane/airplane_014.jpg'),\n",
       " WindowsPath('D:/Study/深度学习/日月光华-tensorflow入门与实战资料/数据集/卫星图像识别数据/2_class/airplane/airplane_015.jpg'),\n",
       " WindowsPath('D:/Study/深度学习/日月光华-tensorflow入门与实战资料/数据集/卫星图像识别数据/2_class/airplane/airplane_016.jpg'),\n",
       " WindowsPath('D:/Study/深度学习/日月光华-tensorflow入门与实战资料/数据集/卫星图像识别数据/2_class/airplane/airplane_017.jpg'),\n",
       " WindowsPath('D:/Study/深度学习/日月光华-tensorflow入门与实战资料/数据集/卫星图像识别数据/2_class/airplane/airplane_018.jpg'),\n",
       " WindowsPath('D:/Study/深度学习/日月光华-tensorflow入门与实战资料/数据集/卫星图像识别数据/2_class/airplane/airplane_019.jpg'),\n",
       " WindowsPath('D:/Study/深度学习/日月光华-tensorflow入门与实战资料/数据集/卫星图像识别数据/2_class/airplane/airplane_020.jpg'),\n",
       " WindowsPath('D:/Study/深度学习/日月光华-tensorflow入门与实战资料/数据集/卫星图像识别数据/2_class/airplane/airplane_021.jpg'),\n",
       " WindowsPath('D:/Study/深度学习/日月光华-tensorflow入门与实战资料/数据集/卫星图像识别数据/2_class/airplane/airplane_022.jpg'),\n",
       " WindowsPath('D:/Study/深度学习/日月光华-tensorflow入门与实战资料/数据集/卫星图像识别数据/2_class/airplane/airplane_023.jpg'),\n",
       " WindowsPath('D:/Study/深度学习/日月光华-tensorflow入门与实战资料/数据集/卫星图像识别数据/2_class/airplane/airplane_024.jpg'),\n",
       " WindowsPath('D:/Study/深度学习/日月光华-tensorflow入门与实战资料/数据集/卫星图像识别数据/2_class/airplane/airplane_025.jpg'),\n",
       " WindowsPath('D:/Study/深度学习/日月光华-tensorflow入门与实战资料/数据集/卫星图像识别数据/2_class/airplane/airplane_026.jpg'),\n",
       " WindowsPath('D:/Study/深度学习/日月光华-tensorflow入门与实战资料/数据集/卫星图像识别数据/2_class/airplane/airplane_027.jpg'),\n",
       " WindowsPath('D:/Study/深度学习/日月光华-tensorflow入门与实战资料/数据集/卫星图像识别数据/2_class/airplane/airplane_028.jpg'),\n",
       " WindowsPath('D:/Study/深度学习/日月光华-tensorflow入门与实战资料/数据集/卫星图像识别数据/2_class/airplane/airplane_029.jpg'),\n",
       " WindowsPath('D:/Study/深度学习/日月光华-tensorflow入门与实战资料/数据集/卫星图像识别数据/2_class/airplane/airplane_030.jpg'),\n",
       " WindowsPath('D:/Study/深度学习/日月光华-tensorflow入门与实战资料/数据集/卫星图像识别数据/2_class/airplane/airplane_031.jpg'),\n",
       " WindowsPath('D:/Study/深度学习/日月光华-tensorflow入门与实战资料/数据集/卫星图像识别数据/2_class/airplane/airplane_032.jpg'),\n",
       " WindowsPath('D:/Study/深度学习/日月光华-tensorflow入门与实战资料/数据集/卫星图像识别数据/2_class/airplane/airplane_033.jpg'),\n",
       " WindowsPath('D:/Study/深度学习/日月光华-tensorflow入门与实战资料/数据集/卫星图像识别数据/2_class/airplane/airplane_034.jpg'),\n",
       " WindowsPath('D:/Study/深度学习/日月光华-tensorflow入门与实战资料/数据集/卫星图像识别数据/2_class/airplane/airplane_035.jpg'),\n",
       " WindowsPath('D:/Study/深度学习/日月光华-tensorflow入门与实战资料/数据集/卫星图像识别数据/2_class/airplane/airplane_036.jpg'),\n",
       " WindowsPath('D:/Study/深度学习/日月光华-tensorflow入门与实战资料/数据集/卫星图像识别数据/2_class/airplane/airplane_037.jpg'),\n",
       " WindowsPath('D:/Study/深度学习/日月光华-tensorflow入门与实战资料/数据集/卫星图像识别数据/2_class/airplane/airplane_038.jpg'),\n",
       " WindowsPath('D:/Study/深度学习/日月光华-tensorflow入门与实战资料/数据集/卫星图像识别数据/2_class/airplane/airplane_039.jpg'),\n",
       " WindowsPath('D:/Study/深度学习/日月光华-tensorflow入门与实战资料/数据集/卫星图像识别数据/2_class/airplane/airplane_040.jpg'),\n",
       " WindowsPath('D:/Study/深度学习/日月光华-tensorflow入门与实战资料/数据集/卫星图像识别数据/2_class/airplane/airplane_041.jpg'),\n",
       " WindowsPath('D:/Study/深度学习/日月光华-tensorflow入门与实战资料/数据集/卫星图像识别数据/2_class/airplane/airplane_042.jpg'),\n",
       " WindowsPath('D:/Study/深度学习/日月光华-tensorflow入门与实战资料/数据集/卫星图像识别数据/2_class/airplane/airplane_043.jpg'),\n",
       " WindowsPath('D:/Study/深度学习/日月光华-tensorflow入门与实战资料/数据集/卫星图像识别数据/2_class/airplane/airplane_044.jpg'),\n",
       " WindowsPath('D:/Study/深度学习/日月光华-tensorflow入门与实战资料/数据集/卫星图像识别数据/2_class/airplane/airplane_045.jpg'),\n",
       " WindowsPath('D:/Study/深度学习/日月光华-tensorflow入门与实战资料/数据集/卫星图像识别数据/2_class/airplane/airplane_046.jpg'),\n",
       " WindowsPath('D:/Study/深度学习/日月光华-tensorflow入门与实战资料/数据集/卫星图像识别数据/2_class/airplane/airplane_047.jpg'),\n",
       " WindowsPath('D:/Study/深度学习/日月光华-tensorflow入门与实战资料/数据集/卫星图像识别数据/2_class/airplane/airplane_048.jpg'),\n",
       " WindowsPath('D:/Study/深度学习/日月光华-tensorflow入门与实战资料/数据集/卫星图像识别数据/2_class/airplane/airplane_049.jpg'),\n",
       " WindowsPath('D:/Study/深度学习/日月光华-tensorflow入门与实战资料/数据集/卫星图像识别数据/2_class/airplane/airplane_050.jpg'),\n",
       " WindowsPath('D:/Study/深度学习/日月光华-tensorflow入门与实战资料/数据集/卫星图像识别数据/2_class/airplane/airplane_051.jpg'),\n",
       " WindowsPath('D:/Study/深度学习/日月光华-tensorflow入门与实战资料/数据集/卫星图像识别数据/2_class/airplane/airplane_052.jpg'),\n",
       " WindowsPath('D:/Study/深度学习/日月光华-tensorflow入门与实战资料/数据集/卫星图像识别数据/2_class/airplane/airplane_053.jpg'),\n",
       " WindowsPath('D:/Study/深度学习/日月光华-tensorflow入门与实战资料/数据集/卫星图像识别数据/2_class/airplane/airplane_054.jpg'),\n",
       " WindowsPath('D:/Study/深度学习/日月光华-tensorflow入门与实战资料/数据集/卫星图像识别数据/2_class/airplane/airplane_055.jpg'),\n",
       " WindowsPath('D:/Study/深度学习/日月光华-tensorflow入门与实战资料/数据集/卫星图像识别数据/2_class/airplane/airplane_056.jpg'),\n",
       " WindowsPath('D:/Study/深度学习/日月光华-tensorflow入门与实战资料/数据集/卫星图像识别数据/2_class/airplane/airplane_057.jpg'),\n",
       " WindowsPath('D:/Study/深度学习/日月光华-tensorflow入门与实战资料/数据集/卫星图像识别数据/2_class/airplane/airplane_058.jpg'),\n",
       " WindowsPath('D:/Study/深度学习/日月光华-tensorflow入门与实战资料/数据集/卫星图像识别数据/2_class/airplane/airplane_059.jpg'),\n",
       " WindowsPath('D:/Study/深度学习/日月光华-tensorflow入门与实战资料/数据集/卫星图像识别数据/2_class/airplane/airplane_060.jpg'),\n",
       " WindowsPath('D:/Study/深度学习/日月光华-tensorflow入门与实战资料/数据集/卫星图像识别数据/2_class/airplane/airplane_061.jpg'),\n",
       " WindowsPath('D:/Study/深度学习/日月光华-tensorflow入门与实战资料/数据集/卫星图像识别数据/2_class/airplane/airplane_062.jpg'),\n",
       " WindowsPath('D:/Study/深度学习/日月光华-tensorflow入门与实战资料/数据集/卫星图像识别数据/2_class/airplane/airplane_063.jpg'),\n",
       " WindowsPath('D:/Study/深度学习/日月光华-tensorflow入门与实战资料/数据集/卫星图像识别数据/2_class/airplane/airplane_064.jpg'),\n",
       " WindowsPath('D:/Study/深度学习/日月光华-tensorflow入门与实战资料/数据集/卫星图像识别数据/2_class/airplane/airplane_065.jpg'),\n",
       " WindowsPath('D:/Study/深度学习/日月光华-tensorflow入门与实战资料/数据集/卫星图像识别数据/2_class/airplane/airplane_066.jpg'),\n",
       " WindowsPath('D:/Study/深度学习/日月光华-tensorflow入门与实战资料/数据集/卫星图像识别数据/2_class/airplane/airplane_067.jpg'),\n",
       " WindowsPath('D:/Study/深度学习/日月光华-tensorflow入门与实战资料/数据集/卫星图像识别数据/2_class/airplane/airplane_068.jpg'),\n",
       " WindowsPath('D:/Study/深度学习/日月光华-tensorflow入门与实战资料/数据集/卫星图像识别数据/2_class/airplane/airplane_069.jpg'),\n",
       " WindowsPath('D:/Study/深度学习/日月光华-tensorflow入门与实战资料/数据集/卫星图像识别数据/2_class/airplane/airplane_070.jpg'),\n",
       " WindowsPath('D:/Study/深度学习/日月光华-tensorflow入门与实战资料/数据集/卫星图像识别数据/2_class/airplane/airplane_071.jpg'),\n",
       " WindowsPath('D:/Study/深度学习/日月光华-tensorflow入门与实战资料/数据集/卫星图像识别数据/2_class/airplane/airplane_072.jpg'),\n",
       " WindowsPath('D:/Study/深度学习/日月光华-tensorflow入门与实战资料/数据集/卫星图像识别数据/2_class/airplane/airplane_073.jpg'),\n",
       " WindowsPath('D:/Study/深度学习/日月光华-tensorflow入门与实战资料/数据集/卫星图像识别数据/2_class/airplane/airplane_074.jpg'),\n",
       " WindowsPath('D:/Study/深度学习/日月光华-tensorflow入门与实战资料/数据集/卫星图像识别数据/2_class/airplane/airplane_075.jpg'),\n",
       " WindowsPath('D:/Study/深度学习/日月光华-tensorflow入门与实战资料/数据集/卫星图像识别数据/2_class/airplane/airplane_076.jpg'),\n",
       " WindowsPath('D:/Study/深度学习/日月光华-tensorflow入门与实战资料/数据集/卫星图像识别数据/2_class/airplane/airplane_077.jpg'),\n",
       " WindowsPath('D:/Study/深度学习/日月光华-tensorflow入门与实战资料/数据集/卫星图像识别数据/2_class/airplane/airplane_078.jpg'),\n",
       " WindowsPath('D:/Study/深度学习/日月光华-tensorflow入门与实战资料/数据集/卫星图像识别数据/2_class/airplane/airplane_079.jpg'),\n",
       " WindowsPath('D:/Study/深度学习/日月光华-tensorflow入门与实战资料/数据集/卫星图像识别数据/2_class/airplane/airplane_080.jpg'),\n",
       " WindowsPath('D:/Study/深度学习/日月光华-tensorflow入门与实战资料/数据集/卫星图像识别数据/2_class/airplane/airplane_081.jpg'),\n",
       " WindowsPath('D:/Study/深度学习/日月光华-tensorflow入门与实战资料/数据集/卫星图像识别数据/2_class/airplane/airplane_082.jpg'),\n",
       " WindowsPath('D:/Study/深度学习/日月光华-tensorflow入门与实战资料/数据集/卫星图像识别数据/2_class/airplane/airplane_083.jpg'),\n",
       " WindowsPath('D:/Study/深度学习/日月光华-tensorflow入门与实战资料/数据集/卫星图像识别数据/2_class/airplane/airplane_084.jpg'),\n",
       " WindowsPath('D:/Study/深度学习/日月光华-tensorflow入门与实战资料/数据集/卫星图像识别数据/2_class/airplane/airplane_085.jpg'),\n",
       " WindowsPath('D:/Study/深度学习/日月光华-tensorflow入门与实战资料/数据集/卫星图像识别数据/2_class/airplane/airplane_086.jpg'),\n",
       " WindowsPath('D:/Study/深度学习/日月光华-tensorflow入门与实战资料/数据集/卫星图像识别数据/2_class/airplane/airplane_087.jpg'),\n",
       " WindowsPath('D:/Study/深度学习/日月光华-tensorflow入门与实战资料/数据集/卫星图像识别数据/2_class/airplane/airplane_088.jpg'),\n",
       " WindowsPath('D:/Study/深度学习/日月光华-tensorflow入门与实战资料/数据集/卫星图像识别数据/2_class/airplane/airplane_089.jpg'),\n",
       " WindowsPath('D:/Study/深度学习/日月光华-tensorflow入门与实战资料/数据集/卫星图像识别数据/2_class/airplane/airplane_090.jpg'),\n",
       " WindowsPath('D:/Study/深度学习/日月光华-tensorflow入门与实战资料/数据集/卫星图像识别数据/2_class/airplane/airplane_091.jpg'),\n",
       " WindowsPath('D:/Study/深度学习/日月光华-tensorflow入门与实战资料/数据集/卫星图像识别数据/2_class/airplane/airplane_092.jpg'),\n",
       " WindowsPath('D:/Study/深度学习/日月光华-tensorflow入门与实战资料/数据集/卫星图像识别数据/2_class/airplane/airplane_093.jpg'),\n",
       " WindowsPath('D:/Study/深度学习/日月光华-tensorflow入门与实战资料/数据集/卫星图像识别数据/2_class/airplane/airplane_094.jpg'),\n",
       " WindowsPath('D:/Study/深度学习/日月光华-tensorflow入门与实战资料/数据集/卫星图像识别数据/2_class/airplane/airplane_095.jpg'),\n",
       " WindowsPath('D:/Study/深度学习/日月光华-tensorflow入门与实战资料/数据集/卫星图像识别数据/2_class/airplane/airplane_096.jpg'),\n",
       " WindowsPath('D:/Study/深度学习/日月光华-tensorflow入门与实战资料/数据集/卫星图像识别数据/2_class/airplane/airplane_097.jpg'),\n",
       " WindowsPath('D:/Study/深度学习/日月光华-tensorflow入门与实战资料/数据集/卫星图像识别数据/2_class/airplane/airplane_098.jpg'),\n",
       " WindowsPath('D:/Study/深度学习/日月光华-tensorflow入门与实战资料/数据集/卫星图像识别数据/2_class/airplane/airplane_099.jpg'),\n",
       " WindowsPath('D:/Study/深度学习/日月光华-tensorflow入门与实战资料/数据集/卫星图像识别数据/2_class/airplane/airplane_100.jpg'),\n",
       " WindowsPath('D:/Study/深度学习/日月光华-tensorflow入门与实战资料/数据集/卫星图像识别数据/2_class/airplane/airplane_101.jpg'),\n",
       " WindowsPath('D:/Study/深度学习/日月光华-tensorflow入门与实战资料/数据集/卫星图像识别数据/2_class/airplane/airplane_102.jpg'),\n",
       " WindowsPath('D:/Study/深度学习/日月光华-tensorflow入门与实战资料/数据集/卫星图像识别数据/2_class/airplane/airplane_103.jpg'),\n",
       " WindowsPath('D:/Study/深度学习/日月光华-tensorflow入门与实战资料/数据集/卫星图像识别数据/2_class/airplane/airplane_104.jpg'),\n",
       " WindowsPath('D:/Study/深度学习/日月光华-tensorflow入门与实战资料/数据集/卫星图像识别数据/2_class/airplane/airplane_105.jpg'),\n",
       " WindowsPath('D:/Study/深度学习/日月光华-tensorflow入门与实战资料/数据集/卫星图像识别数据/2_class/airplane/airplane_106.jpg'),\n",
       " WindowsPath('D:/Study/深度学习/日月光华-tensorflow入门与实战资料/数据集/卫星图像识别数据/2_class/airplane/airplane_107.jpg'),\n",
       " WindowsPath('D:/Study/深度学习/日月光华-tensorflow入门与实战资料/数据集/卫星图像识别数据/2_class/airplane/airplane_108.jpg'),\n",
       " WindowsPath('D:/Study/深度学习/日月光华-tensorflow入门与实战资料/数据集/卫星图像识别数据/2_class/airplane/airplane_109.jpg'),\n",
       " WindowsPath('D:/Study/深度学习/日月光华-tensorflow入门与实战资料/数据集/卫星图像识别数据/2_class/airplane/airplane_110.jpg'),\n",
       " WindowsPath('D:/Study/深度学习/日月光华-tensorflow入门与实战资料/数据集/卫星图像识别数据/2_class/airplane/airplane_111.jpg'),\n",
       " WindowsPath('D:/Study/深度学习/日月光华-tensorflow入门与实战资料/数据集/卫星图像识别数据/2_class/airplane/airplane_112.jpg'),\n",
       " WindowsPath('D:/Study/深度学习/日月光华-tensorflow入门与实战资料/数据集/卫星图像识别数据/2_class/airplane/airplane_113.jpg'),\n",
       " WindowsPath('D:/Study/深度学习/日月光华-tensorflow入门与实战资料/数据集/卫星图像识别数据/2_class/airplane/airplane_114.jpg'),\n",
       " WindowsPath('D:/Study/深度学习/日月光华-tensorflow入门与实战资料/数据集/卫星图像识别数据/2_class/airplane/airplane_115.jpg'),\n",
       " WindowsPath('D:/Study/深度学习/日月光华-tensorflow入门与实战资料/数据集/卫星图像识别数据/2_class/airplane/airplane_116.jpg'),\n",
       " WindowsPath('D:/Study/深度学习/日月光华-tensorflow入门与实战资料/数据集/卫星图像识别数据/2_class/airplane/airplane_117.jpg'),\n",
       " WindowsPath('D:/Study/深度学习/日月光华-tensorflow入门与实战资料/数据集/卫星图像识别数据/2_class/airplane/airplane_118.jpg'),\n",
       " WindowsPath('D:/Study/深度学习/日月光华-tensorflow入门与实战资料/数据集/卫星图像识别数据/2_class/airplane/airplane_119.jpg'),\n",
       " WindowsPath('D:/Study/深度学习/日月光华-tensorflow入门与实战资料/数据集/卫星图像识别数据/2_class/airplane/airplane_120.jpg'),\n",
       " WindowsPath('D:/Study/深度学习/日月光华-tensorflow入门与实战资料/数据集/卫星图像识别数据/2_class/airplane/airplane_121.jpg'),\n",
       " WindowsPath('D:/Study/深度学习/日月光华-tensorflow入门与实战资料/数据集/卫星图像识别数据/2_class/airplane/airplane_122.jpg'),\n",
       " WindowsPath('D:/Study/深度学习/日月光华-tensorflow入门与实战资料/数据集/卫星图像识别数据/2_class/airplane/airplane_123.jpg'),\n",
       " WindowsPath('D:/Study/深度学习/日月光华-tensorflow入门与实战资料/数据集/卫星图像识别数据/2_class/airplane/airplane_124.jpg'),\n",
       " WindowsPath('D:/Study/深度学习/日月光华-tensorflow入门与实战资料/数据集/卫星图像识别数据/2_class/airplane/airplane_125.jpg'),\n",
       " WindowsPath('D:/Study/深度学习/日月光华-tensorflow入门与实战资料/数据集/卫星图像识别数据/2_class/airplane/airplane_126.jpg'),\n",
       " WindowsPath('D:/Study/深度学习/日月光华-tensorflow入门与实战资料/数据集/卫星图像识别数据/2_class/airplane/airplane_127.jpg'),\n",
       " WindowsPath('D:/Study/深度学习/日月光华-tensorflow入门与实战资料/数据集/卫星图像识别数据/2_class/airplane/airplane_128.jpg'),\n",
       " WindowsPath('D:/Study/深度学习/日月光华-tensorflow入门与实战资料/数据集/卫星图像识别数据/2_class/airplane/airplane_129.jpg'),\n",
       " WindowsPath('D:/Study/深度学习/日月光华-tensorflow入门与实战资料/数据集/卫星图像识别数据/2_class/airplane/airplane_130.jpg'),\n",
       " WindowsPath('D:/Study/深度学习/日月光华-tensorflow入门与实战资料/数据集/卫星图像识别数据/2_class/airplane/airplane_131.jpg'),\n",
       " WindowsPath('D:/Study/深度学习/日月光华-tensorflow入门与实战资料/数据集/卫星图像识别数据/2_class/airplane/airplane_132.jpg'),\n",
       " WindowsPath('D:/Study/深度学习/日月光华-tensorflow入门与实战资料/数据集/卫星图像识别数据/2_class/airplane/airplane_133.jpg'),\n",
       " WindowsPath('D:/Study/深度学习/日月光华-tensorflow入门与实战资料/数据集/卫星图像识别数据/2_class/airplane/airplane_134.jpg'),\n",
       " WindowsPath('D:/Study/深度学习/日月光华-tensorflow入门与实战资料/数据集/卫星图像识别数据/2_class/airplane/airplane_135.jpg'),\n",
       " WindowsPath('D:/Study/深度学习/日月光华-tensorflow入门与实战资料/数据集/卫星图像识别数据/2_class/airplane/airplane_136.jpg'),\n",
       " WindowsPath('D:/Study/深度学习/日月光华-tensorflow入门与实战资料/数据集/卫星图像识别数据/2_class/airplane/airplane_137.jpg'),\n",
       " WindowsPath('D:/Study/深度学习/日月光华-tensorflow入门与实战资料/数据集/卫星图像识别数据/2_class/airplane/airplane_138.jpg'),\n",
       " WindowsPath('D:/Study/深度学习/日月光华-tensorflow入门与实战资料/数据集/卫星图像识别数据/2_class/airplane/airplane_139.jpg'),\n",
       " WindowsPath('D:/Study/深度学习/日月光华-tensorflow入门与实战资料/数据集/卫星图像识别数据/2_class/airplane/airplane_140.jpg'),\n",
       " WindowsPath('D:/Study/深度学习/日月光华-tensorflow入门与实战资料/数据集/卫星图像识别数据/2_class/airplane/airplane_141.jpg'),\n",
       " WindowsPath('D:/Study/深度学习/日月光华-tensorflow入门与实战资料/数据集/卫星图像识别数据/2_class/airplane/airplane_142.jpg'),\n",
       " WindowsPath('D:/Study/深度学习/日月光华-tensorflow入门与实战资料/数据集/卫星图像识别数据/2_class/airplane/airplane_143.jpg'),\n",
       " WindowsPath('D:/Study/深度学习/日月光华-tensorflow入门与实战资料/数据集/卫星图像识别数据/2_class/airplane/airplane_144.jpg'),\n",
       " WindowsPath('D:/Study/深度学习/日月光华-tensorflow入门与实战资料/数据集/卫星图像识别数据/2_class/airplane/airplane_145.jpg'),\n",
       " WindowsPath('D:/Study/深度学习/日月光华-tensorflow入门与实战资料/数据集/卫星图像识别数据/2_class/airplane/airplane_146.jpg'),\n",
       " WindowsPath('D:/Study/深度学习/日月光华-tensorflow入门与实战资料/数据集/卫星图像识别数据/2_class/airplane/airplane_147.jpg'),\n",
       " WindowsPath('D:/Study/深度学习/日月光华-tensorflow入门与实战资料/数据集/卫星图像识别数据/2_class/airplane/airplane_148.jpg'),\n",
       " WindowsPath('D:/Study/深度学习/日月光华-tensorflow入门与实战资料/数据集/卫星图像识别数据/2_class/airplane/airplane_149.jpg'),\n",
       " WindowsPath('D:/Study/深度学习/日月光华-tensorflow入门与实战资料/数据集/卫星图像识别数据/2_class/airplane/airplane_150.jpg'),\n",
       " WindowsPath('D:/Study/深度学习/日月光华-tensorflow入门与实战资料/数据集/卫星图像识别数据/2_class/airplane/airplane_151.jpg'),\n",
       " WindowsPath('D:/Study/深度学习/日月光华-tensorflow入门与实战资料/数据集/卫星图像识别数据/2_class/airplane/airplane_152.jpg'),\n",
       " WindowsPath('D:/Study/深度学习/日月光华-tensorflow入门与实战资料/数据集/卫星图像识别数据/2_class/airplane/airplane_153.jpg'),\n",
       " WindowsPath('D:/Study/深度学习/日月光华-tensorflow入门与实战资料/数据集/卫星图像识别数据/2_class/airplane/airplane_154.jpg'),\n",
       " WindowsPath('D:/Study/深度学习/日月光华-tensorflow入门与实战资料/数据集/卫星图像识别数据/2_class/airplane/airplane_155.jpg'),\n",
       " WindowsPath('D:/Study/深度学习/日月光华-tensorflow入门与实战资料/数据集/卫星图像识别数据/2_class/airplane/airplane_156.jpg'),\n",
       " WindowsPath('D:/Study/深度学习/日月光华-tensorflow入门与实战资料/数据集/卫星图像识别数据/2_class/airplane/airplane_157.jpg'),\n",
       " WindowsPath('D:/Study/深度学习/日月光华-tensorflow入门与实战资料/数据集/卫星图像识别数据/2_class/airplane/airplane_158.jpg'),\n",
       " WindowsPath('D:/Study/深度学习/日月光华-tensorflow入门与实战资料/数据集/卫星图像识别数据/2_class/airplane/airplane_159.jpg'),\n",
       " WindowsPath('D:/Study/深度学习/日月光华-tensorflow入门与实战资料/数据集/卫星图像识别数据/2_class/airplane/airplane_160.jpg'),\n",
       " WindowsPath('D:/Study/深度学习/日月光华-tensorflow入门与实战资料/数据集/卫星图像识别数据/2_class/airplane/airplane_161.jpg'),\n",
       " WindowsPath('D:/Study/深度学习/日月光华-tensorflow入门与实战资料/数据集/卫星图像识别数据/2_class/airplane/airplane_162.jpg'),\n",
       " WindowsPath('D:/Study/深度学习/日月光华-tensorflow入门与实战资料/数据集/卫星图像识别数据/2_class/airplane/airplane_163.jpg'),\n",
       " WindowsPath('D:/Study/深度学习/日月光华-tensorflow入门与实战资料/数据集/卫星图像识别数据/2_class/airplane/airplane_164.jpg'),\n",
       " WindowsPath('D:/Study/深度学习/日月光华-tensorflow入门与实战资料/数据集/卫星图像识别数据/2_class/airplane/airplane_165.jpg'),\n",
       " WindowsPath('D:/Study/深度学习/日月光华-tensorflow入门与实战资料/数据集/卫星图像识别数据/2_class/airplane/airplane_166.jpg'),\n",
       " WindowsPath('D:/Study/深度学习/日月光华-tensorflow入门与实战资料/数据集/卫星图像识别数据/2_class/airplane/airplane_167.jpg'),\n",
       " WindowsPath('D:/Study/深度学习/日月光华-tensorflow入门与实战资料/数据集/卫星图像识别数据/2_class/airplane/airplane_168.jpg'),\n",
       " WindowsPath('D:/Study/深度学习/日月光华-tensorflow入门与实战资料/数据集/卫星图像识别数据/2_class/airplane/airplane_169.jpg'),\n",
       " WindowsPath('D:/Study/深度学习/日月光华-tensorflow入门与实战资料/数据集/卫星图像识别数据/2_class/airplane/airplane_170.jpg'),\n",
       " WindowsPath('D:/Study/深度学习/日月光华-tensorflow入门与实战资料/数据集/卫星图像识别数据/2_class/airplane/airplane_171.jpg'),\n",
       " WindowsPath('D:/Study/深度学习/日月光华-tensorflow入门与实战资料/数据集/卫星图像识别数据/2_class/airplane/airplane_172.jpg'),\n",
       " WindowsPath('D:/Study/深度学习/日月光华-tensorflow入门与实战资料/数据集/卫星图像识别数据/2_class/airplane/airplane_173.jpg'),\n",
       " WindowsPath('D:/Study/深度学习/日月光华-tensorflow入门与实战资料/数据集/卫星图像识别数据/2_class/airplane/airplane_174.jpg'),\n",
       " WindowsPath('D:/Study/深度学习/日月光华-tensorflow入门与实战资料/数据集/卫星图像识别数据/2_class/airplane/airplane_175.jpg'),\n",
       " WindowsPath('D:/Study/深度学习/日月光华-tensorflow入门与实战资料/数据集/卫星图像识别数据/2_class/airplane/airplane_176.jpg'),\n",
       " WindowsPath('D:/Study/深度学习/日月光华-tensorflow入门与实战资料/数据集/卫星图像识别数据/2_class/airplane/airplane_177.jpg'),\n",
       " WindowsPath('D:/Study/深度学习/日月光华-tensorflow入门与实战资料/数据集/卫星图像识别数据/2_class/airplane/airplane_178.jpg'),\n",
       " WindowsPath('D:/Study/深度学习/日月光华-tensorflow入门与实战资料/数据集/卫星图像识别数据/2_class/airplane/airplane_179.jpg'),\n",
       " WindowsPath('D:/Study/深度学习/日月光华-tensorflow入门与实战资料/数据集/卫星图像识别数据/2_class/airplane/airplane_180.jpg'),\n",
       " WindowsPath('D:/Study/深度学习/日月光华-tensorflow入门与实战资料/数据集/卫星图像识别数据/2_class/airplane/airplane_181.jpg'),\n",
       " WindowsPath('D:/Study/深度学习/日月光华-tensorflow入门与实战资料/数据集/卫星图像识别数据/2_class/airplane/airplane_182.jpg'),\n",
       " WindowsPath('D:/Study/深度学习/日月光华-tensorflow入门与实战资料/数据集/卫星图像识别数据/2_class/airplane/airplane_183.jpg'),\n",
       " WindowsPath('D:/Study/深度学习/日月光华-tensorflow入门与实战资料/数据集/卫星图像识别数据/2_class/airplane/airplane_184.jpg'),\n",
       " WindowsPath('D:/Study/深度学习/日月光华-tensorflow入门与实战资料/数据集/卫星图像识别数据/2_class/airplane/airplane_185.jpg'),\n",
       " WindowsPath('D:/Study/深度学习/日月光华-tensorflow入门与实战资料/数据集/卫星图像识别数据/2_class/airplane/airplane_186.jpg'),\n",
       " WindowsPath('D:/Study/深度学习/日月光华-tensorflow入门与实战资料/数据集/卫星图像识别数据/2_class/airplane/airplane_187.jpg'),\n",
       " WindowsPath('D:/Study/深度学习/日月光华-tensorflow入门与实战资料/数据集/卫星图像识别数据/2_class/airplane/airplane_188.jpg'),\n",
       " WindowsPath('D:/Study/深度学习/日月光华-tensorflow入门与实战资料/数据集/卫星图像识别数据/2_class/airplane/airplane_189.jpg'),\n",
       " WindowsPath('D:/Study/深度学习/日月光华-tensorflow入门与实战资料/数据集/卫星图像识别数据/2_class/airplane/airplane_190.jpg'),\n",
       " WindowsPath('D:/Study/深度学习/日月光华-tensorflow入门与实战资料/数据集/卫星图像识别数据/2_class/airplane/airplane_191.jpg'),\n",
       " WindowsPath('D:/Study/深度学习/日月光华-tensorflow入门与实战资料/数据集/卫星图像识别数据/2_class/airplane/airplane_192.jpg'),\n",
       " WindowsPath('D:/Study/深度学习/日月光华-tensorflow入门与实战资料/数据集/卫星图像识别数据/2_class/airplane/airplane_193.jpg'),\n",
       " WindowsPath('D:/Study/深度学习/日月光华-tensorflow入门与实战资料/数据集/卫星图像识别数据/2_class/airplane/airplane_194.jpg'),\n",
       " WindowsPath('D:/Study/深度学习/日月光华-tensorflow入门与实战资料/数据集/卫星图像识别数据/2_class/airplane/airplane_195.jpg'),\n",
       " WindowsPath('D:/Study/深度学习/日月光华-tensorflow入门与实战资料/数据集/卫星图像识别数据/2_class/airplane/airplane_196.jpg'),\n",
       " WindowsPath('D:/Study/深度学习/日月光华-tensorflow入门与实战资料/数据集/卫星图像识别数据/2_class/airplane/airplane_197.jpg'),\n",
       " WindowsPath('D:/Study/深度学习/日月光华-tensorflow入门与实战资料/数据集/卫星图像识别数据/2_class/airplane/airplane_198.jpg'),\n",
       " WindowsPath('D:/Study/深度学习/日月光华-tensorflow入门与实战资料/数据集/卫星图像识别数据/2_class/airplane/airplane_199.jpg'),\n",
       " WindowsPath('D:/Study/深度学习/日月光华-tensorflow入门与实战资料/数据集/卫星图像识别数据/2_class/airplane/airplane_200.jpg'),\n",
       " WindowsPath('D:/Study/深度学习/日月光华-tensorflow入门与实战资料/数据集/卫星图像识别数据/2_class/airplane/airplane_201.jpg'),\n",
       " WindowsPath('D:/Study/深度学习/日月光华-tensorflow入门与实战资料/数据集/卫星图像识别数据/2_class/airplane/airplane_202.jpg'),\n",
       " WindowsPath('D:/Study/深度学习/日月光华-tensorflow入门与实战资料/数据集/卫星图像识别数据/2_class/airplane/airplane_203.jpg'),\n",
       " WindowsPath('D:/Study/深度学习/日月光华-tensorflow入门与实战资料/数据集/卫星图像识别数据/2_class/airplane/airplane_204.jpg'),\n",
       " WindowsPath('D:/Study/深度学习/日月光华-tensorflow入门与实战资料/数据集/卫星图像识别数据/2_class/airplane/airplane_205.jpg'),\n",
       " WindowsPath('D:/Study/深度学习/日月光华-tensorflow入门与实战资料/数据集/卫星图像识别数据/2_class/airplane/airplane_206.jpg'),\n",
       " WindowsPath('D:/Study/深度学习/日月光华-tensorflow入门与实战资料/数据集/卫星图像识别数据/2_class/airplane/airplane_207.jpg'),\n",
       " WindowsPath('D:/Study/深度学习/日月光华-tensorflow入门与实战资料/数据集/卫星图像识别数据/2_class/airplane/airplane_208.jpg'),\n",
       " WindowsPath('D:/Study/深度学习/日月光华-tensorflow入门与实战资料/数据集/卫星图像识别数据/2_class/airplane/airplane_209.jpg'),\n",
       " WindowsPath('D:/Study/深度学习/日月光华-tensorflow入门与实战资料/数据集/卫星图像识别数据/2_class/airplane/airplane_210.jpg'),\n",
       " WindowsPath('D:/Study/深度学习/日月光华-tensorflow入门与实战资料/数据集/卫星图像识别数据/2_class/airplane/airplane_211.jpg'),\n",
       " WindowsPath('D:/Study/深度学习/日月光华-tensorflow入门与实战资料/数据集/卫星图像识别数据/2_class/airplane/airplane_212.jpg'),\n",
       " WindowsPath('D:/Study/深度学习/日月光华-tensorflow入门与实战资料/数据集/卫星图像识别数据/2_class/airplane/airplane_213.jpg'),\n",
       " WindowsPath('D:/Study/深度学习/日月光华-tensorflow入门与实战资料/数据集/卫星图像识别数据/2_class/airplane/airplane_214.jpg'),\n",
       " WindowsPath('D:/Study/深度学习/日月光华-tensorflow入门与实战资料/数据集/卫星图像识别数据/2_class/airplane/airplane_215.jpg'),\n",
       " WindowsPath('D:/Study/深度学习/日月光华-tensorflow入门与实战资料/数据集/卫星图像识别数据/2_class/airplane/airplane_216.jpg'),\n",
       " WindowsPath('D:/Study/深度学习/日月光华-tensorflow入门与实战资料/数据集/卫星图像识别数据/2_class/airplane/airplane_217.jpg'),\n",
       " WindowsPath('D:/Study/深度学习/日月光华-tensorflow入门与实战资料/数据集/卫星图像识别数据/2_class/airplane/airplane_218.jpg'),\n",
       " WindowsPath('D:/Study/深度学习/日月光华-tensorflow入门与实战资料/数据集/卫星图像识别数据/2_class/airplane/airplane_219.jpg'),\n",
       " WindowsPath('D:/Study/深度学习/日月光华-tensorflow入门与实战资料/数据集/卫星图像识别数据/2_class/airplane/airplane_220.jpg'),\n",
       " WindowsPath('D:/Study/深度学习/日月光华-tensorflow入门与实战资料/数据集/卫星图像识别数据/2_class/airplane/airplane_221.jpg'),\n",
       " WindowsPath('D:/Study/深度学习/日月光华-tensorflow入门与实战资料/数据集/卫星图像识别数据/2_class/airplane/airplane_222.jpg'),\n",
       " WindowsPath('D:/Study/深度学习/日月光华-tensorflow入门与实战资料/数据集/卫星图像识别数据/2_class/airplane/airplane_223.jpg'),\n",
       " WindowsPath('D:/Study/深度学习/日月光华-tensorflow入门与实战资料/数据集/卫星图像识别数据/2_class/airplane/airplane_224.jpg'),\n",
       " WindowsPath('D:/Study/深度学习/日月光华-tensorflow入门与实战资料/数据集/卫星图像识别数据/2_class/airplane/airplane_225.jpg'),\n",
       " WindowsPath('D:/Study/深度学习/日月光华-tensorflow入门与实战资料/数据集/卫星图像识别数据/2_class/airplane/airplane_226.jpg'),\n",
       " WindowsPath('D:/Study/深度学习/日月光华-tensorflow入门与实战资料/数据集/卫星图像识别数据/2_class/airplane/airplane_227.jpg'),\n",
       " WindowsPath('D:/Study/深度学习/日月光华-tensorflow入门与实战资料/数据集/卫星图像识别数据/2_class/airplane/airplane_228.jpg'),\n",
       " WindowsPath('D:/Study/深度学习/日月光华-tensorflow入门与实战资料/数据集/卫星图像识别数据/2_class/airplane/airplane_229.jpg'),\n",
       " WindowsPath('D:/Study/深度学习/日月光华-tensorflow入门与实战资料/数据集/卫星图像识别数据/2_class/airplane/airplane_230.jpg'),\n",
       " WindowsPath('D:/Study/深度学习/日月光华-tensorflow入门与实战资料/数据集/卫星图像识别数据/2_class/airplane/airplane_231.jpg'),\n",
       " WindowsPath('D:/Study/深度学习/日月光华-tensorflow入门与实战资料/数据集/卫星图像识别数据/2_class/airplane/airplane_232.jpg'),\n",
       " WindowsPath('D:/Study/深度学习/日月光华-tensorflow入门与实战资料/数据集/卫星图像识别数据/2_class/airplane/airplane_233.jpg'),\n",
       " WindowsPath('D:/Study/深度学习/日月光华-tensorflow入门与实战资料/数据集/卫星图像识别数据/2_class/airplane/airplane_234.jpg'),\n",
       " WindowsPath('D:/Study/深度学习/日月光华-tensorflow入门与实战资料/数据集/卫星图像识别数据/2_class/airplane/airplane_235.jpg'),\n",
       " WindowsPath('D:/Study/深度学习/日月光华-tensorflow入门与实战资料/数据集/卫星图像识别数据/2_class/airplane/airplane_236.jpg'),\n",
       " WindowsPath('D:/Study/深度学习/日月光华-tensorflow入门与实战资料/数据集/卫星图像识别数据/2_class/airplane/airplane_237.jpg'),\n",
       " WindowsPath('D:/Study/深度学习/日月光华-tensorflow入门与实战资料/数据集/卫星图像识别数据/2_class/airplane/airplane_238.jpg'),\n",
       " WindowsPath('D:/Study/深度学习/日月光华-tensorflow入门与实战资料/数据集/卫星图像识别数据/2_class/airplane/airplane_239.jpg'),\n",
       " WindowsPath('D:/Study/深度学习/日月光华-tensorflow入门与实战资料/数据集/卫星图像识别数据/2_class/airplane/airplane_240.jpg'),\n",
       " WindowsPath('D:/Study/深度学习/日月光华-tensorflow入门与实战资料/数据集/卫星图像识别数据/2_class/airplane/airplane_241.jpg'),\n",
       " WindowsPath('D:/Study/深度学习/日月光华-tensorflow入门与实战资料/数据集/卫星图像识别数据/2_class/airplane/airplane_242.jpg'),\n",
       " WindowsPath('D:/Study/深度学习/日月光华-tensorflow入门与实战资料/数据集/卫星图像识别数据/2_class/airplane/airplane_243.jpg'),\n",
       " WindowsPath('D:/Study/深度学习/日月光华-tensorflow入门与实战资料/数据集/卫星图像识别数据/2_class/airplane/airplane_244.jpg'),\n",
       " WindowsPath('D:/Study/深度学习/日月光华-tensorflow入门与实战资料/数据集/卫星图像识别数据/2_class/airplane/airplane_245.jpg'),\n",
       " WindowsPath('D:/Study/深度学习/日月光华-tensorflow入门与实战资料/数据集/卫星图像识别数据/2_class/airplane/airplane_246.jpg'),\n",
       " WindowsPath('D:/Study/深度学习/日月光华-tensorflow入门与实战资料/数据集/卫星图像识别数据/2_class/airplane/airplane_247.jpg'),\n",
       " WindowsPath('D:/Study/深度学习/日月光华-tensorflow入门与实战资料/数据集/卫星图像识别数据/2_class/airplane/airplane_248.jpg'),\n",
       " WindowsPath('D:/Study/深度学习/日月光华-tensorflow入门与实战资料/数据集/卫星图像识别数据/2_class/airplane/airplane_249.jpg'),\n",
       " WindowsPath('D:/Study/深度学习/日月光华-tensorflow入门与实战资料/数据集/卫星图像识别数据/2_class/airplane/airplane_250.jpg'),\n",
       " WindowsPath('D:/Study/深度学习/日月光华-tensorflow入门与实战资料/数据集/卫星图像识别数据/2_class/airplane/airplane_251.jpg'),\n",
       " WindowsPath('D:/Study/深度学习/日月光华-tensorflow入门与实战资料/数据集/卫星图像识别数据/2_class/airplane/airplane_252.jpg'),\n",
       " WindowsPath('D:/Study/深度学习/日月光华-tensorflow入门与实战资料/数据集/卫星图像识别数据/2_class/airplane/airplane_253.jpg'),\n",
       " WindowsPath('D:/Study/深度学习/日月光华-tensorflow入门与实战资料/数据集/卫星图像识别数据/2_class/airplane/airplane_254.jpg'),\n",
       " WindowsPath('D:/Study/深度学习/日月光华-tensorflow入门与实战资料/数据集/卫星图像识别数据/2_class/airplane/airplane_255.jpg'),\n",
       " WindowsPath('D:/Study/深度学习/日月光华-tensorflow入门与实战资料/数据集/卫星图像识别数据/2_class/airplane/airplane_256.jpg'),\n",
       " WindowsPath('D:/Study/深度学习/日月光华-tensorflow入门与实战资料/数据集/卫星图像识别数据/2_class/airplane/airplane_257.jpg'),\n",
       " WindowsPath('D:/Study/深度学习/日月光华-tensorflow入门与实战资料/数据集/卫星图像识别数据/2_class/airplane/airplane_258.jpg'),\n",
       " WindowsPath('D:/Study/深度学习/日月光华-tensorflow入门与实战资料/数据集/卫星图像识别数据/2_class/airplane/airplane_259.jpg'),\n",
       " WindowsPath('D:/Study/深度学习/日月光华-tensorflow入门与实战资料/数据集/卫星图像识别数据/2_class/airplane/airplane_260.jpg'),\n",
       " WindowsPath('D:/Study/深度学习/日月光华-tensorflow入门与实战资料/数据集/卫星图像识别数据/2_class/airplane/airplane_261.jpg'),\n",
       " WindowsPath('D:/Study/深度学习/日月光华-tensorflow入门与实战资料/数据集/卫星图像识别数据/2_class/airplane/airplane_262.jpg'),\n",
       " WindowsPath('D:/Study/深度学习/日月光华-tensorflow入门与实战资料/数据集/卫星图像识别数据/2_class/airplane/airplane_263.jpg'),\n",
       " WindowsPath('D:/Study/深度学习/日月光华-tensorflow入门与实战资料/数据集/卫星图像识别数据/2_class/airplane/airplane_264.jpg'),\n",
       " WindowsPath('D:/Study/深度学习/日月光华-tensorflow入门与实战资料/数据集/卫星图像识别数据/2_class/airplane/airplane_265.jpg'),\n",
       " WindowsPath('D:/Study/深度学习/日月光华-tensorflow入门与实战资料/数据集/卫星图像识别数据/2_class/airplane/airplane_266.jpg'),\n",
       " WindowsPath('D:/Study/深度学习/日月光华-tensorflow入门与实战资料/数据集/卫星图像识别数据/2_class/airplane/airplane_267.jpg'),\n",
       " WindowsPath('D:/Study/深度学习/日月光华-tensorflow入门与实战资料/数据集/卫星图像识别数据/2_class/airplane/airplane_268.jpg'),\n",
       " WindowsPath('D:/Study/深度学习/日月光华-tensorflow入门与实战资料/数据集/卫星图像识别数据/2_class/airplane/airplane_269.jpg'),\n",
       " WindowsPath('D:/Study/深度学习/日月光华-tensorflow入门与实战资料/数据集/卫星图像识别数据/2_class/airplane/airplane_270.jpg'),\n",
       " WindowsPath('D:/Study/深度学习/日月光华-tensorflow入门与实战资料/数据集/卫星图像识别数据/2_class/airplane/airplane_271.jpg'),\n",
       " WindowsPath('D:/Study/深度学习/日月光华-tensorflow入门与实战资料/数据集/卫星图像识别数据/2_class/airplane/airplane_272.jpg'),\n",
       " WindowsPath('D:/Study/深度学习/日月光华-tensorflow入门与实战资料/数据集/卫星图像识别数据/2_class/airplane/airplane_273.jpg'),\n",
       " WindowsPath('D:/Study/深度学习/日月光华-tensorflow入门与实战资料/数据集/卫星图像识别数据/2_class/airplane/airplane_274.jpg'),\n",
       " WindowsPath('D:/Study/深度学习/日月光华-tensorflow入门与实战资料/数据集/卫星图像识别数据/2_class/airplane/airplane_275.jpg'),\n",
       " WindowsPath('D:/Study/深度学习/日月光华-tensorflow入门与实战资料/数据集/卫星图像识别数据/2_class/airplane/airplane_276.jpg'),\n",
       " WindowsPath('D:/Study/深度学习/日月光华-tensorflow入门与实战资料/数据集/卫星图像识别数据/2_class/airplane/airplane_277.jpg'),\n",
       " WindowsPath('D:/Study/深度学习/日月光华-tensorflow入门与实战资料/数据集/卫星图像识别数据/2_class/airplane/airplane_278.jpg'),\n",
       " WindowsPath('D:/Study/深度学习/日月光华-tensorflow入门与实战资料/数据集/卫星图像识别数据/2_class/airplane/airplane_279.jpg'),\n",
       " WindowsPath('D:/Study/深度学习/日月光华-tensorflow入门与实战资料/数据集/卫星图像识别数据/2_class/airplane/airplane_280.jpg'),\n",
       " WindowsPath('D:/Study/深度学习/日月光华-tensorflow入门与实战资料/数据集/卫星图像识别数据/2_class/airplane/airplane_281.jpg'),\n",
       " WindowsPath('D:/Study/深度学习/日月光华-tensorflow入门与实战资料/数据集/卫星图像识别数据/2_class/airplane/airplane_282.jpg'),\n",
       " WindowsPath('D:/Study/深度学习/日月光华-tensorflow入门与实战资料/数据集/卫星图像识别数据/2_class/airplane/airplane_283.jpg'),\n",
       " WindowsPath('D:/Study/深度学习/日月光华-tensorflow入门与实战资料/数据集/卫星图像识别数据/2_class/airplane/airplane_284.jpg'),\n",
       " WindowsPath('D:/Study/深度学习/日月光华-tensorflow入门与实战资料/数据集/卫星图像识别数据/2_class/airplane/airplane_285.jpg'),\n",
       " WindowsPath('D:/Study/深度学习/日月光华-tensorflow入门与实战资料/数据集/卫星图像识别数据/2_class/airplane/airplane_286.jpg'),\n",
       " WindowsPath('D:/Study/深度学习/日月光华-tensorflow入门与实战资料/数据集/卫星图像识别数据/2_class/airplane/airplane_287.jpg'),\n",
       " WindowsPath('D:/Study/深度学习/日月光华-tensorflow入门与实战资料/数据集/卫星图像识别数据/2_class/airplane/airplane_288.jpg'),\n",
       " WindowsPath('D:/Study/深度学习/日月光华-tensorflow入门与实战资料/数据集/卫星图像识别数据/2_class/airplane/airplane_289.jpg'),\n",
       " WindowsPath('D:/Study/深度学习/日月光华-tensorflow入门与实战资料/数据集/卫星图像识别数据/2_class/airplane/airplane_290.jpg'),\n",
       " WindowsPath('D:/Study/深度学习/日月光华-tensorflow入门与实战资料/数据集/卫星图像识别数据/2_class/airplane/airplane_291.jpg'),\n",
       " WindowsPath('D:/Study/深度学习/日月光华-tensorflow入门与实战资料/数据集/卫星图像识别数据/2_class/airplane/airplane_292.jpg'),\n",
       " WindowsPath('D:/Study/深度学习/日月光华-tensorflow入门与实战资料/数据集/卫星图像识别数据/2_class/airplane/airplane_293.jpg'),\n",
       " WindowsPath('D:/Study/深度学习/日月光华-tensorflow入门与实战资料/数据集/卫星图像识别数据/2_class/airplane/airplane_294.jpg'),\n",
       " WindowsPath('D:/Study/深度学习/日月光华-tensorflow入门与实战资料/数据集/卫星图像识别数据/2_class/airplane/airplane_295.jpg'),\n",
       " WindowsPath('D:/Study/深度学习/日月光华-tensorflow入门与实战资料/数据集/卫星图像识别数据/2_class/airplane/airplane_296.jpg'),\n",
       " WindowsPath('D:/Study/深度学习/日月光华-tensorflow入门与实战资料/数据集/卫星图像识别数据/2_class/airplane/airplane_297.jpg'),\n",
       " WindowsPath('D:/Study/深度学习/日月光华-tensorflow入门与实战资料/数据集/卫星图像识别数据/2_class/airplane/airplane_298.jpg'),\n",
       " WindowsPath('D:/Study/深度学习/日月光华-tensorflow入门与实战资料/数据集/卫星图像识别数据/2_class/airplane/airplane_299.jpg'),\n",
       " WindowsPath('D:/Study/深度学习/日月光华-tensorflow入门与实战资料/数据集/卫星图像识别数据/2_class/airplane/airplane_300.jpg'),\n",
       " WindowsPath('D:/Study/深度学习/日月光华-tensorflow入门与实战资料/数据集/卫星图像识别数据/2_class/airplane/airplane_301.jpg'),\n",
       " WindowsPath('D:/Study/深度学习/日月光华-tensorflow入门与实战资料/数据集/卫星图像识别数据/2_class/airplane/airplane_302.jpg'),\n",
       " WindowsPath('D:/Study/深度学习/日月光华-tensorflow入门与实战资料/数据集/卫星图像识别数据/2_class/airplane/airplane_303.jpg'),\n",
       " WindowsPath('D:/Study/深度学习/日月光华-tensorflow入门与实战资料/数据集/卫星图像识别数据/2_class/airplane/airplane_304.jpg'),\n",
       " WindowsPath('D:/Study/深度学习/日月光华-tensorflow入门与实战资料/数据集/卫星图像识别数据/2_class/airplane/airplane_305.jpg'),\n",
       " WindowsPath('D:/Study/深度学习/日月光华-tensorflow入门与实战资料/数据集/卫星图像识别数据/2_class/airplane/airplane_306.jpg'),\n",
       " WindowsPath('D:/Study/深度学习/日月光华-tensorflow入门与实战资料/数据集/卫星图像识别数据/2_class/airplane/airplane_307.jpg'),\n",
       " WindowsPath('D:/Study/深度学习/日月光华-tensorflow入门与实战资料/数据集/卫星图像识别数据/2_class/airplane/airplane_308.jpg'),\n",
       " WindowsPath('D:/Study/深度学习/日月光华-tensorflow入门与实战资料/数据集/卫星图像识别数据/2_class/airplane/airplane_309.jpg'),\n",
       " WindowsPath('D:/Study/深度学习/日月光华-tensorflow入门与实战资料/数据集/卫星图像识别数据/2_class/airplane/airplane_310.jpg'),\n",
       " WindowsPath('D:/Study/深度学习/日月光华-tensorflow入门与实战资料/数据集/卫星图像识别数据/2_class/airplane/airplane_311.jpg'),\n",
       " WindowsPath('D:/Study/深度学习/日月光华-tensorflow入门与实战资料/数据集/卫星图像识别数据/2_class/airplane/airplane_312.jpg'),\n",
       " WindowsPath('D:/Study/深度学习/日月光华-tensorflow入门与实战资料/数据集/卫星图像识别数据/2_class/airplane/airplane_313.jpg'),\n",
       " WindowsPath('D:/Study/深度学习/日月光华-tensorflow入门与实战资料/数据集/卫星图像识别数据/2_class/airplane/airplane_314.jpg'),\n",
       " WindowsPath('D:/Study/深度学习/日月光华-tensorflow入门与实战资料/数据集/卫星图像识别数据/2_class/airplane/airplane_315.jpg'),\n",
       " WindowsPath('D:/Study/深度学习/日月光华-tensorflow入门与实战资料/数据集/卫星图像识别数据/2_class/airplane/airplane_316.jpg'),\n",
       " WindowsPath('D:/Study/深度学习/日月光华-tensorflow入门与实战资料/数据集/卫星图像识别数据/2_class/airplane/airplane_317.jpg'),\n",
       " WindowsPath('D:/Study/深度学习/日月光华-tensorflow入门与实战资料/数据集/卫星图像识别数据/2_class/airplane/airplane_318.jpg'),\n",
       " WindowsPath('D:/Study/深度学习/日月光华-tensorflow入门与实战资料/数据集/卫星图像识别数据/2_class/airplane/airplane_319.jpg'),\n",
       " WindowsPath('D:/Study/深度学习/日月光华-tensorflow入门与实战资料/数据集/卫星图像识别数据/2_class/airplane/airplane_320.jpg'),\n",
       " WindowsPath('D:/Study/深度学习/日月光华-tensorflow入门与实战资料/数据集/卫星图像识别数据/2_class/airplane/airplane_321.jpg'),\n",
       " WindowsPath('D:/Study/深度学习/日月光华-tensorflow入门与实战资料/数据集/卫星图像识别数据/2_class/airplane/airplane_322.jpg'),\n",
       " WindowsPath('D:/Study/深度学习/日月光华-tensorflow入门与实战资料/数据集/卫星图像识别数据/2_class/airplane/airplane_323.jpg'),\n",
       " WindowsPath('D:/Study/深度学习/日月光华-tensorflow入门与实战资料/数据集/卫星图像识别数据/2_class/airplane/airplane_324.jpg'),\n",
       " WindowsPath('D:/Study/深度学习/日月光华-tensorflow入门与实战资料/数据集/卫星图像识别数据/2_class/airplane/airplane_325.jpg'),\n",
       " WindowsPath('D:/Study/深度学习/日月光华-tensorflow入门与实战资料/数据集/卫星图像识别数据/2_class/airplane/airplane_326.jpg'),\n",
       " WindowsPath('D:/Study/深度学习/日月光华-tensorflow入门与实战资料/数据集/卫星图像识别数据/2_class/airplane/airplane_327.jpg'),\n",
       " WindowsPath('D:/Study/深度学习/日月光华-tensorflow入门与实战资料/数据集/卫星图像识别数据/2_class/airplane/airplane_328.jpg'),\n",
       " WindowsPath('D:/Study/深度学习/日月光华-tensorflow入门与实战资料/数据集/卫星图像识别数据/2_class/airplane/airplane_329.jpg'),\n",
       " WindowsPath('D:/Study/深度学习/日月光华-tensorflow入门与实战资料/数据集/卫星图像识别数据/2_class/airplane/airplane_330.jpg'),\n",
       " WindowsPath('D:/Study/深度学习/日月光华-tensorflow入门与实战资料/数据集/卫星图像识别数据/2_class/airplane/airplane_331.jpg'),\n",
       " WindowsPath('D:/Study/深度学习/日月光华-tensorflow入门与实战资料/数据集/卫星图像识别数据/2_class/airplane/airplane_332.jpg'),\n",
       " WindowsPath('D:/Study/深度学习/日月光华-tensorflow入门与实战资料/数据集/卫星图像识别数据/2_class/airplane/airplane_333.jpg'),\n",
       " WindowsPath('D:/Study/深度学习/日月光华-tensorflow入门与实战资料/数据集/卫星图像识别数据/2_class/airplane/airplane_334.jpg'),\n",
       " WindowsPath('D:/Study/深度学习/日月光华-tensorflow入门与实战资料/数据集/卫星图像识别数据/2_class/airplane/airplane_335.jpg'),\n",
       " WindowsPath('D:/Study/深度学习/日月光华-tensorflow入门与实战资料/数据集/卫星图像识别数据/2_class/airplane/airplane_336.jpg'),\n",
       " WindowsPath('D:/Study/深度学习/日月光华-tensorflow入门与实战资料/数据集/卫星图像识别数据/2_class/airplane/airplane_337.jpg'),\n",
       " WindowsPath('D:/Study/深度学习/日月光华-tensorflow入门与实战资料/数据集/卫星图像识别数据/2_class/airplane/airplane_338.jpg'),\n",
       " WindowsPath('D:/Study/深度学习/日月光华-tensorflow入门与实战资料/数据集/卫星图像识别数据/2_class/airplane/airplane_339.jpg'),\n",
       " WindowsPath('D:/Study/深度学习/日月光华-tensorflow入门与实战资料/数据集/卫星图像识别数据/2_class/airplane/airplane_340.jpg'),\n",
       " WindowsPath('D:/Study/深度学习/日月光华-tensorflow入门与实战资料/数据集/卫星图像识别数据/2_class/airplane/airplane_341.jpg'),\n",
       " WindowsPath('D:/Study/深度学习/日月光华-tensorflow入门与实战资料/数据集/卫星图像识别数据/2_class/airplane/airplane_342.jpg'),\n",
       " WindowsPath('D:/Study/深度学习/日月光华-tensorflow入门与实战资料/数据集/卫星图像识别数据/2_class/airplane/airplane_343.jpg'),\n",
       " WindowsPath('D:/Study/深度学习/日月光华-tensorflow入门与实战资料/数据集/卫星图像识别数据/2_class/airplane/airplane_344.jpg'),\n",
       " WindowsPath('D:/Study/深度学习/日月光华-tensorflow入门与实战资料/数据集/卫星图像识别数据/2_class/airplane/airplane_345.jpg'),\n",
       " WindowsPath('D:/Study/深度学习/日月光华-tensorflow入门与实战资料/数据集/卫星图像识别数据/2_class/airplane/airplane_346.jpg'),\n",
       " WindowsPath('D:/Study/深度学习/日月光华-tensorflow入门与实战资料/数据集/卫星图像识别数据/2_class/airplane/airplane_347.jpg'),\n",
       " WindowsPath('D:/Study/深度学习/日月光华-tensorflow入门与实战资料/数据集/卫星图像识别数据/2_class/airplane/airplane_348.jpg'),\n",
       " WindowsPath('D:/Study/深度学习/日月光华-tensorflow入门与实战资料/数据集/卫星图像识别数据/2_class/airplane/airplane_349.jpg'),\n",
       " WindowsPath('D:/Study/深度学习/日月光华-tensorflow入门与实战资料/数据集/卫星图像识别数据/2_class/airplane/airplane_350.jpg'),\n",
       " WindowsPath('D:/Study/深度学习/日月光华-tensorflow入门与实战资料/数据集/卫星图像识别数据/2_class/airplane/airplane_351.jpg'),\n",
       " WindowsPath('D:/Study/深度学习/日月光华-tensorflow入门与实战资料/数据集/卫星图像识别数据/2_class/airplane/airplane_352.jpg'),\n",
       " WindowsPath('D:/Study/深度学习/日月光华-tensorflow入门与实战资料/数据集/卫星图像识别数据/2_class/airplane/airplane_353.jpg'),\n",
       " WindowsPath('D:/Study/深度学习/日月光华-tensorflow入门与实战资料/数据集/卫星图像识别数据/2_class/airplane/airplane_354.jpg'),\n",
       " WindowsPath('D:/Study/深度学习/日月光华-tensorflow入门与实战资料/数据集/卫星图像识别数据/2_class/airplane/airplane_355.jpg'),\n",
       " WindowsPath('D:/Study/深度学习/日月光华-tensorflow入门与实战资料/数据集/卫星图像识别数据/2_class/airplane/airplane_356.jpg'),\n",
       " WindowsPath('D:/Study/深度学习/日月光华-tensorflow入门与实战资料/数据集/卫星图像识别数据/2_class/airplane/airplane_357.jpg'),\n",
       " WindowsPath('D:/Study/深度学习/日月光华-tensorflow入门与实战资料/数据集/卫星图像识别数据/2_class/airplane/airplane_358.jpg'),\n",
       " WindowsPath('D:/Study/深度学习/日月光华-tensorflow入门与实战资料/数据集/卫星图像识别数据/2_class/airplane/airplane_359.jpg'),\n",
       " WindowsPath('D:/Study/深度学习/日月光华-tensorflow入门与实战资料/数据集/卫星图像识别数据/2_class/airplane/airplane_360.jpg'),\n",
       " WindowsPath('D:/Study/深度学习/日月光华-tensorflow入门与实战资料/数据集/卫星图像识别数据/2_class/airplane/airplane_361.jpg'),\n",
       " WindowsPath('D:/Study/深度学习/日月光华-tensorflow入门与实战资料/数据集/卫星图像识别数据/2_class/airplane/airplane_362.jpg'),\n",
       " WindowsPath('D:/Study/深度学习/日月光华-tensorflow入门与实战资料/数据集/卫星图像识别数据/2_class/airplane/airplane_363.jpg'),\n",
       " WindowsPath('D:/Study/深度学习/日月光华-tensorflow入门与实战资料/数据集/卫星图像识别数据/2_class/airplane/airplane_364.jpg'),\n",
       " WindowsPath('D:/Study/深度学习/日月光华-tensorflow入门与实战资料/数据集/卫星图像识别数据/2_class/airplane/airplane_365.jpg'),\n",
       " WindowsPath('D:/Study/深度学习/日月光华-tensorflow入门与实战资料/数据集/卫星图像识别数据/2_class/airplane/airplane_366.jpg'),\n",
       " WindowsPath('D:/Study/深度学习/日月光华-tensorflow入门与实战资料/数据集/卫星图像识别数据/2_class/airplane/airplane_367.jpg'),\n",
       " WindowsPath('D:/Study/深度学习/日月光华-tensorflow入门与实战资料/数据集/卫星图像识别数据/2_class/airplane/airplane_368.jpg'),\n",
       " WindowsPath('D:/Study/深度学习/日月光华-tensorflow入门与实战资料/数据集/卫星图像识别数据/2_class/airplane/airplane_369.jpg'),\n",
       " WindowsPath('D:/Study/深度学习/日月光华-tensorflow入门与实战资料/数据集/卫星图像识别数据/2_class/airplane/airplane_370.jpg'),\n",
       " WindowsPath('D:/Study/深度学习/日月光华-tensorflow入门与实战资料/数据集/卫星图像识别数据/2_class/airplane/airplane_371.jpg'),\n",
       " WindowsPath('D:/Study/深度学习/日月光华-tensorflow入门与实战资料/数据集/卫星图像识别数据/2_class/airplane/airplane_372.jpg'),\n",
       " WindowsPath('D:/Study/深度学习/日月光华-tensorflow入门与实战资料/数据集/卫星图像识别数据/2_class/airplane/airplane_373.jpg'),\n",
       " WindowsPath('D:/Study/深度学习/日月光华-tensorflow入门与实战资料/数据集/卫星图像识别数据/2_class/airplane/airplane_374.jpg'),\n",
       " WindowsPath('D:/Study/深度学习/日月光华-tensorflow入门与实战资料/数据集/卫星图像识别数据/2_class/airplane/airplane_375.jpg'),\n",
       " WindowsPath('D:/Study/深度学习/日月光华-tensorflow入门与实战资料/数据集/卫星图像识别数据/2_class/airplane/airplane_376.jpg'),\n",
       " WindowsPath('D:/Study/深度学习/日月光华-tensorflow入门与实战资料/数据集/卫星图像识别数据/2_class/airplane/airplane_377.jpg'),\n",
       " WindowsPath('D:/Study/深度学习/日月光华-tensorflow入门与实战资料/数据集/卫星图像识别数据/2_class/airplane/airplane_378.jpg'),\n",
       " WindowsPath('D:/Study/深度学习/日月光华-tensorflow入门与实战资料/数据集/卫星图像识别数据/2_class/airplane/airplane_379.jpg'),\n",
       " WindowsPath('D:/Study/深度学习/日月光华-tensorflow入门与实战资料/数据集/卫星图像识别数据/2_class/airplane/airplane_380.jpg'),\n",
       " WindowsPath('D:/Study/深度学习/日月光华-tensorflow入门与实战资料/数据集/卫星图像识别数据/2_class/airplane/airplane_381.jpg'),\n",
       " WindowsPath('D:/Study/深度学习/日月光华-tensorflow入门与实战资料/数据集/卫星图像识别数据/2_class/airplane/airplane_382.jpg'),\n",
       " WindowsPath('D:/Study/深度学习/日月光华-tensorflow入门与实战资料/数据集/卫星图像识别数据/2_class/airplane/airplane_383.jpg'),\n",
       " WindowsPath('D:/Study/深度学习/日月光华-tensorflow入门与实战资料/数据集/卫星图像识别数据/2_class/airplane/airplane_384.jpg'),\n",
       " WindowsPath('D:/Study/深度学习/日月光华-tensorflow入门与实战资料/数据集/卫星图像识别数据/2_class/airplane/airplane_385.jpg'),\n",
       " WindowsPath('D:/Study/深度学习/日月光华-tensorflow入门与实战资料/数据集/卫星图像识别数据/2_class/airplane/airplane_386.jpg'),\n",
       " WindowsPath('D:/Study/深度学习/日月光华-tensorflow入门与实战资料/数据集/卫星图像识别数据/2_class/airplane/airplane_387.jpg'),\n",
       " WindowsPath('D:/Study/深度学习/日月光华-tensorflow入门与实战资料/数据集/卫星图像识别数据/2_class/airplane/airplane_388.jpg'),\n",
       " WindowsPath('D:/Study/深度学习/日月光华-tensorflow入门与实战资料/数据集/卫星图像识别数据/2_class/airplane/airplane_389.jpg'),\n",
       " WindowsPath('D:/Study/深度学习/日月光华-tensorflow入门与实战资料/数据集/卫星图像识别数据/2_class/airplane/airplane_390.jpg'),\n",
       " WindowsPath('D:/Study/深度学习/日月光华-tensorflow入门与实战资料/数据集/卫星图像识别数据/2_class/airplane/airplane_391.jpg'),\n",
       " WindowsPath('D:/Study/深度学习/日月光华-tensorflow入门与实战资料/数据集/卫星图像识别数据/2_class/airplane/airplane_392.jpg'),\n",
       " WindowsPath('D:/Study/深度学习/日月光华-tensorflow入门与实战资料/数据集/卫星图像识别数据/2_class/airplane/airplane_393.jpg'),\n",
       " WindowsPath('D:/Study/深度学习/日月光华-tensorflow入门与实战资料/数据集/卫星图像识别数据/2_class/airplane/airplane_394.jpg'),\n",
       " WindowsPath('D:/Study/深度学习/日月光华-tensorflow入门与实战资料/数据集/卫星图像识别数据/2_class/airplane/airplane_395.jpg'),\n",
       " WindowsPath('D:/Study/深度学习/日月光华-tensorflow入门与实战资料/数据集/卫星图像识别数据/2_class/airplane/airplane_396.jpg'),\n",
       " WindowsPath('D:/Study/深度学习/日月光华-tensorflow入门与实战资料/数据集/卫星图像识别数据/2_class/airplane/airplane_397.jpg'),\n",
       " WindowsPath('D:/Study/深度学习/日月光华-tensorflow入门与实战资料/数据集/卫星图像识别数据/2_class/airplane/airplane_398.jpg'),\n",
       " WindowsPath('D:/Study/深度学习/日月光华-tensorflow入门与实战资料/数据集/卫星图像识别数据/2_class/airplane/airplane_399.jpg'),\n",
       " WindowsPath('D:/Study/深度学习/日月光华-tensorflow入门与实战资料/数据集/卫星图像识别数据/2_class/airplane/airplane_400.jpg'),\n",
       " WindowsPath('D:/Study/深度学习/日月光华-tensorflow入门与实战资料/数据集/卫星图像识别数据/2_class/airplane/airplane_401.jpg'),\n",
       " WindowsPath('D:/Study/深度学习/日月光华-tensorflow入门与实战资料/数据集/卫星图像识别数据/2_class/airplane/airplane_402.jpg'),\n",
       " WindowsPath('D:/Study/深度学习/日月光华-tensorflow入门与实战资料/数据集/卫星图像识别数据/2_class/airplane/airplane_403.jpg'),\n",
       " WindowsPath('D:/Study/深度学习/日月光华-tensorflow入门与实战资料/数据集/卫星图像识别数据/2_class/airplane/airplane_404.jpg'),\n",
       " WindowsPath('D:/Study/深度学习/日月光华-tensorflow入门与实战资料/数据集/卫星图像识别数据/2_class/airplane/airplane_405.jpg'),\n",
       " WindowsPath('D:/Study/深度学习/日月光华-tensorflow入门与实战资料/数据集/卫星图像识别数据/2_class/airplane/airplane_406.jpg'),\n",
       " WindowsPath('D:/Study/深度学习/日月光华-tensorflow入门与实战资料/数据集/卫星图像识别数据/2_class/airplane/airplane_407.jpg'),\n",
       " WindowsPath('D:/Study/深度学习/日月光华-tensorflow入门与实战资料/数据集/卫星图像识别数据/2_class/airplane/airplane_408.jpg'),\n",
       " WindowsPath('D:/Study/深度学习/日月光华-tensorflow入门与实战资料/数据集/卫星图像识别数据/2_class/airplane/airplane_409.jpg'),\n",
       " WindowsPath('D:/Study/深度学习/日月光华-tensorflow入门与实战资料/数据集/卫星图像识别数据/2_class/airplane/airplane_410.jpg'),\n",
       " WindowsPath('D:/Study/深度学习/日月光华-tensorflow入门与实战资料/数据集/卫星图像识别数据/2_class/airplane/airplane_411.jpg'),\n",
       " WindowsPath('D:/Study/深度学习/日月光华-tensorflow入门与实战资料/数据集/卫星图像识别数据/2_class/airplane/airplane_412.jpg'),\n",
       " WindowsPath('D:/Study/深度学习/日月光华-tensorflow入门与实战资料/数据集/卫星图像识别数据/2_class/airplane/airplane_413.jpg'),\n",
       " WindowsPath('D:/Study/深度学习/日月光华-tensorflow入门与实战资料/数据集/卫星图像识别数据/2_class/airplane/airplane_414.jpg'),\n",
       " WindowsPath('D:/Study/深度学习/日月光华-tensorflow入门与实战资料/数据集/卫星图像识别数据/2_class/airplane/airplane_415.jpg'),\n",
       " WindowsPath('D:/Study/深度学习/日月光华-tensorflow入门与实战资料/数据集/卫星图像识别数据/2_class/airplane/airplane_416.jpg'),\n",
       " WindowsPath('D:/Study/深度学习/日月光华-tensorflow入门与实战资料/数据集/卫星图像识别数据/2_class/airplane/airplane_417.jpg'),\n",
       " WindowsPath('D:/Study/深度学习/日月光华-tensorflow入门与实战资料/数据集/卫星图像识别数据/2_class/airplane/airplane_418.jpg'),\n",
       " WindowsPath('D:/Study/深度学习/日月光华-tensorflow入门与实战资料/数据集/卫星图像识别数据/2_class/airplane/airplane_419.jpg'),\n",
       " WindowsPath('D:/Study/深度学习/日月光华-tensorflow入门与实战资料/数据集/卫星图像识别数据/2_class/airplane/airplane_420.jpg'),\n",
       " WindowsPath('D:/Study/深度学习/日月光华-tensorflow入门与实战资料/数据集/卫星图像识别数据/2_class/airplane/airplane_421.jpg'),\n",
       " WindowsPath('D:/Study/深度学习/日月光华-tensorflow入门与实战资料/数据集/卫星图像识别数据/2_class/airplane/airplane_422.jpg'),\n",
       " WindowsPath('D:/Study/深度学习/日月光华-tensorflow入门与实战资料/数据集/卫星图像识别数据/2_class/airplane/airplane_423.jpg'),\n",
       " WindowsPath('D:/Study/深度学习/日月光华-tensorflow入门与实战资料/数据集/卫星图像识别数据/2_class/airplane/airplane_424.jpg'),\n",
       " WindowsPath('D:/Study/深度学习/日月光华-tensorflow入门与实战资料/数据集/卫星图像识别数据/2_class/airplane/airplane_425.jpg'),\n",
       " WindowsPath('D:/Study/深度学习/日月光华-tensorflow入门与实战资料/数据集/卫星图像识别数据/2_class/airplane/airplane_426.jpg'),\n",
       " WindowsPath('D:/Study/深度学习/日月光华-tensorflow入门与实战资料/数据集/卫星图像识别数据/2_class/airplane/airplane_427.jpg'),\n",
       " WindowsPath('D:/Study/深度学习/日月光华-tensorflow入门与实战资料/数据集/卫星图像识别数据/2_class/airplane/airplane_428.jpg'),\n",
       " WindowsPath('D:/Study/深度学习/日月光华-tensorflow入门与实战资料/数据集/卫星图像识别数据/2_class/airplane/airplane_429.jpg'),\n",
       " WindowsPath('D:/Study/深度学习/日月光华-tensorflow入门与实战资料/数据集/卫星图像识别数据/2_class/airplane/airplane_430.jpg'),\n",
       " WindowsPath('D:/Study/深度学习/日月光华-tensorflow入门与实战资料/数据集/卫星图像识别数据/2_class/airplane/airplane_431.jpg'),\n",
       " WindowsPath('D:/Study/深度学习/日月光华-tensorflow入门与实战资料/数据集/卫星图像识别数据/2_class/airplane/airplane_432.jpg'),\n",
       " WindowsPath('D:/Study/深度学习/日月光华-tensorflow入门与实战资料/数据集/卫星图像识别数据/2_class/airplane/airplane_433.jpg'),\n",
       " WindowsPath('D:/Study/深度学习/日月光华-tensorflow入门与实战资料/数据集/卫星图像识别数据/2_class/airplane/airplane_434.jpg'),\n",
       " WindowsPath('D:/Study/深度学习/日月光华-tensorflow入门与实战资料/数据集/卫星图像识别数据/2_class/airplane/airplane_435.jpg'),\n",
       " WindowsPath('D:/Study/深度学习/日月光华-tensorflow入门与实战资料/数据集/卫星图像识别数据/2_class/airplane/airplane_436.jpg'),\n",
       " WindowsPath('D:/Study/深度学习/日月光华-tensorflow入门与实战资料/数据集/卫星图像识别数据/2_class/airplane/airplane_437.jpg'),\n",
       " WindowsPath('D:/Study/深度学习/日月光华-tensorflow入门与实战资料/数据集/卫星图像识别数据/2_class/airplane/airplane_438.jpg'),\n",
       " WindowsPath('D:/Study/深度学习/日月光华-tensorflow入门与实战资料/数据集/卫星图像识别数据/2_class/airplane/airplane_439.jpg'),\n",
       " WindowsPath('D:/Study/深度学习/日月光华-tensorflow入门与实战资料/数据集/卫星图像识别数据/2_class/airplane/airplane_440.jpg'),\n",
       " WindowsPath('D:/Study/深度学习/日月光华-tensorflow入门与实战资料/数据集/卫星图像识别数据/2_class/airplane/airplane_441.jpg'),\n",
       " WindowsPath('D:/Study/深度学习/日月光华-tensorflow入门与实战资料/数据集/卫星图像识别数据/2_class/airplane/airplane_442.jpg'),\n",
       " WindowsPath('D:/Study/深度学习/日月光华-tensorflow入门与实战资料/数据集/卫星图像识别数据/2_class/airplane/airplane_443.jpg'),\n",
       " WindowsPath('D:/Study/深度学习/日月光华-tensorflow入门与实战资料/数据集/卫星图像识别数据/2_class/airplane/airplane_444.jpg'),\n",
       " WindowsPath('D:/Study/深度学习/日月光华-tensorflow入门与实战资料/数据集/卫星图像识别数据/2_class/airplane/airplane_445.jpg'),\n",
       " WindowsPath('D:/Study/深度学习/日月光华-tensorflow入门与实战资料/数据集/卫星图像识别数据/2_class/airplane/airplane_446.jpg'),\n",
       " WindowsPath('D:/Study/深度学习/日月光华-tensorflow入门与实战资料/数据集/卫星图像识别数据/2_class/airplane/airplane_447.jpg'),\n",
       " WindowsPath('D:/Study/深度学习/日月光华-tensorflow入门与实战资料/数据集/卫星图像识别数据/2_class/airplane/airplane_448.jpg'),\n",
       " WindowsPath('D:/Study/深度学习/日月光华-tensorflow入门与实战资料/数据集/卫星图像识别数据/2_class/airplane/airplane_449.jpg'),\n",
       " WindowsPath('D:/Study/深度学习/日月光华-tensorflow入门与实战资料/数据集/卫星图像识别数据/2_class/airplane/airplane_450.jpg'),\n",
       " WindowsPath('D:/Study/深度学习/日月光华-tensorflow入门与实战资料/数据集/卫星图像识别数据/2_class/airplane/airplane_451.jpg'),\n",
       " WindowsPath('D:/Study/深度学习/日月光华-tensorflow入门与实战资料/数据集/卫星图像识别数据/2_class/airplane/airplane_452.jpg'),\n",
       " WindowsPath('D:/Study/深度学习/日月光华-tensorflow入门与实战资料/数据集/卫星图像识别数据/2_class/airplane/airplane_453.jpg'),\n",
       " WindowsPath('D:/Study/深度学习/日月光华-tensorflow入门与实战资料/数据集/卫星图像识别数据/2_class/airplane/airplane_454.jpg'),\n",
       " WindowsPath('D:/Study/深度学习/日月光华-tensorflow入门与实战资料/数据集/卫星图像识别数据/2_class/airplane/airplane_455.jpg'),\n",
       " WindowsPath('D:/Study/深度学习/日月光华-tensorflow入门与实战资料/数据集/卫星图像识别数据/2_class/airplane/airplane_456.jpg'),\n",
       " WindowsPath('D:/Study/深度学习/日月光华-tensorflow入门与实战资料/数据集/卫星图像识别数据/2_class/airplane/airplane_457.jpg'),\n",
       " WindowsPath('D:/Study/深度学习/日月光华-tensorflow入门与实战资料/数据集/卫星图像识别数据/2_class/airplane/airplane_458.jpg'),\n",
       " WindowsPath('D:/Study/深度学习/日月光华-tensorflow入门与实战资料/数据集/卫星图像识别数据/2_class/airplane/airplane_459.jpg'),\n",
       " WindowsPath('D:/Study/深度学习/日月光华-tensorflow入门与实战资料/数据集/卫星图像识别数据/2_class/airplane/airplane_460.jpg'),\n",
       " WindowsPath('D:/Study/深度学习/日月光华-tensorflow入门与实战资料/数据集/卫星图像识别数据/2_class/airplane/airplane_461.jpg'),\n",
       " WindowsPath('D:/Study/深度学习/日月光华-tensorflow入门与实战资料/数据集/卫星图像识别数据/2_class/airplane/airplane_462.jpg'),\n",
       " WindowsPath('D:/Study/深度学习/日月光华-tensorflow入门与实战资料/数据集/卫星图像识别数据/2_class/airplane/airplane_463.jpg'),\n",
       " WindowsPath('D:/Study/深度学习/日月光华-tensorflow入门与实战资料/数据集/卫星图像识别数据/2_class/airplane/airplane_464.jpg'),\n",
       " WindowsPath('D:/Study/深度学习/日月光华-tensorflow入门与实战资料/数据集/卫星图像识别数据/2_class/airplane/airplane_465.jpg'),\n",
       " WindowsPath('D:/Study/深度学习/日月光华-tensorflow入门与实战资料/数据集/卫星图像识别数据/2_class/airplane/airplane_466.jpg'),\n",
       " WindowsPath('D:/Study/深度学习/日月光华-tensorflow入门与实战资料/数据集/卫星图像识别数据/2_class/airplane/airplane_467.jpg'),\n",
       " WindowsPath('D:/Study/深度学习/日月光华-tensorflow入门与实战资料/数据集/卫星图像识别数据/2_class/airplane/airplane_468.jpg'),\n",
       " WindowsPath('D:/Study/深度学习/日月光华-tensorflow入门与实战资料/数据集/卫星图像识别数据/2_class/airplane/airplane_469.jpg'),\n",
       " WindowsPath('D:/Study/深度学习/日月光华-tensorflow入门与实战资料/数据集/卫星图像识别数据/2_class/airplane/airplane_470.jpg'),\n",
       " WindowsPath('D:/Study/深度学习/日月光华-tensorflow入门与实战资料/数据集/卫星图像识别数据/2_class/airplane/airplane_471.jpg'),\n",
       " WindowsPath('D:/Study/深度学习/日月光华-tensorflow入门与实战资料/数据集/卫星图像识别数据/2_class/airplane/airplane_472.jpg'),\n",
       " WindowsPath('D:/Study/深度学习/日月光华-tensorflow入门与实战资料/数据集/卫星图像识别数据/2_class/airplane/airplane_473.jpg'),\n",
       " WindowsPath('D:/Study/深度学习/日月光华-tensorflow入门与实战资料/数据集/卫星图像识别数据/2_class/airplane/airplane_474.jpg'),\n",
       " WindowsPath('D:/Study/深度学习/日月光华-tensorflow入门与实战资料/数据集/卫星图像识别数据/2_class/airplane/airplane_475.jpg'),\n",
       " WindowsPath('D:/Study/深度学习/日月光华-tensorflow入门与实战资料/数据集/卫星图像识别数据/2_class/airplane/airplane_476.jpg'),\n",
       " WindowsPath('D:/Study/深度学习/日月光华-tensorflow入门与实战资料/数据集/卫星图像识别数据/2_class/airplane/airplane_477.jpg'),\n",
       " WindowsPath('D:/Study/深度学习/日月光华-tensorflow入门与实战资料/数据集/卫星图像识别数据/2_class/airplane/airplane_478.jpg'),\n",
       " WindowsPath('D:/Study/深度学习/日月光华-tensorflow入门与实战资料/数据集/卫星图像识别数据/2_class/airplane/airplane_479.jpg'),\n",
       " WindowsPath('D:/Study/深度学习/日月光华-tensorflow入门与实战资料/数据集/卫星图像识别数据/2_class/airplane/airplane_480.jpg'),\n",
       " WindowsPath('D:/Study/深度学习/日月光华-tensorflow入门与实战资料/数据集/卫星图像识别数据/2_class/airplane/airplane_481.jpg'),\n",
       " WindowsPath('D:/Study/深度学习/日月光华-tensorflow入门与实战资料/数据集/卫星图像识别数据/2_class/airplane/airplane_482.jpg'),\n",
       " WindowsPath('D:/Study/深度学习/日月光华-tensorflow入门与实战资料/数据集/卫星图像识别数据/2_class/airplane/airplane_483.jpg'),\n",
       " WindowsPath('D:/Study/深度学习/日月光华-tensorflow入门与实战资料/数据集/卫星图像识别数据/2_class/airplane/airplane_484.jpg'),\n",
       " WindowsPath('D:/Study/深度学习/日月光华-tensorflow入门与实战资料/数据集/卫星图像识别数据/2_class/airplane/airplane_485.jpg'),\n",
       " WindowsPath('D:/Study/深度学习/日月光华-tensorflow入门与实战资料/数据集/卫星图像识别数据/2_class/airplane/airplane_486.jpg'),\n",
       " WindowsPath('D:/Study/深度学习/日月光华-tensorflow入门与实战资料/数据集/卫星图像识别数据/2_class/airplane/airplane_487.jpg'),\n",
       " WindowsPath('D:/Study/深度学习/日月光华-tensorflow入门与实战资料/数据集/卫星图像识别数据/2_class/airplane/airplane_488.jpg'),\n",
       " WindowsPath('D:/Study/深度学习/日月光华-tensorflow入门与实战资料/数据集/卫星图像识别数据/2_class/airplane/airplane_489.jpg'),\n",
       " WindowsPath('D:/Study/深度学习/日月光华-tensorflow入门与实战资料/数据集/卫星图像识别数据/2_class/airplane/airplane_490.jpg'),\n",
       " WindowsPath('D:/Study/深度学习/日月光华-tensorflow入门与实战资料/数据集/卫星图像识别数据/2_class/airplane/airplane_491.jpg'),\n",
       " WindowsPath('D:/Study/深度学习/日月光华-tensorflow入门与实战资料/数据集/卫星图像识别数据/2_class/airplane/airplane_492.jpg'),\n",
       " WindowsPath('D:/Study/深度学习/日月光华-tensorflow入门与实战资料/数据集/卫星图像识别数据/2_class/airplane/airplane_493.jpg'),\n",
       " WindowsPath('D:/Study/深度学习/日月光华-tensorflow入门与实战资料/数据集/卫星图像识别数据/2_class/airplane/airplane_494.jpg'),\n",
       " WindowsPath('D:/Study/深度学习/日月光华-tensorflow入门与实战资料/数据集/卫星图像识别数据/2_class/airplane/airplane_495.jpg'),\n",
       " WindowsPath('D:/Study/深度学习/日月光华-tensorflow入门与实战资料/数据集/卫星图像识别数据/2_class/airplane/airplane_496.jpg'),\n",
       " WindowsPath('D:/Study/深度学习/日月光华-tensorflow入门与实战资料/数据集/卫星图像识别数据/2_class/airplane/airplane_497.jpg'),\n",
       " WindowsPath('D:/Study/深度学习/日月光华-tensorflow入门与实战资料/数据集/卫星图像识别数据/2_class/airplane/airplane_498.jpg'),\n",
       " WindowsPath('D:/Study/深度学习/日月光华-tensorflow入门与实战资料/数据集/卫星图像识别数据/2_class/airplane/airplane_499.jpg'),\n",
       " WindowsPath('D:/Study/深度学习/日月光华-tensorflow入门与实战资料/数据集/卫星图像识别数据/2_class/airplane/airplane_500.jpg'),\n",
       " WindowsPath('D:/Study/深度学习/日月光华-tensorflow入门与实战资料/数据集/卫星图像识别数据/2_class/airplane/airplane_501.jpg'),\n",
       " WindowsPath('D:/Study/深度学习/日月光华-tensorflow入门与实战资料/数据集/卫星图像识别数据/2_class/airplane/airplane_502.jpg'),\n",
       " WindowsPath('D:/Study/深度学习/日月光华-tensorflow入门与实战资料/数据集/卫星图像识别数据/2_class/airplane/airplane_503.jpg'),\n",
       " WindowsPath('D:/Study/深度学习/日月光华-tensorflow入门与实战资料/数据集/卫星图像识别数据/2_class/airplane/airplane_504.jpg'),\n",
       " WindowsPath('D:/Study/深度学习/日月光华-tensorflow入门与实战资料/数据集/卫星图像识别数据/2_class/airplane/airplane_505.jpg'),\n",
       " WindowsPath('D:/Study/深度学习/日月光华-tensorflow入门与实战资料/数据集/卫星图像识别数据/2_class/airplane/airplane_506.jpg'),\n",
       " WindowsPath('D:/Study/深度学习/日月光华-tensorflow入门与实战资料/数据集/卫星图像识别数据/2_class/airplane/airplane_507.jpg'),\n",
       " WindowsPath('D:/Study/深度学习/日月光华-tensorflow入门与实战资料/数据集/卫星图像识别数据/2_class/airplane/airplane_508.jpg'),\n",
       " WindowsPath('D:/Study/深度学习/日月光华-tensorflow入门与实战资料/数据集/卫星图像识别数据/2_class/airplane/airplane_509.jpg'),\n",
       " WindowsPath('D:/Study/深度学习/日月光华-tensorflow入门与实战资料/数据集/卫星图像识别数据/2_class/airplane/airplane_510.jpg'),\n",
       " WindowsPath('D:/Study/深度学习/日月光华-tensorflow入门与实战资料/数据集/卫星图像识别数据/2_class/airplane/airplane_511.jpg'),\n",
       " WindowsPath('D:/Study/深度学习/日月光华-tensorflow入门与实战资料/数据集/卫星图像识别数据/2_class/airplane/airplane_512.jpg'),\n",
       " WindowsPath('D:/Study/深度学习/日月光华-tensorflow入门与实战资料/数据集/卫星图像识别数据/2_class/airplane/airplane_513.jpg'),\n",
       " WindowsPath('D:/Study/深度学习/日月光华-tensorflow入门与实战资料/数据集/卫星图像识别数据/2_class/airplane/airplane_514.jpg'),\n",
       " WindowsPath('D:/Study/深度学习/日月光华-tensorflow入门与实战资料/数据集/卫星图像识别数据/2_class/airplane/airplane_515.jpg'),\n",
       " WindowsPath('D:/Study/深度学习/日月光华-tensorflow入门与实战资料/数据集/卫星图像识别数据/2_class/airplane/airplane_516.jpg'),\n",
       " WindowsPath('D:/Study/深度学习/日月光华-tensorflow入门与实战资料/数据集/卫星图像识别数据/2_class/airplane/airplane_517.jpg'),\n",
       " WindowsPath('D:/Study/深度学习/日月光华-tensorflow入门与实战资料/数据集/卫星图像识别数据/2_class/airplane/airplane_518.jpg'),\n",
       " WindowsPath('D:/Study/深度学习/日月光华-tensorflow入门与实战资料/数据集/卫星图像识别数据/2_class/airplane/airplane_519.jpg'),\n",
       " WindowsPath('D:/Study/深度学习/日月光华-tensorflow入门与实战资料/数据集/卫星图像识别数据/2_class/airplane/airplane_520.jpg'),\n",
       " WindowsPath('D:/Study/深度学习/日月光华-tensorflow入门与实战资料/数据集/卫星图像识别数据/2_class/airplane/airplane_521.jpg'),\n",
       " WindowsPath('D:/Study/深度学习/日月光华-tensorflow入门与实战资料/数据集/卫星图像识别数据/2_class/airplane/airplane_522.jpg'),\n",
       " WindowsPath('D:/Study/深度学习/日月光华-tensorflow入门与实战资料/数据集/卫星图像识别数据/2_class/airplane/airplane_523.jpg'),\n",
       " WindowsPath('D:/Study/深度学习/日月光华-tensorflow入门与实战资料/数据集/卫星图像识别数据/2_class/airplane/airplane_524.jpg'),\n",
       " WindowsPath('D:/Study/深度学习/日月光华-tensorflow入门与实战资料/数据集/卫星图像识别数据/2_class/airplane/airplane_525.jpg'),\n",
       " WindowsPath('D:/Study/深度学习/日月光华-tensorflow入门与实战资料/数据集/卫星图像识别数据/2_class/airplane/airplane_526.jpg'),\n",
       " WindowsPath('D:/Study/深度学习/日月光华-tensorflow入门与实战资料/数据集/卫星图像识别数据/2_class/airplane/airplane_527.jpg'),\n",
       " WindowsPath('D:/Study/深度学习/日月光华-tensorflow入门与实战资料/数据集/卫星图像识别数据/2_class/airplane/airplane_528.jpg'),\n",
       " WindowsPath('D:/Study/深度学习/日月光华-tensorflow入门与实战资料/数据集/卫星图像识别数据/2_class/airplane/airplane_529.jpg'),\n",
       " WindowsPath('D:/Study/深度学习/日月光华-tensorflow入门与实战资料/数据集/卫星图像识别数据/2_class/airplane/airplane_530.jpg'),\n",
       " WindowsPath('D:/Study/深度学习/日月光华-tensorflow入门与实战资料/数据集/卫星图像识别数据/2_class/airplane/airplane_531.jpg'),\n",
       " WindowsPath('D:/Study/深度学习/日月光华-tensorflow入门与实战资料/数据集/卫星图像识别数据/2_class/airplane/airplane_532.jpg'),\n",
       " WindowsPath('D:/Study/深度学习/日月光华-tensorflow入门与实战资料/数据集/卫星图像识别数据/2_class/airplane/airplane_533.jpg'),\n",
       " WindowsPath('D:/Study/深度学习/日月光华-tensorflow入门与实战资料/数据集/卫星图像识别数据/2_class/airplane/airplane_534.jpg'),\n",
       " WindowsPath('D:/Study/深度学习/日月光华-tensorflow入门与实战资料/数据集/卫星图像识别数据/2_class/airplane/airplane_535.jpg'),\n",
       " WindowsPath('D:/Study/深度学习/日月光华-tensorflow入门与实战资料/数据集/卫星图像识别数据/2_class/airplane/airplane_536.jpg'),\n",
       " WindowsPath('D:/Study/深度学习/日月光华-tensorflow入门与实战资料/数据集/卫星图像识别数据/2_class/airplane/airplane_537.jpg'),\n",
       " WindowsPath('D:/Study/深度学习/日月光华-tensorflow入门与实战资料/数据集/卫星图像识别数据/2_class/airplane/airplane_538.jpg'),\n",
       " WindowsPath('D:/Study/深度学习/日月光华-tensorflow入门与实战资料/数据集/卫星图像识别数据/2_class/airplane/airplane_539.jpg'),\n",
       " WindowsPath('D:/Study/深度学习/日月光华-tensorflow入门与实战资料/数据集/卫星图像识别数据/2_class/airplane/airplane_540.jpg'),\n",
       " WindowsPath('D:/Study/深度学习/日月光华-tensorflow入门与实战资料/数据集/卫星图像识别数据/2_class/airplane/airplane_541.jpg'),\n",
       " WindowsPath('D:/Study/深度学习/日月光华-tensorflow入门与实战资料/数据集/卫星图像识别数据/2_class/airplane/airplane_542.jpg'),\n",
       " WindowsPath('D:/Study/深度学习/日月光华-tensorflow入门与实战资料/数据集/卫星图像识别数据/2_class/airplane/airplane_543.jpg'),\n",
       " WindowsPath('D:/Study/深度学习/日月光华-tensorflow入门与实战资料/数据集/卫星图像识别数据/2_class/airplane/airplane_544.jpg'),\n",
       " WindowsPath('D:/Study/深度学习/日月光华-tensorflow入门与实战资料/数据集/卫星图像识别数据/2_class/airplane/airplane_545.jpg'),\n",
       " WindowsPath('D:/Study/深度学习/日月光华-tensorflow入门与实战资料/数据集/卫星图像识别数据/2_class/airplane/airplane_546.jpg'),\n",
       " WindowsPath('D:/Study/深度学习/日月光华-tensorflow入门与实战资料/数据集/卫星图像识别数据/2_class/airplane/airplane_547.jpg'),\n",
       " WindowsPath('D:/Study/深度学习/日月光华-tensorflow入门与实战资料/数据集/卫星图像识别数据/2_class/airplane/airplane_548.jpg'),\n",
       " WindowsPath('D:/Study/深度学习/日月光华-tensorflow入门与实战资料/数据集/卫星图像识别数据/2_class/airplane/airplane_549.jpg'),\n",
       " WindowsPath('D:/Study/深度学习/日月光华-tensorflow入门与实战资料/数据集/卫星图像识别数据/2_class/airplane/airplane_550.jpg'),\n",
       " WindowsPath('D:/Study/深度学习/日月光华-tensorflow入门与实战资料/数据集/卫星图像识别数据/2_class/airplane/airplane_551.jpg'),\n",
       " WindowsPath('D:/Study/深度学习/日月光华-tensorflow入门与实战资料/数据集/卫星图像识别数据/2_class/airplane/airplane_552.jpg'),\n",
       " WindowsPath('D:/Study/深度学习/日月光华-tensorflow入门与实战资料/数据集/卫星图像识别数据/2_class/airplane/airplane_553.jpg'),\n",
       " WindowsPath('D:/Study/深度学习/日月光华-tensorflow入门与实战资料/数据集/卫星图像识别数据/2_class/airplane/airplane_554.jpg'),\n",
       " WindowsPath('D:/Study/深度学习/日月光华-tensorflow入门与实战资料/数据集/卫星图像识别数据/2_class/airplane/airplane_555.jpg'),\n",
       " WindowsPath('D:/Study/深度学习/日月光华-tensorflow入门与实战资料/数据集/卫星图像识别数据/2_class/airplane/airplane_556.jpg'),\n",
       " WindowsPath('D:/Study/深度学习/日月光华-tensorflow入门与实战资料/数据集/卫星图像识别数据/2_class/airplane/airplane_557.jpg'),\n",
       " WindowsPath('D:/Study/深度学习/日月光华-tensorflow入门与实战资料/数据集/卫星图像识别数据/2_class/airplane/airplane_558.jpg'),\n",
       " WindowsPath('D:/Study/深度学习/日月光华-tensorflow入门与实战资料/数据集/卫星图像识别数据/2_class/airplane/airplane_559.jpg'),\n",
       " WindowsPath('D:/Study/深度学习/日月光华-tensorflow入门与实战资料/数据集/卫星图像识别数据/2_class/airplane/airplane_560.jpg'),\n",
       " WindowsPath('D:/Study/深度学习/日月光华-tensorflow入门与实战资料/数据集/卫星图像识别数据/2_class/airplane/airplane_561.jpg'),\n",
       " WindowsPath('D:/Study/深度学习/日月光华-tensorflow入门与实战资料/数据集/卫星图像识别数据/2_class/airplane/airplane_562.jpg'),\n",
       " WindowsPath('D:/Study/深度学习/日月光华-tensorflow入门与实战资料/数据集/卫星图像识别数据/2_class/airplane/airplane_563.jpg'),\n",
       " WindowsPath('D:/Study/深度学习/日月光华-tensorflow入门与实战资料/数据集/卫星图像识别数据/2_class/airplane/airplane_564.jpg'),\n",
       " WindowsPath('D:/Study/深度学习/日月光华-tensorflow入门与实战资料/数据集/卫星图像识别数据/2_class/airplane/airplane_565.jpg'),\n",
       " WindowsPath('D:/Study/深度学习/日月光华-tensorflow入门与实战资料/数据集/卫星图像识别数据/2_class/airplane/airplane_566.jpg'),\n",
       " WindowsPath('D:/Study/深度学习/日月光华-tensorflow入门与实战资料/数据集/卫星图像识别数据/2_class/airplane/airplane_567.jpg'),\n",
       " WindowsPath('D:/Study/深度学习/日月光华-tensorflow入门与实战资料/数据集/卫星图像识别数据/2_class/airplane/airplane_568.jpg'),\n",
       " WindowsPath('D:/Study/深度学习/日月光华-tensorflow入门与实战资料/数据集/卫星图像识别数据/2_class/airplane/airplane_569.jpg'),\n",
       " WindowsPath('D:/Study/深度学习/日月光华-tensorflow入门与实战资料/数据集/卫星图像识别数据/2_class/airplane/airplane_570.jpg'),\n",
       " WindowsPath('D:/Study/深度学习/日月光华-tensorflow入门与实战资料/数据集/卫星图像识别数据/2_class/airplane/airplane_571.jpg'),\n",
       " WindowsPath('D:/Study/深度学习/日月光华-tensorflow入门与实战资料/数据集/卫星图像识别数据/2_class/airplane/airplane_572.jpg'),\n",
       " WindowsPath('D:/Study/深度学习/日月光华-tensorflow入门与实战资料/数据集/卫星图像识别数据/2_class/airplane/airplane_573.jpg'),\n",
       " WindowsPath('D:/Study/深度学习/日月光华-tensorflow入门与实战资料/数据集/卫星图像识别数据/2_class/airplane/airplane_574.jpg'),\n",
       " WindowsPath('D:/Study/深度学习/日月光华-tensorflow入门与实战资料/数据集/卫星图像识别数据/2_class/airplane/airplane_575.jpg'),\n",
       " WindowsPath('D:/Study/深度学习/日月光华-tensorflow入门与实战资料/数据集/卫星图像识别数据/2_class/airplane/airplane_576.jpg'),\n",
       " WindowsPath('D:/Study/深度学习/日月光华-tensorflow入门与实战资料/数据集/卫星图像识别数据/2_class/airplane/airplane_577.jpg'),\n",
       " WindowsPath('D:/Study/深度学习/日月光华-tensorflow入门与实战资料/数据集/卫星图像识别数据/2_class/airplane/airplane_578.jpg'),\n",
       " WindowsPath('D:/Study/深度学习/日月光华-tensorflow入门与实战资料/数据集/卫星图像识别数据/2_class/airplane/airplane_579.jpg'),\n",
       " WindowsPath('D:/Study/深度学习/日月光华-tensorflow入门与实战资料/数据集/卫星图像识别数据/2_class/airplane/airplane_580.jpg'),\n",
       " WindowsPath('D:/Study/深度学习/日月光华-tensorflow入门与实战资料/数据集/卫星图像识别数据/2_class/airplane/airplane_581.jpg'),\n",
       " WindowsPath('D:/Study/深度学习/日月光华-tensorflow入门与实战资料/数据集/卫星图像识别数据/2_class/airplane/airplane_582.jpg'),\n",
       " WindowsPath('D:/Study/深度学习/日月光华-tensorflow入门与实战资料/数据集/卫星图像识别数据/2_class/airplane/airplane_583.jpg'),\n",
       " WindowsPath('D:/Study/深度学习/日月光华-tensorflow入门与实战资料/数据集/卫星图像识别数据/2_class/airplane/airplane_584.jpg'),\n",
       " WindowsPath('D:/Study/深度学习/日月光华-tensorflow入门与实战资料/数据集/卫星图像识别数据/2_class/airplane/airplane_585.jpg'),\n",
       " WindowsPath('D:/Study/深度学习/日月光华-tensorflow入门与实战资料/数据集/卫星图像识别数据/2_class/airplane/airplane_586.jpg'),\n",
       " WindowsPath('D:/Study/深度学习/日月光华-tensorflow入门与实战资料/数据集/卫星图像识别数据/2_class/airplane/airplane_587.jpg'),\n",
       " WindowsPath('D:/Study/深度学习/日月光华-tensorflow入门与实战资料/数据集/卫星图像识别数据/2_class/airplane/airplane_588.jpg'),\n",
       " WindowsPath('D:/Study/深度学习/日月光华-tensorflow入门与实战资料/数据集/卫星图像识别数据/2_class/airplane/airplane_589.jpg'),\n",
       " WindowsPath('D:/Study/深度学习/日月光华-tensorflow入门与实战资料/数据集/卫星图像识别数据/2_class/airplane/airplane_590.jpg'),\n",
       " WindowsPath('D:/Study/深度学习/日月光华-tensorflow入门与实战资料/数据集/卫星图像识别数据/2_class/airplane/airplane_591.jpg'),\n",
       " WindowsPath('D:/Study/深度学习/日月光华-tensorflow入门与实战资料/数据集/卫星图像识别数据/2_class/airplane/airplane_592.jpg'),\n",
       " WindowsPath('D:/Study/深度学习/日月光华-tensorflow入门与实战资料/数据集/卫星图像识别数据/2_class/airplane/airplane_593.jpg'),\n",
       " WindowsPath('D:/Study/深度学习/日月光华-tensorflow入门与实战资料/数据集/卫星图像识别数据/2_class/airplane/airplane_594.jpg'),\n",
       " WindowsPath('D:/Study/深度学习/日月光华-tensorflow入门与实战资料/数据集/卫星图像识别数据/2_class/airplane/airplane_595.jpg'),\n",
       " WindowsPath('D:/Study/深度学习/日月光华-tensorflow入门与实战资料/数据集/卫星图像识别数据/2_class/airplane/airplane_596.jpg'),\n",
       " WindowsPath('D:/Study/深度学习/日月光华-tensorflow入门与实战资料/数据集/卫星图像识别数据/2_class/airplane/airplane_597.jpg'),\n",
       " WindowsPath('D:/Study/深度学习/日月光华-tensorflow入门与实战资料/数据集/卫星图像识别数据/2_class/airplane/airplane_598.jpg'),\n",
       " WindowsPath('D:/Study/深度学习/日月光华-tensorflow入门与实战资料/数据集/卫星图像识别数据/2_class/airplane/airplane_599.jpg'),\n",
       " WindowsPath('D:/Study/深度学习/日月光华-tensorflow入门与实战资料/数据集/卫星图像识别数据/2_class/airplane/airplane_600.jpg'),\n",
       " WindowsPath('D:/Study/深度学习/日月光华-tensorflow入门与实战资料/数据集/卫星图像识别数据/2_class/airplane/airplane_601.jpg'),\n",
       " WindowsPath('D:/Study/深度学习/日月光华-tensorflow入门与实战资料/数据集/卫星图像识别数据/2_class/airplane/airplane_602.jpg'),\n",
       " WindowsPath('D:/Study/深度学习/日月光华-tensorflow入门与实战资料/数据集/卫星图像识别数据/2_class/airplane/airplane_603.jpg'),\n",
       " WindowsPath('D:/Study/深度学习/日月光华-tensorflow入门与实战资料/数据集/卫星图像识别数据/2_class/airplane/airplane_604.jpg'),\n",
       " WindowsPath('D:/Study/深度学习/日月光华-tensorflow入门与实战资料/数据集/卫星图像识别数据/2_class/airplane/airplane_605.jpg'),\n",
       " WindowsPath('D:/Study/深度学习/日月光华-tensorflow入门与实战资料/数据集/卫星图像识别数据/2_class/airplane/airplane_606.jpg'),\n",
       " WindowsPath('D:/Study/深度学习/日月光华-tensorflow入门与实战资料/数据集/卫星图像识别数据/2_class/airplane/airplane_607.jpg'),\n",
       " WindowsPath('D:/Study/深度学习/日月光华-tensorflow入门与实战资料/数据集/卫星图像识别数据/2_class/airplane/airplane_608.jpg'),\n",
       " WindowsPath('D:/Study/深度学习/日月光华-tensorflow入门与实战资料/数据集/卫星图像识别数据/2_class/airplane/airplane_609.jpg'),\n",
       " WindowsPath('D:/Study/深度学习/日月光华-tensorflow入门与实战资料/数据集/卫星图像识别数据/2_class/airplane/airplane_610.jpg'),\n",
       " WindowsPath('D:/Study/深度学习/日月光华-tensorflow入门与实战资料/数据集/卫星图像识别数据/2_class/airplane/airplane_611.jpg'),\n",
       " WindowsPath('D:/Study/深度学习/日月光华-tensorflow入门与实战资料/数据集/卫星图像识别数据/2_class/airplane/airplane_612.jpg'),\n",
       " WindowsPath('D:/Study/深度学习/日月光华-tensorflow入门与实战资料/数据集/卫星图像识别数据/2_class/airplane/airplane_613.jpg'),\n",
       " WindowsPath('D:/Study/深度学习/日月光华-tensorflow入门与实战资料/数据集/卫星图像识别数据/2_class/airplane/airplane_614.jpg'),\n",
       " WindowsPath('D:/Study/深度学习/日月光华-tensorflow入门与实战资料/数据集/卫星图像识别数据/2_class/airplane/airplane_615.jpg'),\n",
       " WindowsPath('D:/Study/深度学习/日月光华-tensorflow入门与实战资料/数据集/卫星图像识别数据/2_class/airplane/airplane_616.jpg'),\n",
       " WindowsPath('D:/Study/深度学习/日月光华-tensorflow入门与实战资料/数据集/卫星图像识别数据/2_class/airplane/airplane_617.jpg'),\n",
       " WindowsPath('D:/Study/深度学习/日月光华-tensorflow入门与实战资料/数据集/卫星图像识别数据/2_class/airplane/airplane_618.jpg'),\n",
       " WindowsPath('D:/Study/深度学习/日月光华-tensorflow入门与实战资料/数据集/卫星图像识别数据/2_class/airplane/airplane_619.jpg'),\n",
       " WindowsPath('D:/Study/深度学习/日月光华-tensorflow入门与实战资料/数据集/卫星图像识别数据/2_class/airplane/airplane_620.jpg'),\n",
       " WindowsPath('D:/Study/深度学习/日月光华-tensorflow入门与实战资料/数据集/卫星图像识别数据/2_class/airplane/airplane_621.jpg'),\n",
       " WindowsPath('D:/Study/深度学习/日月光华-tensorflow入门与实战资料/数据集/卫星图像识别数据/2_class/airplane/airplane_622.jpg'),\n",
       " WindowsPath('D:/Study/深度学习/日月光华-tensorflow入门与实战资料/数据集/卫星图像识别数据/2_class/airplane/airplane_623.jpg'),\n",
       " WindowsPath('D:/Study/深度学习/日月光华-tensorflow入门与实战资料/数据集/卫星图像识别数据/2_class/airplane/airplane_624.jpg'),\n",
       " WindowsPath('D:/Study/深度学习/日月光华-tensorflow入门与实战资料/数据集/卫星图像识别数据/2_class/airplane/airplane_625.jpg'),\n",
       " WindowsPath('D:/Study/深度学习/日月光华-tensorflow入门与实战资料/数据集/卫星图像识别数据/2_class/airplane/airplane_626.jpg'),\n",
       " WindowsPath('D:/Study/深度学习/日月光华-tensorflow入门与实战资料/数据集/卫星图像识别数据/2_class/airplane/airplane_627.jpg'),\n",
       " WindowsPath('D:/Study/深度学习/日月光华-tensorflow入门与实战资料/数据集/卫星图像识别数据/2_class/airplane/airplane_628.jpg'),\n",
       " WindowsPath('D:/Study/深度学习/日月光华-tensorflow入门与实战资料/数据集/卫星图像识别数据/2_class/airplane/airplane_629.jpg'),\n",
       " WindowsPath('D:/Study/深度学习/日月光华-tensorflow入门与实战资料/数据集/卫星图像识别数据/2_class/airplane/airplane_630.jpg'),\n",
       " WindowsPath('D:/Study/深度学习/日月光华-tensorflow入门与实战资料/数据集/卫星图像识别数据/2_class/airplane/airplane_631.jpg'),\n",
       " WindowsPath('D:/Study/深度学习/日月光华-tensorflow入门与实战资料/数据集/卫星图像识别数据/2_class/airplane/airplane_632.jpg'),\n",
       " WindowsPath('D:/Study/深度学习/日月光华-tensorflow入门与实战资料/数据集/卫星图像识别数据/2_class/airplane/airplane_633.jpg'),\n",
       " WindowsPath('D:/Study/深度学习/日月光华-tensorflow入门与实战资料/数据集/卫星图像识别数据/2_class/airplane/airplane_634.jpg'),\n",
       " WindowsPath('D:/Study/深度学习/日月光华-tensorflow入门与实战资料/数据集/卫星图像识别数据/2_class/airplane/airplane_635.jpg'),\n",
       " WindowsPath('D:/Study/深度学习/日月光华-tensorflow入门与实战资料/数据集/卫星图像识别数据/2_class/airplane/airplane_636.jpg'),\n",
       " WindowsPath('D:/Study/深度学习/日月光华-tensorflow入门与实战资料/数据集/卫星图像识别数据/2_class/airplane/airplane_637.jpg'),\n",
       " WindowsPath('D:/Study/深度学习/日月光华-tensorflow入门与实战资料/数据集/卫星图像识别数据/2_class/airplane/airplane_638.jpg'),\n",
       " WindowsPath('D:/Study/深度学习/日月光华-tensorflow入门与实战资料/数据集/卫星图像识别数据/2_class/airplane/airplane_639.jpg'),\n",
       " WindowsPath('D:/Study/深度学习/日月光华-tensorflow入门与实战资料/数据集/卫星图像识别数据/2_class/airplane/airplane_640.jpg'),\n",
       " WindowsPath('D:/Study/深度学习/日月光华-tensorflow入门与实战资料/数据集/卫星图像识别数据/2_class/airplane/airplane_641.jpg'),\n",
       " WindowsPath('D:/Study/深度学习/日月光华-tensorflow入门与实战资料/数据集/卫星图像识别数据/2_class/airplane/airplane_642.jpg'),\n",
       " WindowsPath('D:/Study/深度学习/日月光华-tensorflow入门与实战资料/数据集/卫星图像识别数据/2_class/airplane/airplane_643.jpg'),\n",
       " WindowsPath('D:/Study/深度学习/日月光华-tensorflow入门与实战资料/数据集/卫星图像识别数据/2_class/airplane/airplane_644.jpg'),\n",
       " WindowsPath('D:/Study/深度学习/日月光华-tensorflow入门与实战资料/数据集/卫星图像识别数据/2_class/airplane/airplane_645.jpg'),\n",
       " WindowsPath('D:/Study/深度学习/日月光华-tensorflow入门与实战资料/数据集/卫星图像识别数据/2_class/airplane/airplane_646.jpg'),\n",
       " WindowsPath('D:/Study/深度学习/日月光华-tensorflow入门与实战资料/数据集/卫星图像识别数据/2_class/airplane/airplane_647.jpg'),\n",
       " WindowsPath('D:/Study/深度学习/日月光华-tensorflow入门与实战资料/数据集/卫星图像识别数据/2_class/airplane/airplane_648.jpg'),\n",
       " WindowsPath('D:/Study/深度学习/日月光华-tensorflow入门与实战资料/数据集/卫星图像识别数据/2_class/airplane/airplane_649.jpg'),\n",
       " WindowsPath('D:/Study/深度学习/日月光华-tensorflow入门与实战资料/数据集/卫星图像识别数据/2_class/airplane/airplane_650.jpg'),\n",
       " WindowsPath('D:/Study/深度学习/日月光华-tensorflow入门与实战资料/数据集/卫星图像识别数据/2_class/airplane/airplane_651.jpg'),\n",
       " WindowsPath('D:/Study/深度学习/日月光华-tensorflow入门与实战资料/数据集/卫星图像识别数据/2_class/airplane/airplane_652.jpg'),\n",
       " WindowsPath('D:/Study/深度学习/日月光华-tensorflow入门与实战资料/数据集/卫星图像识别数据/2_class/airplane/airplane_653.jpg'),\n",
       " WindowsPath('D:/Study/深度学习/日月光华-tensorflow入门与实战资料/数据集/卫星图像识别数据/2_class/airplane/airplane_654.jpg'),\n",
       " WindowsPath('D:/Study/深度学习/日月光华-tensorflow入门与实战资料/数据集/卫星图像识别数据/2_class/airplane/airplane_655.jpg'),\n",
       " WindowsPath('D:/Study/深度学习/日月光华-tensorflow入门与实战资料/数据集/卫星图像识别数据/2_class/airplane/airplane_656.jpg'),\n",
       " WindowsPath('D:/Study/深度学习/日月光华-tensorflow入门与实战资料/数据集/卫星图像识别数据/2_class/airplane/airplane_657.jpg'),\n",
       " WindowsPath('D:/Study/深度学习/日月光华-tensorflow入门与实战资料/数据集/卫星图像识别数据/2_class/airplane/airplane_658.jpg'),\n",
       " WindowsPath('D:/Study/深度学习/日月光华-tensorflow入门与实战资料/数据集/卫星图像识别数据/2_class/airplane/airplane_659.jpg'),\n",
       " WindowsPath('D:/Study/深度学习/日月光华-tensorflow入门与实战资料/数据集/卫星图像识别数据/2_class/airplane/airplane_660.jpg'),\n",
       " WindowsPath('D:/Study/深度学习/日月光华-tensorflow入门与实战资料/数据集/卫星图像识别数据/2_class/airplane/airplane_661.jpg'),\n",
       " WindowsPath('D:/Study/深度学习/日月光华-tensorflow入门与实战资料/数据集/卫星图像识别数据/2_class/airplane/airplane_662.jpg'),\n",
       " WindowsPath('D:/Study/深度学习/日月光华-tensorflow入门与实战资料/数据集/卫星图像识别数据/2_class/airplane/airplane_663.jpg'),\n",
       " WindowsPath('D:/Study/深度学习/日月光华-tensorflow入门与实战资料/数据集/卫星图像识别数据/2_class/airplane/airplane_664.jpg'),\n",
       " WindowsPath('D:/Study/深度学习/日月光华-tensorflow入门与实战资料/数据集/卫星图像识别数据/2_class/airplane/airplane_665.jpg'),\n",
       " WindowsPath('D:/Study/深度学习/日月光华-tensorflow入门与实战资料/数据集/卫星图像识别数据/2_class/airplane/airplane_666.jpg'),\n",
       " WindowsPath('D:/Study/深度学习/日月光华-tensorflow入门与实战资料/数据集/卫星图像识别数据/2_class/airplane/airplane_667.jpg'),\n",
       " WindowsPath('D:/Study/深度学习/日月光华-tensorflow入门与实战资料/数据集/卫星图像识别数据/2_class/airplane/airplane_668.jpg'),\n",
       " WindowsPath('D:/Study/深度学习/日月光华-tensorflow入门与实战资料/数据集/卫星图像识别数据/2_class/airplane/airplane_669.jpg'),\n",
       " WindowsPath('D:/Study/深度学习/日月光华-tensorflow入门与实战资料/数据集/卫星图像识别数据/2_class/airplane/airplane_670.jpg'),\n",
       " WindowsPath('D:/Study/深度学习/日月光华-tensorflow入门与实战资料/数据集/卫星图像识别数据/2_class/airplane/airplane_671.jpg'),\n",
       " WindowsPath('D:/Study/深度学习/日月光华-tensorflow入门与实战资料/数据集/卫星图像识别数据/2_class/airplane/airplane_672.jpg'),\n",
       " WindowsPath('D:/Study/深度学习/日月光华-tensorflow入门与实战资料/数据集/卫星图像识别数据/2_class/airplane/airplane_673.jpg'),\n",
       " WindowsPath('D:/Study/深度学习/日月光华-tensorflow入门与实战资料/数据集/卫星图像识别数据/2_class/airplane/airplane_674.jpg'),\n",
       " WindowsPath('D:/Study/深度学习/日月光华-tensorflow入门与实战资料/数据集/卫星图像识别数据/2_class/airplane/airplane_675.jpg'),\n",
       " WindowsPath('D:/Study/深度学习/日月光华-tensorflow入门与实战资料/数据集/卫星图像识别数据/2_class/airplane/airplane_676.jpg'),\n",
       " WindowsPath('D:/Study/深度学习/日月光华-tensorflow入门与实战资料/数据集/卫星图像识别数据/2_class/airplane/airplane_677.jpg'),\n",
       " WindowsPath('D:/Study/深度学习/日月光华-tensorflow入门与实战资料/数据集/卫星图像识别数据/2_class/airplane/airplane_678.jpg'),\n",
       " WindowsPath('D:/Study/深度学习/日月光华-tensorflow入门与实战资料/数据集/卫星图像识别数据/2_class/airplane/airplane_679.jpg'),\n",
       " WindowsPath('D:/Study/深度学习/日月光华-tensorflow入门与实战资料/数据集/卫星图像识别数据/2_class/airplane/airplane_680.jpg'),\n",
       " WindowsPath('D:/Study/深度学习/日月光华-tensorflow入门与实战资料/数据集/卫星图像识别数据/2_class/airplane/airplane_681.jpg'),\n",
       " WindowsPath('D:/Study/深度学习/日月光华-tensorflow入门与实战资料/数据集/卫星图像识别数据/2_class/airplane/airplane_682.jpg'),\n",
       " WindowsPath('D:/Study/深度学习/日月光华-tensorflow入门与实战资料/数据集/卫星图像识别数据/2_class/airplane/airplane_683.jpg'),\n",
       " WindowsPath('D:/Study/深度学习/日月光华-tensorflow入门与实战资料/数据集/卫星图像识别数据/2_class/airplane/airplane_684.jpg'),\n",
       " WindowsPath('D:/Study/深度学习/日月光华-tensorflow入门与实战资料/数据集/卫星图像识别数据/2_class/airplane/airplane_685.jpg'),\n",
       " WindowsPath('D:/Study/深度学习/日月光华-tensorflow入门与实战资料/数据集/卫星图像识别数据/2_class/airplane/airplane_686.jpg'),\n",
       " WindowsPath('D:/Study/深度学习/日月光华-tensorflow入门与实战资料/数据集/卫星图像识别数据/2_class/airplane/airplane_687.jpg'),\n",
       " WindowsPath('D:/Study/深度学习/日月光华-tensorflow入门与实战资料/数据集/卫星图像识别数据/2_class/airplane/airplane_688.jpg'),\n",
       " WindowsPath('D:/Study/深度学习/日月光华-tensorflow入门与实战资料/数据集/卫星图像识别数据/2_class/airplane/airplane_689.jpg'),\n",
       " WindowsPath('D:/Study/深度学习/日月光华-tensorflow入门与实战资料/数据集/卫星图像识别数据/2_class/airplane/airplane_690.jpg'),\n",
       " WindowsPath('D:/Study/深度学习/日月光华-tensorflow入门与实战资料/数据集/卫星图像识别数据/2_class/airplane/airplane_691.jpg'),\n",
       " WindowsPath('D:/Study/深度学习/日月光华-tensorflow入门与实战资料/数据集/卫星图像识别数据/2_class/airplane/airplane_692.jpg'),\n",
       " WindowsPath('D:/Study/深度学习/日月光华-tensorflow入门与实战资料/数据集/卫星图像识别数据/2_class/airplane/airplane_693.jpg'),\n",
       " WindowsPath('D:/Study/深度学习/日月光华-tensorflow入门与实战资料/数据集/卫星图像识别数据/2_class/airplane/airplane_694.jpg'),\n",
       " WindowsPath('D:/Study/深度学习/日月光华-tensorflow入门与实战资料/数据集/卫星图像识别数据/2_class/airplane/airplane_695.jpg'),\n",
       " WindowsPath('D:/Study/深度学习/日月光华-tensorflow入门与实战资料/数据集/卫星图像识别数据/2_class/airplane/airplane_696.jpg'),\n",
       " WindowsPath('D:/Study/深度学习/日月光华-tensorflow入门与实战资料/数据集/卫星图像识别数据/2_class/airplane/airplane_697.jpg'),\n",
       " WindowsPath('D:/Study/深度学习/日月光华-tensorflow入门与实战资料/数据集/卫星图像识别数据/2_class/airplane/airplane_698.jpg'),\n",
       " WindowsPath('D:/Study/深度学习/日月光华-tensorflow入门与实战资料/数据集/卫星图像识别数据/2_class/airplane/airplane_699.jpg'),\n",
       " WindowsPath('D:/Study/深度学习/日月光华-tensorflow入门与实战资料/数据集/卫星图像识别数据/2_class/airplane/airplane_700.jpg'),\n",
       " WindowsPath('D:/Study/深度学习/日月光华-tensorflow入门与实战资料/数据集/卫星图像识别数据/2_class/lake/lake_001.jpg'),\n",
       " WindowsPath('D:/Study/深度学习/日月光华-tensorflow入门与实战资料/数据集/卫星图像识别数据/2_class/lake/lake_002.jpg'),\n",
       " WindowsPath('D:/Study/深度学习/日月光华-tensorflow入门与实战资料/数据集/卫星图像识别数据/2_class/lake/lake_003.jpg'),\n",
       " WindowsPath('D:/Study/深度学习/日月光华-tensorflow入门与实战资料/数据集/卫星图像识别数据/2_class/lake/lake_004.jpg'),\n",
       " WindowsPath('D:/Study/深度学习/日月光华-tensorflow入门与实战资料/数据集/卫星图像识别数据/2_class/lake/lake_005.jpg'),\n",
       " WindowsPath('D:/Study/深度学习/日月光华-tensorflow入门与实战资料/数据集/卫星图像识别数据/2_class/lake/lake_006.jpg'),\n",
       " WindowsPath('D:/Study/深度学习/日月光华-tensorflow入门与实战资料/数据集/卫星图像识别数据/2_class/lake/lake_007.jpg'),\n",
       " WindowsPath('D:/Study/深度学习/日月光华-tensorflow入门与实战资料/数据集/卫星图像识别数据/2_class/lake/lake_008.jpg'),\n",
       " WindowsPath('D:/Study/深度学习/日月光华-tensorflow入门与实战资料/数据集/卫星图像识别数据/2_class/lake/lake_009.jpg'),\n",
       " WindowsPath('D:/Study/深度学习/日月光华-tensorflow入门与实战资料/数据集/卫星图像识别数据/2_class/lake/lake_010.jpg'),\n",
       " WindowsPath('D:/Study/深度学习/日月光华-tensorflow入门与实战资料/数据集/卫星图像识别数据/2_class/lake/lake_011.jpg'),\n",
       " WindowsPath('D:/Study/深度学习/日月光华-tensorflow入门与实战资料/数据集/卫星图像识别数据/2_class/lake/lake_012.jpg'),\n",
       " WindowsPath('D:/Study/深度学习/日月光华-tensorflow入门与实战资料/数据集/卫星图像识别数据/2_class/lake/lake_013.jpg'),\n",
       " WindowsPath('D:/Study/深度学习/日月光华-tensorflow入门与实战资料/数据集/卫星图像识别数据/2_class/lake/lake_014.jpg'),\n",
       " WindowsPath('D:/Study/深度学习/日月光华-tensorflow入门与实战资料/数据集/卫星图像识别数据/2_class/lake/lake_015.jpg'),\n",
       " WindowsPath('D:/Study/深度学习/日月光华-tensorflow入门与实战资料/数据集/卫星图像识别数据/2_class/lake/lake_016.jpg'),\n",
       " WindowsPath('D:/Study/深度学习/日月光华-tensorflow入门与实战资料/数据集/卫星图像识别数据/2_class/lake/lake_017.jpg'),\n",
       " WindowsPath('D:/Study/深度学习/日月光华-tensorflow入门与实战资料/数据集/卫星图像识别数据/2_class/lake/lake_018.jpg'),\n",
       " WindowsPath('D:/Study/深度学习/日月光华-tensorflow入门与实战资料/数据集/卫星图像识别数据/2_class/lake/lake_019.jpg'),\n",
       " WindowsPath('D:/Study/深度学习/日月光华-tensorflow入门与实战资料/数据集/卫星图像识别数据/2_class/lake/lake_020.jpg'),\n",
       " WindowsPath('D:/Study/深度学习/日月光华-tensorflow入门与实战资料/数据集/卫星图像识别数据/2_class/lake/lake_021.jpg'),\n",
       " WindowsPath('D:/Study/深度学习/日月光华-tensorflow入门与实战资料/数据集/卫星图像识别数据/2_class/lake/lake_022.jpg'),\n",
       " WindowsPath('D:/Study/深度学习/日月光华-tensorflow入门与实战资料/数据集/卫星图像识别数据/2_class/lake/lake_023.jpg'),\n",
       " WindowsPath('D:/Study/深度学习/日月光华-tensorflow入门与实战资料/数据集/卫星图像识别数据/2_class/lake/lake_024.jpg'),\n",
       " WindowsPath('D:/Study/深度学习/日月光华-tensorflow入门与实战资料/数据集/卫星图像识别数据/2_class/lake/lake_025.jpg'),\n",
       " WindowsPath('D:/Study/深度学习/日月光华-tensorflow入门与实战资料/数据集/卫星图像识别数据/2_class/lake/lake_026.jpg'),\n",
       " WindowsPath('D:/Study/深度学习/日月光华-tensorflow入门与实战资料/数据集/卫星图像识别数据/2_class/lake/lake_027.jpg'),\n",
       " WindowsPath('D:/Study/深度学习/日月光华-tensorflow入门与实战资料/数据集/卫星图像识别数据/2_class/lake/lake_028.jpg'),\n",
       " WindowsPath('D:/Study/深度学习/日月光华-tensorflow入门与实战资料/数据集/卫星图像识别数据/2_class/lake/lake_029.jpg'),\n",
       " WindowsPath('D:/Study/深度学习/日月光华-tensorflow入门与实战资料/数据集/卫星图像识别数据/2_class/lake/lake_030.jpg'),\n",
       " WindowsPath('D:/Study/深度学习/日月光华-tensorflow入门与实战资料/数据集/卫星图像识别数据/2_class/lake/lake_031.jpg'),\n",
       " WindowsPath('D:/Study/深度学习/日月光华-tensorflow入门与实战资料/数据集/卫星图像识别数据/2_class/lake/lake_032.jpg'),\n",
       " WindowsPath('D:/Study/深度学习/日月光华-tensorflow入门与实战资料/数据集/卫星图像识别数据/2_class/lake/lake_033.jpg'),\n",
       " WindowsPath('D:/Study/深度学习/日月光华-tensorflow入门与实战资料/数据集/卫星图像识别数据/2_class/lake/lake_034.jpg'),\n",
       " WindowsPath('D:/Study/深度学习/日月光华-tensorflow入门与实战资料/数据集/卫星图像识别数据/2_class/lake/lake_035.jpg'),\n",
       " WindowsPath('D:/Study/深度学习/日月光华-tensorflow入门与实战资料/数据集/卫星图像识别数据/2_class/lake/lake_036.jpg'),\n",
       " WindowsPath('D:/Study/深度学习/日月光华-tensorflow入门与实战资料/数据集/卫星图像识别数据/2_class/lake/lake_037.jpg'),\n",
       " WindowsPath('D:/Study/深度学习/日月光华-tensorflow入门与实战资料/数据集/卫星图像识别数据/2_class/lake/lake_038.jpg'),\n",
       " WindowsPath('D:/Study/深度学习/日月光华-tensorflow入门与实战资料/数据集/卫星图像识别数据/2_class/lake/lake_039.jpg'),\n",
       " WindowsPath('D:/Study/深度学习/日月光华-tensorflow入门与实战资料/数据集/卫星图像识别数据/2_class/lake/lake_040.jpg'),\n",
       " WindowsPath('D:/Study/深度学习/日月光华-tensorflow入门与实战资料/数据集/卫星图像识别数据/2_class/lake/lake_041.jpg'),\n",
       " WindowsPath('D:/Study/深度学习/日月光华-tensorflow入门与实战资料/数据集/卫星图像识别数据/2_class/lake/lake_042.jpg'),\n",
       " WindowsPath('D:/Study/深度学习/日月光华-tensorflow入门与实战资料/数据集/卫星图像识别数据/2_class/lake/lake_043.jpg'),\n",
       " WindowsPath('D:/Study/深度学习/日月光华-tensorflow入门与实战资料/数据集/卫星图像识别数据/2_class/lake/lake_044.jpg'),\n",
       " WindowsPath('D:/Study/深度学习/日月光华-tensorflow入门与实战资料/数据集/卫星图像识别数据/2_class/lake/lake_045.jpg'),\n",
       " WindowsPath('D:/Study/深度学习/日月光华-tensorflow入门与实战资料/数据集/卫星图像识别数据/2_class/lake/lake_046.jpg'),\n",
       " WindowsPath('D:/Study/深度学习/日月光华-tensorflow入门与实战资料/数据集/卫星图像识别数据/2_class/lake/lake_047.jpg'),\n",
       " WindowsPath('D:/Study/深度学习/日月光华-tensorflow入门与实战资料/数据集/卫星图像识别数据/2_class/lake/lake_048.jpg'),\n",
       " WindowsPath('D:/Study/深度学习/日月光华-tensorflow入门与实战资料/数据集/卫星图像识别数据/2_class/lake/lake_049.jpg'),\n",
       " WindowsPath('D:/Study/深度学习/日月光华-tensorflow入门与实战资料/数据集/卫星图像识别数据/2_class/lake/lake_050.jpg'),\n",
       " WindowsPath('D:/Study/深度学习/日月光华-tensorflow入门与实战资料/数据集/卫星图像识别数据/2_class/lake/lake_051.jpg'),\n",
       " WindowsPath('D:/Study/深度学习/日月光华-tensorflow入门与实战资料/数据集/卫星图像识别数据/2_class/lake/lake_052.jpg'),\n",
       " WindowsPath('D:/Study/深度学习/日月光华-tensorflow入门与实战资料/数据集/卫星图像识别数据/2_class/lake/lake_053.jpg'),\n",
       " WindowsPath('D:/Study/深度学习/日月光华-tensorflow入门与实战资料/数据集/卫星图像识别数据/2_class/lake/lake_054.jpg'),\n",
       " WindowsPath('D:/Study/深度学习/日月光华-tensorflow入门与实战资料/数据集/卫星图像识别数据/2_class/lake/lake_055.jpg'),\n",
       " WindowsPath('D:/Study/深度学习/日月光华-tensorflow入门与实战资料/数据集/卫星图像识别数据/2_class/lake/lake_056.jpg'),\n",
       " WindowsPath('D:/Study/深度学习/日月光华-tensorflow入门与实战资料/数据集/卫星图像识别数据/2_class/lake/lake_057.jpg'),\n",
       " WindowsPath('D:/Study/深度学习/日月光华-tensorflow入门与实战资料/数据集/卫星图像识别数据/2_class/lake/lake_058.jpg'),\n",
       " WindowsPath('D:/Study/深度学习/日月光华-tensorflow入门与实战资料/数据集/卫星图像识别数据/2_class/lake/lake_059.jpg'),\n",
       " WindowsPath('D:/Study/深度学习/日月光华-tensorflow入门与实战资料/数据集/卫星图像识别数据/2_class/lake/lake_060.jpg'),\n",
       " WindowsPath('D:/Study/深度学习/日月光华-tensorflow入门与实战资料/数据集/卫星图像识别数据/2_class/lake/lake_061.jpg'),\n",
       " WindowsPath('D:/Study/深度学习/日月光华-tensorflow入门与实战资料/数据集/卫星图像识别数据/2_class/lake/lake_062.jpg'),\n",
       " WindowsPath('D:/Study/深度学习/日月光华-tensorflow入门与实战资料/数据集/卫星图像识别数据/2_class/lake/lake_063.jpg'),\n",
       " WindowsPath('D:/Study/深度学习/日月光华-tensorflow入门与实战资料/数据集/卫星图像识别数据/2_class/lake/lake_064.jpg'),\n",
       " WindowsPath('D:/Study/深度学习/日月光华-tensorflow入门与实战资料/数据集/卫星图像识别数据/2_class/lake/lake_065.jpg'),\n",
       " WindowsPath('D:/Study/深度学习/日月光华-tensorflow入门与实战资料/数据集/卫星图像识别数据/2_class/lake/lake_066.jpg'),\n",
       " WindowsPath('D:/Study/深度学习/日月光华-tensorflow入门与实战资料/数据集/卫星图像识别数据/2_class/lake/lake_067.jpg'),\n",
       " WindowsPath('D:/Study/深度学习/日月光华-tensorflow入门与实战资料/数据集/卫星图像识别数据/2_class/lake/lake_068.jpg'),\n",
       " WindowsPath('D:/Study/深度学习/日月光华-tensorflow入门与实战资料/数据集/卫星图像识别数据/2_class/lake/lake_069.jpg'),\n",
       " WindowsPath('D:/Study/深度学习/日月光华-tensorflow入门与实战资料/数据集/卫星图像识别数据/2_class/lake/lake_070.jpg'),\n",
       " WindowsPath('D:/Study/深度学习/日月光华-tensorflow入门与实战资料/数据集/卫星图像识别数据/2_class/lake/lake_071.jpg'),\n",
       " WindowsPath('D:/Study/深度学习/日月光华-tensorflow入门与实战资料/数据集/卫星图像识别数据/2_class/lake/lake_072.jpg'),\n",
       " WindowsPath('D:/Study/深度学习/日月光华-tensorflow入门与实战资料/数据集/卫星图像识别数据/2_class/lake/lake_073.jpg'),\n",
       " WindowsPath('D:/Study/深度学习/日月光华-tensorflow入门与实战资料/数据集/卫星图像识别数据/2_class/lake/lake_074.jpg'),\n",
       " WindowsPath('D:/Study/深度学习/日月光华-tensorflow入门与实战资料/数据集/卫星图像识别数据/2_class/lake/lake_075.jpg'),\n",
       " WindowsPath('D:/Study/深度学习/日月光华-tensorflow入门与实战资料/数据集/卫星图像识别数据/2_class/lake/lake_076.jpg'),\n",
       " WindowsPath('D:/Study/深度学习/日月光华-tensorflow入门与实战资料/数据集/卫星图像识别数据/2_class/lake/lake_077.jpg'),\n",
       " WindowsPath('D:/Study/深度学习/日月光华-tensorflow入门与实战资料/数据集/卫星图像识别数据/2_class/lake/lake_078.jpg'),\n",
       " WindowsPath('D:/Study/深度学习/日月光华-tensorflow入门与实战资料/数据集/卫星图像识别数据/2_class/lake/lake_079.jpg'),\n",
       " WindowsPath('D:/Study/深度学习/日月光华-tensorflow入门与实战资料/数据集/卫星图像识别数据/2_class/lake/lake_080.jpg'),\n",
       " WindowsPath('D:/Study/深度学习/日月光华-tensorflow入门与实战资料/数据集/卫星图像识别数据/2_class/lake/lake_081.jpg'),\n",
       " WindowsPath('D:/Study/深度学习/日月光华-tensorflow入门与实战资料/数据集/卫星图像识别数据/2_class/lake/lake_082.jpg'),\n",
       " WindowsPath('D:/Study/深度学习/日月光华-tensorflow入门与实战资料/数据集/卫星图像识别数据/2_class/lake/lake_083.jpg'),\n",
       " WindowsPath('D:/Study/深度学习/日月光华-tensorflow入门与实战资料/数据集/卫星图像识别数据/2_class/lake/lake_084.jpg'),\n",
       " WindowsPath('D:/Study/深度学习/日月光华-tensorflow入门与实战资料/数据集/卫星图像识别数据/2_class/lake/lake_085.jpg'),\n",
       " WindowsPath('D:/Study/深度学习/日月光华-tensorflow入门与实战资料/数据集/卫星图像识别数据/2_class/lake/lake_086.jpg'),\n",
       " WindowsPath('D:/Study/深度学习/日月光华-tensorflow入门与实战资料/数据集/卫星图像识别数据/2_class/lake/lake_087.jpg'),\n",
       " WindowsPath('D:/Study/深度学习/日月光华-tensorflow入门与实战资料/数据集/卫星图像识别数据/2_class/lake/lake_088.jpg'),\n",
       " WindowsPath('D:/Study/深度学习/日月光华-tensorflow入门与实战资料/数据集/卫星图像识别数据/2_class/lake/lake_089.jpg'),\n",
       " WindowsPath('D:/Study/深度学习/日月光华-tensorflow入门与实战资料/数据集/卫星图像识别数据/2_class/lake/lake_090.jpg'),\n",
       " WindowsPath('D:/Study/深度学习/日月光华-tensorflow入门与实战资料/数据集/卫星图像识别数据/2_class/lake/lake_091.jpg'),\n",
       " WindowsPath('D:/Study/深度学习/日月光华-tensorflow入门与实战资料/数据集/卫星图像识别数据/2_class/lake/lake_092.jpg'),\n",
       " WindowsPath('D:/Study/深度学习/日月光华-tensorflow入门与实战资料/数据集/卫星图像识别数据/2_class/lake/lake_093.jpg'),\n",
       " WindowsPath('D:/Study/深度学习/日月光华-tensorflow入门与实战资料/数据集/卫星图像识别数据/2_class/lake/lake_094.jpg'),\n",
       " WindowsPath('D:/Study/深度学习/日月光华-tensorflow入门与实战资料/数据集/卫星图像识别数据/2_class/lake/lake_095.jpg'),\n",
       " WindowsPath('D:/Study/深度学习/日月光华-tensorflow入门与实战资料/数据集/卫星图像识别数据/2_class/lake/lake_096.jpg'),\n",
       " WindowsPath('D:/Study/深度学习/日月光华-tensorflow入门与实战资料/数据集/卫星图像识别数据/2_class/lake/lake_097.jpg'),\n",
       " WindowsPath('D:/Study/深度学习/日月光华-tensorflow入门与实战资料/数据集/卫星图像识别数据/2_class/lake/lake_098.jpg'),\n",
       " WindowsPath('D:/Study/深度学习/日月光华-tensorflow入门与实战资料/数据集/卫星图像识别数据/2_class/lake/lake_099.jpg'),\n",
       " WindowsPath('D:/Study/深度学习/日月光华-tensorflow入门与实战资料/数据集/卫星图像识别数据/2_class/lake/lake_100.jpg'),\n",
       " WindowsPath('D:/Study/深度学习/日月光华-tensorflow入门与实战资料/数据集/卫星图像识别数据/2_class/lake/lake_101.jpg'),\n",
       " WindowsPath('D:/Study/深度学习/日月光华-tensorflow入门与实战资料/数据集/卫星图像识别数据/2_class/lake/lake_102.jpg'),\n",
       " WindowsPath('D:/Study/深度学习/日月光华-tensorflow入门与实战资料/数据集/卫星图像识别数据/2_class/lake/lake_103.jpg'),\n",
       " WindowsPath('D:/Study/深度学习/日月光华-tensorflow入门与实战资料/数据集/卫星图像识别数据/2_class/lake/lake_104.jpg'),\n",
       " WindowsPath('D:/Study/深度学习/日月光华-tensorflow入门与实战资料/数据集/卫星图像识别数据/2_class/lake/lake_105.jpg'),\n",
       " WindowsPath('D:/Study/深度学习/日月光华-tensorflow入门与实战资料/数据集/卫星图像识别数据/2_class/lake/lake_106.jpg'),\n",
       " WindowsPath('D:/Study/深度学习/日月光华-tensorflow入门与实战资料/数据集/卫星图像识别数据/2_class/lake/lake_107.jpg'),\n",
       " WindowsPath('D:/Study/深度学习/日月光华-tensorflow入门与实战资料/数据集/卫星图像识别数据/2_class/lake/lake_108.jpg'),\n",
       " WindowsPath('D:/Study/深度学习/日月光华-tensorflow入门与实战资料/数据集/卫星图像识别数据/2_class/lake/lake_109.jpg'),\n",
       " WindowsPath('D:/Study/深度学习/日月光华-tensorflow入门与实战资料/数据集/卫星图像识别数据/2_class/lake/lake_110.jpg'),\n",
       " WindowsPath('D:/Study/深度学习/日月光华-tensorflow入门与实战资料/数据集/卫星图像识别数据/2_class/lake/lake_111.jpg'),\n",
       " WindowsPath('D:/Study/深度学习/日月光华-tensorflow入门与实战资料/数据集/卫星图像识别数据/2_class/lake/lake_112.jpg'),\n",
       " WindowsPath('D:/Study/深度学习/日月光华-tensorflow入门与实战资料/数据集/卫星图像识别数据/2_class/lake/lake_113.jpg'),\n",
       " WindowsPath('D:/Study/深度学习/日月光华-tensorflow入门与实战资料/数据集/卫星图像识别数据/2_class/lake/lake_114.jpg'),\n",
       " WindowsPath('D:/Study/深度学习/日月光华-tensorflow入门与实战资料/数据集/卫星图像识别数据/2_class/lake/lake_115.jpg'),\n",
       " WindowsPath('D:/Study/深度学习/日月光华-tensorflow入门与实战资料/数据集/卫星图像识别数据/2_class/lake/lake_116.jpg'),\n",
       " WindowsPath('D:/Study/深度学习/日月光华-tensorflow入门与实战资料/数据集/卫星图像识别数据/2_class/lake/lake_117.jpg'),\n",
       " WindowsPath('D:/Study/深度学习/日月光华-tensorflow入门与实战资料/数据集/卫星图像识别数据/2_class/lake/lake_118.jpg'),\n",
       " WindowsPath('D:/Study/深度学习/日月光华-tensorflow入门与实战资料/数据集/卫星图像识别数据/2_class/lake/lake_119.jpg'),\n",
       " WindowsPath('D:/Study/深度学习/日月光华-tensorflow入门与实战资料/数据集/卫星图像识别数据/2_class/lake/lake_120.jpg'),\n",
       " WindowsPath('D:/Study/深度学习/日月光华-tensorflow入门与实战资料/数据集/卫星图像识别数据/2_class/lake/lake_121.jpg'),\n",
       " WindowsPath('D:/Study/深度学习/日月光华-tensorflow入门与实战资料/数据集/卫星图像识别数据/2_class/lake/lake_122.jpg'),\n",
       " WindowsPath('D:/Study/深度学习/日月光华-tensorflow入门与实战资料/数据集/卫星图像识别数据/2_class/lake/lake_123.jpg'),\n",
       " WindowsPath('D:/Study/深度学习/日月光华-tensorflow入门与实战资料/数据集/卫星图像识别数据/2_class/lake/lake_124.jpg'),\n",
       " WindowsPath('D:/Study/深度学习/日月光华-tensorflow入门与实战资料/数据集/卫星图像识别数据/2_class/lake/lake_125.jpg'),\n",
       " WindowsPath('D:/Study/深度学习/日月光华-tensorflow入门与实战资料/数据集/卫星图像识别数据/2_class/lake/lake_126.jpg'),\n",
       " WindowsPath('D:/Study/深度学习/日月光华-tensorflow入门与实战资料/数据集/卫星图像识别数据/2_class/lake/lake_127.jpg'),\n",
       " WindowsPath('D:/Study/深度学习/日月光华-tensorflow入门与实战资料/数据集/卫星图像识别数据/2_class/lake/lake_128.jpg'),\n",
       " WindowsPath('D:/Study/深度学习/日月光华-tensorflow入门与实战资料/数据集/卫星图像识别数据/2_class/lake/lake_129.jpg'),\n",
       " WindowsPath('D:/Study/深度学习/日月光华-tensorflow入门与实战资料/数据集/卫星图像识别数据/2_class/lake/lake_130.jpg'),\n",
       " WindowsPath('D:/Study/深度学习/日月光华-tensorflow入门与实战资料/数据集/卫星图像识别数据/2_class/lake/lake_131.jpg'),\n",
       " WindowsPath('D:/Study/深度学习/日月光华-tensorflow入门与实战资料/数据集/卫星图像识别数据/2_class/lake/lake_132.jpg'),\n",
       " WindowsPath('D:/Study/深度学习/日月光华-tensorflow入门与实战资料/数据集/卫星图像识别数据/2_class/lake/lake_133.jpg'),\n",
       " WindowsPath('D:/Study/深度学习/日月光华-tensorflow入门与实战资料/数据集/卫星图像识别数据/2_class/lake/lake_134.jpg'),\n",
       " WindowsPath('D:/Study/深度学习/日月光华-tensorflow入门与实战资料/数据集/卫星图像识别数据/2_class/lake/lake_135.jpg'),\n",
       " WindowsPath('D:/Study/深度学习/日月光华-tensorflow入门与实战资料/数据集/卫星图像识别数据/2_class/lake/lake_136.jpg'),\n",
       " WindowsPath('D:/Study/深度学习/日月光华-tensorflow入门与实战资料/数据集/卫星图像识别数据/2_class/lake/lake_137.jpg'),\n",
       " WindowsPath('D:/Study/深度学习/日月光华-tensorflow入门与实战资料/数据集/卫星图像识别数据/2_class/lake/lake_138.jpg'),\n",
       " WindowsPath('D:/Study/深度学习/日月光华-tensorflow入门与实战资料/数据集/卫星图像识别数据/2_class/lake/lake_139.jpg'),\n",
       " WindowsPath('D:/Study/深度学习/日月光华-tensorflow入门与实战资料/数据集/卫星图像识别数据/2_class/lake/lake_140.jpg'),\n",
       " WindowsPath('D:/Study/深度学习/日月光华-tensorflow入门与实战资料/数据集/卫星图像识别数据/2_class/lake/lake_141.jpg'),\n",
       " WindowsPath('D:/Study/深度学习/日月光华-tensorflow入门与实战资料/数据集/卫星图像识别数据/2_class/lake/lake_142.jpg'),\n",
       " WindowsPath('D:/Study/深度学习/日月光华-tensorflow入门与实战资料/数据集/卫星图像识别数据/2_class/lake/lake_143.jpg'),\n",
       " WindowsPath('D:/Study/深度学习/日月光华-tensorflow入门与实战资料/数据集/卫星图像识别数据/2_class/lake/lake_144.jpg'),\n",
       " WindowsPath('D:/Study/深度学习/日月光华-tensorflow入门与实战资料/数据集/卫星图像识别数据/2_class/lake/lake_145.jpg'),\n",
       " WindowsPath('D:/Study/深度学习/日月光华-tensorflow入门与实战资料/数据集/卫星图像识别数据/2_class/lake/lake_146.jpg'),\n",
       " WindowsPath('D:/Study/深度学习/日月光华-tensorflow入门与实战资料/数据集/卫星图像识别数据/2_class/lake/lake_147.jpg'),\n",
       " WindowsPath('D:/Study/深度学习/日月光华-tensorflow入门与实战资料/数据集/卫星图像识别数据/2_class/lake/lake_148.jpg'),\n",
       " WindowsPath('D:/Study/深度学习/日月光华-tensorflow入门与实战资料/数据集/卫星图像识别数据/2_class/lake/lake_149.jpg'),\n",
       " WindowsPath('D:/Study/深度学习/日月光华-tensorflow入门与实战资料/数据集/卫星图像识别数据/2_class/lake/lake_150.jpg'),\n",
       " WindowsPath('D:/Study/深度学习/日月光华-tensorflow入门与实战资料/数据集/卫星图像识别数据/2_class/lake/lake_151.jpg'),\n",
       " WindowsPath('D:/Study/深度学习/日月光华-tensorflow入门与实战资料/数据集/卫星图像识别数据/2_class/lake/lake_152.jpg'),\n",
       " WindowsPath('D:/Study/深度学习/日月光华-tensorflow入门与实战资料/数据集/卫星图像识别数据/2_class/lake/lake_153.jpg'),\n",
       " WindowsPath('D:/Study/深度学习/日月光华-tensorflow入门与实战资料/数据集/卫星图像识别数据/2_class/lake/lake_154.jpg'),\n",
       " WindowsPath('D:/Study/深度学习/日月光华-tensorflow入门与实战资料/数据集/卫星图像识别数据/2_class/lake/lake_155.jpg'),\n",
       " WindowsPath('D:/Study/深度学习/日月光华-tensorflow入门与实战资料/数据集/卫星图像识别数据/2_class/lake/lake_156.jpg'),\n",
       " WindowsPath('D:/Study/深度学习/日月光华-tensorflow入门与实战资料/数据集/卫星图像识别数据/2_class/lake/lake_157.jpg'),\n",
       " WindowsPath('D:/Study/深度学习/日月光华-tensorflow入门与实战资料/数据集/卫星图像识别数据/2_class/lake/lake_158.jpg'),\n",
       " WindowsPath('D:/Study/深度学习/日月光华-tensorflow入门与实战资料/数据集/卫星图像识别数据/2_class/lake/lake_159.jpg'),\n",
       " WindowsPath('D:/Study/深度学习/日月光华-tensorflow入门与实战资料/数据集/卫星图像识别数据/2_class/lake/lake_160.jpg'),\n",
       " WindowsPath('D:/Study/深度学习/日月光华-tensorflow入门与实战资料/数据集/卫星图像识别数据/2_class/lake/lake_161.jpg'),\n",
       " WindowsPath('D:/Study/深度学习/日月光华-tensorflow入门与实战资料/数据集/卫星图像识别数据/2_class/lake/lake_162.jpg'),\n",
       " WindowsPath('D:/Study/深度学习/日月光华-tensorflow入门与实战资料/数据集/卫星图像识别数据/2_class/lake/lake_163.jpg'),\n",
       " WindowsPath('D:/Study/深度学习/日月光华-tensorflow入门与实战资料/数据集/卫星图像识别数据/2_class/lake/lake_164.jpg'),\n",
       " WindowsPath('D:/Study/深度学习/日月光华-tensorflow入门与实战资料/数据集/卫星图像识别数据/2_class/lake/lake_165.jpg'),\n",
       " WindowsPath('D:/Study/深度学习/日月光华-tensorflow入门与实战资料/数据集/卫星图像识别数据/2_class/lake/lake_166.jpg'),\n",
       " WindowsPath('D:/Study/深度学习/日月光华-tensorflow入门与实战资料/数据集/卫星图像识别数据/2_class/lake/lake_167.jpg'),\n",
       " WindowsPath('D:/Study/深度学习/日月光华-tensorflow入门与实战资料/数据集/卫星图像识别数据/2_class/lake/lake_168.jpg'),\n",
       " WindowsPath('D:/Study/深度学习/日月光华-tensorflow入门与实战资料/数据集/卫星图像识别数据/2_class/lake/lake_169.jpg'),\n",
       " WindowsPath('D:/Study/深度学习/日月光华-tensorflow入门与实战资料/数据集/卫星图像识别数据/2_class/lake/lake_170.jpg'),\n",
       " WindowsPath('D:/Study/深度学习/日月光华-tensorflow入门与实战资料/数据集/卫星图像识别数据/2_class/lake/lake_171.jpg'),\n",
       " WindowsPath('D:/Study/深度学习/日月光华-tensorflow入门与实战资料/数据集/卫星图像识别数据/2_class/lake/lake_172.jpg'),\n",
       " WindowsPath('D:/Study/深度学习/日月光华-tensorflow入门与实战资料/数据集/卫星图像识别数据/2_class/lake/lake_173.jpg'),\n",
       " WindowsPath('D:/Study/深度学习/日月光华-tensorflow入门与实战资料/数据集/卫星图像识别数据/2_class/lake/lake_174.jpg'),\n",
       " WindowsPath('D:/Study/深度学习/日月光华-tensorflow入门与实战资料/数据集/卫星图像识别数据/2_class/lake/lake_175.jpg'),\n",
       " WindowsPath('D:/Study/深度学习/日月光华-tensorflow入门与实战资料/数据集/卫星图像识别数据/2_class/lake/lake_176.jpg'),\n",
       " WindowsPath('D:/Study/深度学习/日月光华-tensorflow入门与实战资料/数据集/卫星图像识别数据/2_class/lake/lake_177.jpg'),\n",
       " WindowsPath('D:/Study/深度学习/日月光华-tensorflow入门与实战资料/数据集/卫星图像识别数据/2_class/lake/lake_178.jpg'),\n",
       " WindowsPath('D:/Study/深度学习/日月光华-tensorflow入门与实战资料/数据集/卫星图像识别数据/2_class/lake/lake_179.jpg'),\n",
       " WindowsPath('D:/Study/深度学习/日月光华-tensorflow入门与实战资料/数据集/卫星图像识别数据/2_class/lake/lake_180.jpg'),\n",
       " WindowsPath('D:/Study/深度学习/日月光华-tensorflow入门与实战资料/数据集/卫星图像识别数据/2_class/lake/lake_181.jpg'),\n",
       " WindowsPath('D:/Study/深度学习/日月光华-tensorflow入门与实战资料/数据集/卫星图像识别数据/2_class/lake/lake_182.jpg'),\n",
       " WindowsPath('D:/Study/深度学习/日月光华-tensorflow入门与实战资料/数据集/卫星图像识别数据/2_class/lake/lake_183.jpg'),\n",
       " WindowsPath('D:/Study/深度学习/日月光华-tensorflow入门与实战资料/数据集/卫星图像识别数据/2_class/lake/lake_184.jpg'),\n",
       " WindowsPath('D:/Study/深度学习/日月光华-tensorflow入门与实战资料/数据集/卫星图像识别数据/2_class/lake/lake_185.jpg'),\n",
       " WindowsPath('D:/Study/深度学习/日月光华-tensorflow入门与实战资料/数据集/卫星图像识别数据/2_class/lake/lake_186.jpg'),\n",
       " WindowsPath('D:/Study/深度学习/日月光华-tensorflow入门与实战资料/数据集/卫星图像识别数据/2_class/lake/lake_187.jpg'),\n",
       " WindowsPath('D:/Study/深度学习/日月光华-tensorflow入门与实战资料/数据集/卫星图像识别数据/2_class/lake/lake_188.jpg'),\n",
       " WindowsPath('D:/Study/深度学习/日月光华-tensorflow入门与实战资料/数据集/卫星图像识别数据/2_class/lake/lake_189.jpg'),\n",
       " WindowsPath('D:/Study/深度学习/日月光华-tensorflow入门与实战资料/数据集/卫星图像识别数据/2_class/lake/lake_190.jpg'),\n",
       " WindowsPath('D:/Study/深度学习/日月光华-tensorflow入门与实战资料/数据集/卫星图像识别数据/2_class/lake/lake_191.jpg'),\n",
       " WindowsPath('D:/Study/深度学习/日月光华-tensorflow入门与实战资料/数据集/卫星图像识别数据/2_class/lake/lake_192.jpg'),\n",
       " WindowsPath('D:/Study/深度学习/日月光华-tensorflow入门与实战资料/数据集/卫星图像识别数据/2_class/lake/lake_193.jpg'),\n",
       " WindowsPath('D:/Study/深度学习/日月光华-tensorflow入门与实战资料/数据集/卫星图像识别数据/2_class/lake/lake_194.jpg'),\n",
       " WindowsPath('D:/Study/深度学习/日月光华-tensorflow入门与实战资料/数据集/卫星图像识别数据/2_class/lake/lake_195.jpg'),\n",
       " WindowsPath('D:/Study/深度学习/日月光华-tensorflow入门与实战资料/数据集/卫星图像识别数据/2_class/lake/lake_196.jpg'),\n",
       " WindowsPath('D:/Study/深度学习/日月光华-tensorflow入门与实战资料/数据集/卫星图像识别数据/2_class/lake/lake_197.jpg'),\n",
       " WindowsPath('D:/Study/深度学习/日月光华-tensorflow入门与实战资料/数据集/卫星图像识别数据/2_class/lake/lake_198.jpg'),\n",
       " WindowsPath('D:/Study/深度学习/日月光华-tensorflow入门与实战资料/数据集/卫星图像识别数据/2_class/lake/lake_199.jpg'),\n",
       " WindowsPath('D:/Study/深度学习/日月光华-tensorflow入门与实战资料/数据集/卫星图像识别数据/2_class/lake/lake_200.jpg'),\n",
       " WindowsPath('D:/Study/深度学习/日月光华-tensorflow入门与实战资料/数据集/卫星图像识别数据/2_class/lake/lake_201.jpg'),\n",
       " WindowsPath('D:/Study/深度学习/日月光华-tensorflow入门与实战资料/数据集/卫星图像识别数据/2_class/lake/lake_202.jpg'),\n",
       " WindowsPath('D:/Study/深度学习/日月光华-tensorflow入门与实战资料/数据集/卫星图像识别数据/2_class/lake/lake_203.jpg'),\n",
       " WindowsPath('D:/Study/深度学习/日月光华-tensorflow入门与实战资料/数据集/卫星图像识别数据/2_class/lake/lake_204.jpg'),\n",
       " WindowsPath('D:/Study/深度学习/日月光华-tensorflow入门与实战资料/数据集/卫星图像识别数据/2_class/lake/lake_205.jpg'),\n",
       " WindowsPath('D:/Study/深度学习/日月光华-tensorflow入门与实战资料/数据集/卫星图像识别数据/2_class/lake/lake_206.jpg'),\n",
       " WindowsPath('D:/Study/深度学习/日月光华-tensorflow入门与实战资料/数据集/卫星图像识别数据/2_class/lake/lake_207.jpg'),\n",
       " WindowsPath('D:/Study/深度学习/日月光华-tensorflow入门与实战资料/数据集/卫星图像识别数据/2_class/lake/lake_208.jpg'),\n",
       " WindowsPath('D:/Study/深度学习/日月光华-tensorflow入门与实战资料/数据集/卫星图像识别数据/2_class/lake/lake_209.jpg'),\n",
       " WindowsPath('D:/Study/深度学习/日月光华-tensorflow入门与实战资料/数据集/卫星图像识别数据/2_class/lake/lake_210.jpg'),\n",
       " WindowsPath('D:/Study/深度学习/日月光华-tensorflow入门与实战资料/数据集/卫星图像识别数据/2_class/lake/lake_211.jpg'),\n",
       " WindowsPath('D:/Study/深度学习/日月光华-tensorflow入门与实战资料/数据集/卫星图像识别数据/2_class/lake/lake_212.jpg'),\n",
       " WindowsPath('D:/Study/深度学习/日月光华-tensorflow入门与实战资料/数据集/卫星图像识别数据/2_class/lake/lake_213.jpg'),\n",
       " WindowsPath('D:/Study/深度学习/日月光华-tensorflow入门与实战资料/数据集/卫星图像识别数据/2_class/lake/lake_214.jpg'),\n",
       " WindowsPath('D:/Study/深度学习/日月光华-tensorflow入门与实战资料/数据集/卫星图像识别数据/2_class/lake/lake_215.jpg'),\n",
       " WindowsPath('D:/Study/深度学习/日月光华-tensorflow入门与实战资料/数据集/卫星图像识别数据/2_class/lake/lake_216.jpg'),\n",
       " WindowsPath('D:/Study/深度学习/日月光华-tensorflow入门与实战资料/数据集/卫星图像识别数据/2_class/lake/lake_217.jpg'),\n",
       " WindowsPath('D:/Study/深度学习/日月光华-tensorflow入门与实战资料/数据集/卫星图像识别数据/2_class/lake/lake_218.jpg'),\n",
       " WindowsPath('D:/Study/深度学习/日月光华-tensorflow入门与实战资料/数据集/卫星图像识别数据/2_class/lake/lake_219.jpg'),\n",
       " WindowsPath('D:/Study/深度学习/日月光华-tensorflow入门与实战资料/数据集/卫星图像识别数据/2_class/lake/lake_220.jpg'),\n",
       " WindowsPath('D:/Study/深度学习/日月光华-tensorflow入门与实战资料/数据集/卫星图像识别数据/2_class/lake/lake_221.jpg'),\n",
       " WindowsPath('D:/Study/深度学习/日月光华-tensorflow入门与实战资料/数据集/卫星图像识别数据/2_class/lake/lake_222.jpg'),\n",
       " WindowsPath('D:/Study/深度学习/日月光华-tensorflow入门与实战资料/数据集/卫星图像识别数据/2_class/lake/lake_223.jpg'),\n",
       " WindowsPath('D:/Study/深度学习/日月光华-tensorflow入门与实战资料/数据集/卫星图像识别数据/2_class/lake/lake_224.jpg'),\n",
       " WindowsPath('D:/Study/深度学习/日月光华-tensorflow入门与实战资料/数据集/卫星图像识别数据/2_class/lake/lake_225.jpg'),\n",
       " WindowsPath('D:/Study/深度学习/日月光华-tensorflow入门与实战资料/数据集/卫星图像识别数据/2_class/lake/lake_226.jpg'),\n",
       " WindowsPath('D:/Study/深度学习/日月光华-tensorflow入门与实战资料/数据集/卫星图像识别数据/2_class/lake/lake_227.jpg'),\n",
       " WindowsPath('D:/Study/深度学习/日月光华-tensorflow入门与实战资料/数据集/卫星图像识别数据/2_class/lake/lake_228.jpg'),\n",
       " WindowsPath('D:/Study/深度学习/日月光华-tensorflow入门与实战资料/数据集/卫星图像识别数据/2_class/lake/lake_229.jpg'),\n",
       " WindowsPath('D:/Study/深度学习/日月光华-tensorflow入门与实战资料/数据集/卫星图像识别数据/2_class/lake/lake_230.jpg'),\n",
       " WindowsPath('D:/Study/深度学习/日月光华-tensorflow入门与实战资料/数据集/卫星图像识别数据/2_class/lake/lake_231.jpg'),\n",
       " WindowsPath('D:/Study/深度学习/日月光华-tensorflow入门与实战资料/数据集/卫星图像识别数据/2_class/lake/lake_232.jpg'),\n",
       " WindowsPath('D:/Study/深度学习/日月光华-tensorflow入门与实战资料/数据集/卫星图像识别数据/2_class/lake/lake_233.jpg'),\n",
       " WindowsPath('D:/Study/深度学习/日月光华-tensorflow入门与实战资料/数据集/卫星图像识别数据/2_class/lake/lake_234.jpg'),\n",
       " WindowsPath('D:/Study/深度学习/日月光华-tensorflow入门与实战资料/数据集/卫星图像识别数据/2_class/lake/lake_235.jpg'),\n",
       " WindowsPath('D:/Study/深度学习/日月光华-tensorflow入门与实战资料/数据集/卫星图像识别数据/2_class/lake/lake_236.jpg'),\n",
       " WindowsPath('D:/Study/深度学习/日月光华-tensorflow入门与实战资料/数据集/卫星图像识别数据/2_class/lake/lake_237.jpg'),\n",
       " WindowsPath('D:/Study/深度学习/日月光华-tensorflow入门与实战资料/数据集/卫星图像识别数据/2_class/lake/lake_238.jpg'),\n",
       " WindowsPath('D:/Study/深度学习/日月光华-tensorflow入门与实战资料/数据集/卫星图像识别数据/2_class/lake/lake_239.jpg'),\n",
       " WindowsPath('D:/Study/深度学习/日月光华-tensorflow入门与实战资料/数据集/卫星图像识别数据/2_class/lake/lake_240.jpg'),\n",
       " WindowsPath('D:/Study/深度学习/日月光华-tensorflow入门与实战资料/数据集/卫星图像识别数据/2_class/lake/lake_241.jpg'),\n",
       " WindowsPath('D:/Study/深度学习/日月光华-tensorflow入门与实战资料/数据集/卫星图像识别数据/2_class/lake/lake_242.jpg'),\n",
       " WindowsPath('D:/Study/深度学习/日月光华-tensorflow入门与实战资料/数据集/卫星图像识别数据/2_class/lake/lake_243.jpg'),\n",
       " WindowsPath('D:/Study/深度学习/日月光华-tensorflow入门与实战资料/数据集/卫星图像识别数据/2_class/lake/lake_244.jpg'),\n",
       " WindowsPath('D:/Study/深度学习/日月光华-tensorflow入门与实战资料/数据集/卫星图像识别数据/2_class/lake/lake_245.jpg'),\n",
       " WindowsPath('D:/Study/深度学习/日月光华-tensorflow入门与实战资料/数据集/卫星图像识别数据/2_class/lake/lake_246.jpg'),\n",
       " WindowsPath('D:/Study/深度学习/日月光华-tensorflow入门与实战资料/数据集/卫星图像识别数据/2_class/lake/lake_247.jpg'),\n",
       " WindowsPath('D:/Study/深度学习/日月光华-tensorflow入门与实战资料/数据集/卫星图像识别数据/2_class/lake/lake_248.jpg'),\n",
       " WindowsPath('D:/Study/深度学习/日月光华-tensorflow入门与实战资料/数据集/卫星图像识别数据/2_class/lake/lake_249.jpg'),\n",
       " WindowsPath('D:/Study/深度学习/日月光华-tensorflow入门与实战资料/数据集/卫星图像识别数据/2_class/lake/lake_250.jpg'),\n",
       " WindowsPath('D:/Study/深度学习/日月光华-tensorflow入门与实战资料/数据集/卫星图像识别数据/2_class/lake/lake_251.jpg'),\n",
       " WindowsPath('D:/Study/深度学习/日月光华-tensorflow入门与实战资料/数据集/卫星图像识别数据/2_class/lake/lake_252.jpg'),\n",
       " WindowsPath('D:/Study/深度学习/日月光华-tensorflow入门与实战资料/数据集/卫星图像识别数据/2_class/lake/lake_253.jpg'),\n",
       " WindowsPath('D:/Study/深度学习/日月光华-tensorflow入门与实战资料/数据集/卫星图像识别数据/2_class/lake/lake_254.jpg'),\n",
       " WindowsPath('D:/Study/深度学习/日月光华-tensorflow入门与实战资料/数据集/卫星图像识别数据/2_class/lake/lake_255.jpg'),\n",
       " WindowsPath('D:/Study/深度学习/日月光华-tensorflow入门与实战资料/数据集/卫星图像识别数据/2_class/lake/lake_256.jpg'),\n",
       " WindowsPath('D:/Study/深度学习/日月光华-tensorflow入门与实战资料/数据集/卫星图像识别数据/2_class/lake/lake_257.jpg'),\n",
       " WindowsPath('D:/Study/深度学习/日月光华-tensorflow入门与实战资料/数据集/卫星图像识别数据/2_class/lake/lake_258.jpg'),\n",
       " WindowsPath('D:/Study/深度学习/日月光华-tensorflow入门与实战资料/数据集/卫星图像识别数据/2_class/lake/lake_259.jpg'),\n",
       " WindowsPath('D:/Study/深度学习/日月光华-tensorflow入门与实战资料/数据集/卫星图像识别数据/2_class/lake/lake_260.jpg'),\n",
       " WindowsPath('D:/Study/深度学习/日月光华-tensorflow入门与实战资料/数据集/卫星图像识别数据/2_class/lake/lake_261.jpg'),\n",
       " WindowsPath('D:/Study/深度学习/日月光华-tensorflow入门与实战资料/数据集/卫星图像识别数据/2_class/lake/lake_262.jpg'),\n",
       " WindowsPath('D:/Study/深度学习/日月光华-tensorflow入门与实战资料/数据集/卫星图像识别数据/2_class/lake/lake_263.jpg'),\n",
       " WindowsPath('D:/Study/深度学习/日月光华-tensorflow入门与实战资料/数据集/卫星图像识别数据/2_class/lake/lake_264.jpg'),\n",
       " WindowsPath('D:/Study/深度学习/日月光华-tensorflow入门与实战资料/数据集/卫星图像识别数据/2_class/lake/lake_265.jpg'),\n",
       " WindowsPath('D:/Study/深度学习/日月光华-tensorflow入门与实战资料/数据集/卫星图像识别数据/2_class/lake/lake_266.jpg'),\n",
       " WindowsPath('D:/Study/深度学习/日月光华-tensorflow入门与实战资料/数据集/卫星图像识别数据/2_class/lake/lake_267.jpg'),\n",
       " WindowsPath('D:/Study/深度学习/日月光华-tensorflow入门与实战资料/数据集/卫星图像识别数据/2_class/lake/lake_268.jpg'),\n",
       " WindowsPath('D:/Study/深度学习/日月光华-tensorflow入门与实战资料/数据集/卫星图像识别数据/2_class/lake/lake_269.jpg'),\n",
       " WindowsPath('D:/Study/深度学习/日月光华-tensorflow入门与实战资料/数据集/卫星图像识别数据/2_class/lake/lake_270.jpg'),\n",
       " WindowsPath('D:/Study/深度学习/日月光华-tensorflow入门与实战资料/数据集/卫星图像识别数据/2_class/lake/lake_271.jpg'),\n",
       " WindowsPath('D:/Study/深度学习/日月光华-tensorflow入门与实战资料/数据集/卫星图像识别数据/2_class/lake/lake_272.jpg'),\n",
       " WindowsPath('D:/Study/深度学习/日月光华-tensorflow入门与实战资料/数据集/卫星图像识别数据/2_class/lake/lake_273.jpg'),\n",
       " WindowsPath('D:/Study/深度学习/日月光华-tensorflow入门与实战资料/数据集/卫星图像识别数据/2_class/lake/lake_274.jpg'),\n",
       " WindowsPath('D:/Study/深度学习/日月光华-tensorflow入门与实战资料/数据集/卫星图像识别数据/2_class/lake/lake_275.jpg'),\n",
       " WindowsPath('D:/Study/深度学习/日月光华-tensorflow入门与实战资料/数据集/卫星图像识别数据/2_class/lake/lake_276.jpg'),\n",
       " WindowsPath('D:/Study/深度学习/日月光华-tensorflow入门与实战资料/数据集/卫星图像识别数据/2_class/lake/lake_277.jpg'),\n",
       " WindowsPath('D:/Study/深度学习/日月光华-tensorflow入门与实战资料/数据集/卫星图像识别数据/2_class/lake/lake_278.jpg'),\n",
       " WindowsPath('D:/Study/深度学习/日月光华-tensorflow入门与实战资料/数据集/卫星图像识别数据/2_class/lake/lake_279.jpg'),\n",
       " WindowsPath('D:/Study/深度学习/日月光华-tensorflow入门与实战资料/数据集/卫星图像识别数据/2_class/lake/lake_280.jpg'),\n",
       " WindowsPath('D:/Study/深度学习/日月光华-tensorflow入门与实战资料/数据集/卫星图像识别数据/2_class/lake/lake_281.jpg'),\n",
       " WindowsPath('D:/Study/深度学习/日月光华-tensorflow入门与实战资料/数据集/卫星图像识别数据/2_class/lake/lake_282.jpg'),\n",
       " WindowsPath('D:/Study/深度学习/日月光华-tensorflow入门与实战资料/数据集/卫星图像识别数据/2_class/lake/lake_283.jpg'),\n",
       " WindowsPath('D:/Study/深度学习/日月光华-tensorflow入门与实战资料/数据集/卫星图像识别数据/2_class/lake/lake_284.jpg'),\n",
       " WindowsPath('D:/Study/深度学习/日月光华-tensorflow入门与实战资料/数据集/卫星图像识别数据/2_class/lake/lake_285.jpg'),\n",
       " WindowsPath('D:/Study/深度学习/日月光华-tensorflow入门与实战资料/数据集/卫星图像识别数据/2_class/lake/lake_286.jpg'),\n",
       " WindowsPath('D:/Study/深度学习/日月光华-tensorflow入门与实战资料/数据集/卫星图像识别数据/2_class/lake/lake_287.jpg'),\n",
       " WindowsPath('D:/Study/深度学习/日月光华-tensorflow入门与实战资料/数据集/卫星图像识别数据/2_class/lake/lake_288.jpg'),\n",
       " WindowsPath('D:/Study/深度学习/日月光华-tensorflow入门与实战资料/数据集/卫星图像识别数据/2_class/lake/lake_289.jpg'),\n",
       " WindowsPath('D:/Study/深度学习/日月光华-tensorflow入门与实战资料/数据集/卫星图像识别数据/2_class/lake/lake_290.jpg'),\n",
       " WindowsPath('D:/Study/深度学习/日月光华-tensorflow入门与实战资料/数据集/卫星图像识别数据/2_class/lake/lake_291.jpg'),\n",
       " WindowsPath('D:/Study/深度学习/日月光华-tensorflow入门与实战资料/数据集/卫星图像识别数据/2_class/lake/lake_292.jpg'),\n",
       " WindowsPath('D:/Study/深度学习/日月光华-tensorflow入门与实战资料/数据集/卫星图像识别数据/2_class/lake/lake_293.jpg'),\n",
       " WindowsPath('D:/Study/深度学习/日月光华-tensorflow入门与实战资料/数据集/卫星图像识别数据/2_class/lake/lake_294.jpg'),\n",
       " WindowsPath('D:/Study/深度学习/日月光华-tensorflow入门与实战资料/数据集/卫星图像识别数据/2_class/lake/lake_295.jpg'),\n",
       " WindowsPath('D:/Study/深度学习/日月光华-tensorflow入门与实战资料/数据集/卫星图像识别数据/2_class/lake/lake_296.jpg'),\n",
       " WindowsPath('D:/Study/深度学习/日月光华-tensorflow入门与实战资料/数据集/卫星图像识别数据/2_class/lake/lake_297.jpg'),\n",
       " WindowsPath('D:/Study/深度学习/日月光华-tensorflow入门与实战资料/数据集/卫星图像识别数据/2_class/lake/lake_298.jpg'),\n",
       " WindowsPath('D:/Study/深度学习/日月光华-tensorflow入门与实战资料/数据集/卫星图像识别数据/2_class/lake/lake_299.jpg'),\n",
       " WindowsPath('D:/Study/深度学习/日月光华-tensorflow入门与实战资料/数据集/卫星图像识别数据/2_class/lake/lake_300.jpg'),\n",
       " WindowsPath('D:/Study/深度学习/日月光华-tensorflow入门与实战资料/数据集/卫星图像识别数据/2_class/lake/lake_301.jpg'),\n",
       " WindowsPath('D:/Study/深度学习/日月光华-tensorflow入门与实战资料/数据集/卫星图像识别数据/2_class/lake/lake_302.jpg'),\n",
       " WindowsPath('D:/Study/深度学习/日月光华-tensorflow入门与实战资料/数据集/卫星图像识别数据/2_class/lake/lake_303.jpg'),\n",
       " ...]"
      ]
     },
     "execution_count": 176,
     "metadata": {},
     "output_type": "execute_result"
    }
   ],
   "source": [
    "all_image_path[3:]"
   ]
  },
  {
   "cell_type": "code",
   "execution_count": 177,
   "metadata": {},
   "outputs": [],
   "source": [
    "all_image_path=[str(path) for path in all_image_path]#变成实际路径，消掉windowspath"
   ]
  },
  {
   "cell_type": "code",
   "execution_count": 178,
   "metadata": {},
   "outputs": [
    {
     "data": {
      "text/plain": [
       "['D:\\\\Study\\\\深度学习\\\\日月光华-tensorflow入门与实战资料\\\\数据集\\\\卫星图像识别数据\\\\2_class\\\\airplane\\\\airplane_011.jpg',\n",
       " 'D:\\\\Study\\\\深度学习\\\\日月光华-tensorflow入门与实战资料\\\\数据集\\\\卫星图像识别数据\\\\2_class\\\\airplane\\\\airplane_012.jpg']"
      ]
     },
     "execution_count": 178,
     "metadata": {},
     "output_type": "execute_result"
    }
   ],
   "source": [
    "all_image_path[10:12]"
   ]
  },
  {
   "cell_type": "code",
   "execution_count": 179,
   "metadata": {},
   "outputs": [],
   "source": [
    "import random"
   ]
  },
  {
   "cell_type": "code",
   "execution_count": 180,
   "metadata": {},
   "outputs": [],
   "source": [
    "random.shuffle(all_image_path)"
   ]
  },
  {
   "cell_type": "code",
   "execution_count": 181,
   "metadata": {},
   "outputs": [
    {
     "data": {
      "text/plain": [
       "['D:\\\\Study\\\\深度学习\\\\日月光华-tensorflow入门与实战资料\\\\数据集\\\\卫星图像识别数据\\\\2_class\\\\airplane\\\\airplane_011.jpg',\n",
       " 'D:\\\\Study\\\\深度学习\\\\日月光华-tensorflow入门与实战资料\\\\数据集\\\\卫星图像识别数据\\\\2_class\\\\lake\\\\lake_099.jpg']"
      ]
     },
     "execution_count": 181,
     "metadata": {},
     "output_type": "execute_result"
    }
   ],
   "source": [
    "all_image_path[10:12]"
   ]
  },
  {
   "cell_type": "code",
   "execution_count": 182,
   "metadata": {},
   "outputs": [
    {
     "data": {
      "text/plain": [
       "1400"
      ]
     },
     "execution_count": 182,
     "metadata": {},
     "output_type": "execute_result"
    }
   ],
   "source": [
    "image_count=len(all_image_path)\n",
    "image_count"
   ]
  },
  {
   "cell_type": "code",
   "execution_count": 183,
   "metadata": {},
   "outputs": [],
   "source": [
    "label_names=sorted(item.name for item in data_root.glob('*/'))#提取目录，取出名字并首字母排序"
   ]
  },
  {
   "cell_type": "code",
   "execution_count": 184,
   "metadata": {},
   "outputs": [
    {
     "data": {
      "text/plain": [
       "['airplane', 'lake']"
      ]
     },
     "execution_count": 184,
     "metadata": {},
     "output_type": "execute_result"
    }
   ],
   "source": [
    "label_names"
   ]
  },
  {
   "cell_type": "code",
   "execution_count": 185,
   "metadata": {},
   "outputs": [],
   "source": [
    "label_to_index=dict((name,index) for index,name in enumerate(label_names))"
   ]
  },
  {
   "cell_type": "code",
   "execution_count": 186,
   "metadata": {},
   "outputs": [
    {
     "data": {
      "text/plain": [
       "{'airplane': 0, 'lake': 1}"
      ]
     },
     "execution_count": 186,
     "metadata": {},
     "output_type": "execute_result"
    }
   ],
   "source": [
    "label_to_index"
   ]
  },
  {
   "cell_type": "code",
   "execution_count": 187,
   "metadata": {},
   "outputs": [
    {
     "data": {
      "text/plain": [
       "['D:\\\\Study\\\\深度学习\\\\日月光华-tensorflow入门与实战资料\\\\数据集\\\\卫星图像识别数据\\\\2_class\\\\lake\\\\lake_679.jpg',\n",
       " 'D:\\\\Study\\\\深度学习\\\\日月光华-tensorflow入门与实战资料\\\\数据集\\\\卫星图像识别数据\\\\2_class\\\\lake\\\\lake_343.jpg',\n",
       " 'D:\\\\Study\\\\深度学习\\\\日月光华-tensorflow入门与实战资料\\\\数据集\\\\卫星图像识别数据\\\\2_class\\\\lake\\\\lake_677.jpg']"
      ]
     },
     "execution_count": 187,
     "metadata": {},
     "output_type": "execute_result"
    }
   ],
   "source": [
    "all_image_path[:3]"
   ]
  },
  {
   "cell_type": "code",
   "execution_count": 188,
   "metadata": {},
   "outputs": [
    {
     "data": {
      "text/plain": [
       "'lake'"
      ]
     },
     "execution_count": 188,
     "metadata": {},
     "output_type": "execute_result"
    }
   ],
   "source": [
    "pathlib.Path('D:/Study/深度学习/日月光华-tensorflow入门与实战资料/数据集/卫星图像识别数据/2_class/lake/lake_060.jpg                    ').parent.name#提取上一级的名字"
   ]
  },
  {
   "cell_type": "code",
   "execution_count": 189,
   "metadata": {},
   "outputs": [],
   "source": [
    "all_image_label=[label_to_index[pathlib.Path(p).parent.name] for p in all_image_path]"
   ]
  },
  {
   "cell_type": "code",
   "execution_count": 190,
   "metadata": {},
   "outputs": [
    {
     "data": {
      "text/plain": [
       "[1, 1, 1, 1, 0]"
      ]
     },
     "execution_count": 190,
     "metadata": {},
     "output_type": "execute_result"
    }
   ],
   "source": [
    "all_image_label[:5]"
   ]
  },
  {
   "cell_type": "code",
   "execution_count": 191,
   "metadata": {},
   "outputs": [
    {
     "data": {
      "text/plain": [
       "['D:\\\\Study\\\\深度学习\\\\日月光华-tensorflow入门与实战资料\\\\数据集\\\\卫星图像识别数据\\\\2_class\\\\lake\\\\lake_679.jpg',\n",
       " 'D:\\\\Study\\\\深度学习\\\\日月光华-tensorflow入门与实战资料\\\\数据集\\\\卫星图像识别数据\\\\2_class\\\\lake\\\\lake_343.jpg',\n",
       " 'D:\\\\Study\\\\深度学习\\\\日月光华-tensorflow入门与实战资料\\\\数据集\\\\卫星图像识别数据\\\\2_class\\\\lake\\\\lake_677.jpg',\n",
       " 'D:\\\\Study\\\\深度学习\\\\日月光华-tensorflow入门与实战资料\\\\数据集\\\\卫星图像识别数据\\\\2_class\\\\lake\\\\lake_184.jpg',\n",
       " 'D:\\\\Study\\\\深度学习\\\\日月光华-tensorflow入门与实战资料\\\\数据集\\\\卫星图像识别数据\\\\2_class\\\\airplane\\\\airplane_390.jpg']"
      ]
     },
     "execution_count": 191,
     "metadata": {},
     "output_type": "execute_result"
    }
   ],
   "source": [
    "all_image_path[:5]"
   ]
  },
  {
   "cell_type": "code",
   "execution_count": 192,
   "metadata": {},
   "outputs": [],
   "source": [
    "import IPython .display as display"
   ]
  },
  {
   "cell_type": "code",
   "execution_count": 193,
   "metadata": {},
   "outputs": [],
   "source": [
    "index_to_label = dict((v,k) for k,v in label_to_index.items())"
   ]
  },
  {
   "cell_type": "code",
   "execution_count": 194,
   "metadata": {},
   "outputs": [
    {
     "data": {
      "text/plain": [
       "{0: 'airplane', 1: 'lake'}"
      ]
     },
     "execution_count": 194,
     "metadata": {},
     "output_type": "execute_result"
    }
   ],
   "source": [
    "index_to_label"
   ]
  },
  {
   "cell_type": "code",
   "execution_count": 195,
   "metadata": {},
   "outputs": [
    {
     "data": {
      "image/jpeg": "[encoded data removed]",
      "text/plain": [
       "<IPython.core.display.Image object>"
      ]
     },
     "metadata": {},
     "output_type": "display_data"
    },
    {
     "name": "stdout",
     "output_type": "stream",
     "text": [
      "airplane\n",
      "\n"
     ]
    },
    {
     "data": {
      "image/jpeg": "[encoded data removed]",
      "text/plain": [
       "<IPython.core.display.Image object>"
      ]
     },
     "metadata": {},
     "output_type": "display_data"
    },
    {
     "name": "stdout",
     "output_type": "stream",
     "text": [
      "lake\n",
      "\n"
     ]
    },
    {
     "data": {
      "image/jpeg": "[encoded data removed]",
      "text/plain": [
       "<IPython.core.display.Image object>"
      ]
     },
     "metadata": {},
     "output_type": "display_data"
    },
    {
     "name": "stdout",
     "output_type": "stream",
     "text": [
      "airplane\n",
      "\n"
     ]
    }
   ],
   "source": [
    "for n in range(3):\n",
    "    image_index=random.choice(range(len(all_image_path)))\n",
    "    display.display(display.Image(all_image_path[image_index]))\n",
    "    print(index_to_label[all_image_label[image_index]])\n",
    "    print()"
   ]
  },
  {
   "cell_type": "code",
   "execution_count": 196,
   "metadata": {},
   "outputs": [],
   "source": [
    "img_path=all_image_path[0]"
   ]
  },
  {
   "cell_type": "code",
   "execution_count": 197,
   "metadata": {},
   "outputs": [
    {
     "data": {
      "text/plain": [
       "'D:\\\\Study\\\\深度学习\\\\日月光华-tensorflow入门与实战资料\\\\数据集\\\\卫星图像识别数据\\\\2_class\\\\lake\\\\lake_679.jpg'"
      ]
     },
     "execution_count": 197,
     "metadata": {},
     "output_type": "execute_result"
    }
   ],
   "source": [
    "img_path"
   ]
  },
  {
   "cell_type": "code",
   "execution_count": 198,
   "metadata": {},
   "outputs": [],
   "source": [
    "img_raw=tf.io.read_file(img_path)"
   ]
  },
  {
   "cell_type": "code",
   "execution_count": 199,
   "metadata": {},
   "outputs": [],
   "source": [
    "img_tensor=tf.image.decode_image(img_raw)"
   ]
  },
  {
   "cell_type": "code",
   "execution_count": 200,
   "metadata": {},
   "outputs": [
    {
     "data": {
      "text/plain": [
       "TensorShape([256, 256, 3])"
      ]
     },
     "execution_count": 200,
     "metadata": {},
     "output_type": "execute_result"
    }
   ],
   "source": [
    "img_tensor.shape"
   ]
  },
  {
   "cell_type": "code",
   "execution_count": 201,
   "metadata": {},
   "outputs": [
    {
     "data": {
      "text/plain": [
       "tf.uint8"
      ]
     },
     "execution_count": 201,
     "metadata": {},
     "output_type": "execute_result"
    }
   ],
   "source": [
    "img_tensor.dtype"
   ]
  },
  {
   "cell_type": "code",
   "execution_count": 202,
   "metadata": {},
   "outputs": [],
   "source": [
    "img_tensor = tf.cast(img_tensor, tf.float32)#转换数据类型"
   ]
  },
  {
   "cell_type": "code",
   "execution_count": 203,
   "metadata": {},
   "outputs": [],
   "source": [
    "img_tensor=img_tensor/255"
   ]
  },
  {
   "cell_type": "code",
   "execution_count": 204,
   "metadata": {},
   "outputs": [
    {
     "data": {
      "text/plain": [
       "1.0"
      ]
     },
     "execution_count": 204,
     "metadata": {},
     "output_type": "execute_result"
    }
   ],
   "source": [
    "img_tensor.numpy().max()"
   ]
  },
  {
   "cell_type": "code",
   "execution_count": 205,
   "metadata": {},
   "outputs": [
    {
     "data": {
      "text/plain": [
       "0.019607844"
      ]
     },
     "execution_count": 205,
     "metadata": {},
     "output_type": "execute_result"
    }
   ],
   "source": [
    "img_tensor.numpy().min()"
   ]
  },
  {
   "cell_type": "code",
   "execution_count": 229,
   "metadata": {},
   "outputs": [],
   "source": [
    "def load_preprosess_image(img_path):\n",
    "    img_raw=tf.io.read_file(img_path)\n",
    "    img_tensor=tf.image.decode_jpeg(img_raw,channels=3)#jpeg格式。channel代表彩色图片\n",
    "    img_tensor=tf.image.resize(img_tensor,[256,256])\n",
    "    img_tensor = tf.cast(img_tensor, tf.float32)\n",
    "    img=img_tensor/255\n",
    "    return img"
   ]
  },
  {
   "cell_type": "code",
   "execution_count": 230,
   "metadata": {},
   "outputs": [],
   "source": [
    "image_path=all_image_path[100]"
   ]
  },
  {
   "cell_type": "code",
   "execution_count": 231,
   "metadata": {},
   "outputs": [
    {
     "data": {
      "text/plain": [
       "<matplotlib.image.AxesImage at 0x1a249395820>"
      ]
     },
     "execution_count": 231,
     "metadata": {},
     "output_type": "execute_result"
    },
    {
     "data": {
      "image/png": "[encoded data removed]",
      "text/plain": [
       "<Figure size 432x288 with 1 Axes>"
      ]
     },
     "metadata": {
      "needs_background": "light"
     },
     "output_type": "display_data"
    }
   ],
   "source": [
    "plt.imshow(load_preprosess_image(image_path))"
   ]
  },
  {
   "cell_type": "code",
   "execution_count": 209,
   "metadata": {},
   "outputs": [],
   "source": [
    "path_ds=tf.data.Dataset.from_tensor_slices(all_image_path)"
   ]
  },
  {
   "cell_type": "code",
   "execution_count": 210,
   "metadata": {},
   "outputs": [],
   "source": [
    "image_dataset=path_ds.map(load_preprosess_image)"
   ]
  },
  {
   "cell_type": "code",
   "execution_count": 232,
   "metadata": {},
   "outputs": [
    {
     "data": {
      "text/plain": [
       "<MapDataset shapes: (256, 256, 3), types: tf.float32>"
      ]
     },
     "execution_count": 232,
     "metadata": {},
     "output_type": "execute_result"
    }
   ],
   "source": [
    "image_dataset"
   ]
  },
  {
   "cell_type": "code",
   "execution_count": 233,
   "metadata": {},
   "outputs": [],
   "source": [
    "label_dataset=tf.data.Dataset.from_tensor_slices(all_image_label)"
   ]
  },
  {
   "cell_type": "code",
   "execution_count": 234,
   "metadata": {},
   "outputs": [
    {
     "data": {
      "text/plain": [
       "<TensorSliceDataset shapes: (), types: tf.int32>"
      ]
     },
     "execution_count": 234,
     "metadata": {},
     "output_type": "execute_result"
    }
   ],
   "source": [
    "label_dataset"
   ]
  },
  {
   "cell_type": "code",
   "execution_count": 235,
   "metadata": {},
   "outputs": [
    {
     "name": "stdout",
     "output_type": "stream",
     "text": [
      "1\n",
      "1\n",
      "1\n",
      "1\n",
      "0\n",
      "0\n",
      "1\n",
      "0\n",
      "0\n",
      "1\n"
     ]
    }
   ],
   "source": [
    "for label in label_dataset.take(10):\n",
    "    print(label.numpy())"
   ]
  },
  {
   "cell_type": "code",
   "execution_count": 236,
   "metadata": {},
   "outputs": [
    {
     "name": "stdout",
     "output_type": "stream",
     "text": [
      "tf.Tensor(\n",
      "[[[0.27058825 0.29411766 0.23921569]\n",
      "  [0.3137255  0.3372549  0.28235295]\n",
      "  [0.3372549  0.36862746 0.30980393]\n",
      "  ...\n",
      "  [0.18039216 0.2627451  0.20392157]\n",
      "  [0.20392157 0.28627452 0.22745098]\n",
      "  [0.22352941 0.30588236 0.24705882]]\n",
      "\n",
      " [[0.2901961  0.3137255  0.25882354]\n",
      "  [0.32941177 0.3529412  0.29803923]\n",
      "  [0.34509805 0.3764706  0.31764707]\n",
      "  ...\n",
      "  [0.17254902 0.25490198 0.19607843]\n",
      "  [0.19215687 0.27450982 0.21568628]\n",
      "  [0.20392157 0.28627452 0.22745098]]\n",
      "\n",
      " [[0.30980393 0.33333334 0.2784314 ]\n",
      "  [0.34117648 0.3647059  0.30980393]\n",
      "  [0.3529412  0.38431373 0.3254902 ]\n",
      "  ...\n",
      "  [0.16470589 0.24705882 0.1882353 ]\n",
      "  [0.17254902 0.25490198 0.19607843]\n",
      "  [0.18039216 0.2627451  0.20392157]]\n",
      "\n",
      " ...\n",
      "\n",
      " [[0.1764706  0.28627452 0.2       ]\n",
      "  [0.18431373 0.29411766 0.20784314]\n",
      "  [0.2        0.30980393 0.22352941]\n",
      "  ...\n",
      "  [0.20392157 0.2901961  0.24313726]\n",
      "  [0.21568628 0.3019608  0.25490198]\n",
      "  [0.21176471 0.29803923 0.2509804 ]]\n",
      "\n",
      " [[0.18431373 0.29803923 0.21176471]\n",
      "  [0.19215687 0.30588236 0.21960784]\n",
      "  [0.20392157 0.3137255  0.22745098]\n",
      "  ...\n",
      "  [0.21960784 0.30588236 0.25882354]\n",
      "  [0.22352941 0.30980393 0.2627451 ]\n",
      "  [0.20784314 0.29411766 0.24705882]]\n",
      "\n",
      " [[0.20784314 0.32156864 0.23529412]\n",
      "  [0.20784314 0.32156864 0.23529412]\n",
      "  [0.21568628 0.3254902  0.23921569]\n",
      "  ...\n",
      "  [0.22745098 0.3137255  0.26666668]\n",
      "  [0.22745098 0.3137255  0.26666668]\n",
      "  [0.20784314 0.29411766 0.24705882]]], shape=(256, 256, 3), dtype=float32)\n"
     ]
    }
   ],
   "source": [
    "for image in image_dataset.take(1):\n",
    "    print(image)"
   ]
  },
  {
   "cell_type": "code",
   "execution_count": 238,
   "metadata": {},
   "outputs": [],
   "source": [
    "dataset=tf.data.Dataset.zip((image_dataset,label_dataset))#合并"
   ]
  },
  {
   "cell_type": "code",
   "execution_count": 239,
   "metadata": {},
   "outputs": [
    {
     "data": {
      "text/plain": [
       "<ZipDataset shapes: ((256, 256, 3), ()), types: (tf.float32, tf.int32)>"
      ]
     },
     "execution_count": 239,
     "metadata": {},
     "output_type": "execute_result"
    }
   ],
   "source": [
    "dataset"
   ]
  },
  {
   "cell_type": "code",
   "execution_count": 216,
   "metadata": {},
   "outputs": [],
   "source": [
    "test_count=int(image_count*0.2)\n",
    "train_count=image_count-test_count"
   ]
  },
  {
   "cell_type": "code",
   "execution_count": 240,
   "metadata": {},
   "outputs": [
    {
     "data": {
      "text/plain": [
       "(280, 1120)"
      ]
     },
     "execution_count": 240,
     "metadata": {},
     "output_type": "execute_result"
    }
   ],
   "source": [
    "test_count,train_count"
   ]
  },
  {
   "cell_type": "code",
   "execution_count": 217,
   "metadata": {},
   "outputs": [],
   "source": [
    "train_dataset=dataset.skip(test_count)"
   ]
  },
  {
   "cell_type": "code",
   "execution_count": 218,
   "metadata": {},
   "outputs": [],
   "source": [
    "test_dataset=dataset.take(test_count)"
   ]
  },
  {
   "cell_type": "code",
   "execution_count": 219,
   "metadata": {},
   "outputs": [],
   "source": [
    "BATCH_SIZE=32"
   ]
  },
  {
   "cell_type": "code",
   "execution_count": 248,
   "metadata": {},
   "outputs": [],
   "source": [
    "train_dataset=train_dataset.repeat().shuffle(buffer_size=train_count).batch(BATCH_SIZE)"
   ]
  },
  {
   "cell_type": "code",
   "execution_count": 249,
   "metadata": {},
   "outputs": [],
   "source": [
    "test_dataset=test_dataset.batch(BATCH_SIZE)"
   ]
  },
  {
   "cell_type": "code",
   "execution_count": 250,
   "metadata": {},
   "outputs": [],
   "source": [
    "model = tf.keras.Sequential()\n",
    "model.add(tf.keras.layers.Conv2D(64,(3,3),input_shape=(256,256,3),activation='relu'))#填充的话 padding='same'\n",
    "model.add(tf.keras.layers.Conv2D(64,(3,3),activation='relu')) #2的n次方递增\n",
    "model.add(tf.keras.layers.MaxPool2D())\n",
    "model.add(tf.keras.layers.Conv2D(128,(3,3),activation='relu'))\n",
    "model.add(tf.keras.layers.Conv2D(128,(3,3),activation='relu'))\n",
    "model.add(tf.keras.layers.MaxPool2D())\n",
    "model.add(tf.keras.layers.Conv2D(256,(3,3),activation='relu'))\n",
    "model.add(tf.keras.layers.Conv2D(256,(3,3),activation='relu'))\n",
    "model.add(tf.keras.layers.MaxPool2D())\n",
    "model.add(tf.keras.layers.Conv2D(512,(3,3),activation='relu'))\n",
    "model.add(tf.keras.layers.MaxPool2D())\n",
    "model.add(tf.keras.layers.Conv2D(512,(3,3),activation='relu'))\n",
    "model.add(tf.keras.layers.MaxPool2D())\n",
    "model.add(tf.keras.layers.Conv2D(1024,(3,3),activation='relu'))\n",
    "model.add(tf.keras.layers.GlobalAveragePooling2D())\n",
    "model.add(tf.keras.layers.Dense(1024,activation='relu'))\n",
    "model.add(tf.keras.layers.Dense(256,activation='relu'))\n",
    "model.add(tf.keras.layers.Dense(1,activation='sigmoid'))"
   ]
  },
  {
   "cell_type": "code",
   "execution_count": 251,
   "metadata": {},
   "outputs": [
    {
     "name": "stdout",
     "output_type": "stream",
     "text": [
      "Model: \"sequential_6\"\n",
      "_________________________________________________________________\n",
      "Layer (type)                 Output Shape              Param #   \n",
      "=================================================================\n",
      "conv2d_54 (Conv2D)           (None, 254, 254, 64)      1792      \n",
      "_________________________________________________________________\n",
      "conv2d_55 (Conv2D)           (None, 252, 252, 64)      36928     \n",
      "_________________________________________________________________\n",
      "max_pooling2d_30 (MaxPooling (None, 126, 126, 64)      0         \n",
      "_________________________________________________________________\n",
      "conv2d_56 (Conv2D)           (None, 124, 124, 128)     73856     \n",
      "_________________________________________________________________\n",
      "conv2d_57 (Conv2D)           (None, 122, 122, 128)     147584    \n",
      "_________________________________________________________________\n",
      "max_pooling2d_31 (MaxPooling (None, 61, 61, 128)       0         \n",
      "_________________________________________________________________\n",
      "conv2d_58 (Conv2D)           (None, 59, 59, 256)       295168    \n",
      "_________________________________________________________________\n",
      "conv2d_59 (Conv2D)           (None, 57, 57, 256)       590080    \n",
      "_________________________________________________________________\n",
      "max_pooling2d_32 (MaxPooling (None, 28, 28, 256)       0         \n",
      "_________________________________________________________________\n",
      "conv2d_60 (Conv2D)           (None, 26, 26, 512)       1180160   \n",
      "_________________________________________________________________\n",
      "max_pooling2d_33 (MaxPooling (None, 13, 13, 512)       0         \n",
      "_________________________________________________________________\n",
      "conv2d_61 (Conv2D)           (None, 11, 11, 512)       2359808   \n",
      "_________________________________________________________________\n",
      "max_pooling2d_34 (MaxPooling (None, 5, 5, 512)         0         \n",
      "_________________________________________________________________\n",
      "conv2d_62 (Conv2D)           (None, 3, 3, 1024)        4719616   \n",
      "_________________________________________________________________\n",
      "global_average_pooling2d_6 ( (None, 1024)              0         \n",
      "_________________________________________________________________\n",
      "dense_18 (Dense)             (None, 1024)              1049600   \n",
      "_________________________________________________________________\n",
      "dense_19 (Dense)             (None, 256)               262400    \n",
      "_________________________________________________________________\n",
      "dense_20 (Dense)             (None, 1)                 257       \n",
      "=================================================================\n",
      "Total params: 10,717,249\n",
      "Trainable params: 10,717,249\n",
      "Non-trainable params: 0\n",
      "_________________________________________________________________\n"
     ]
    }
   ],
   "source": [
    "model.summary()"
   ]
  },
  {
   "cell_type": "code",
   "execution_count": 252,
   "metadata": {},
   "outputs": [],
   "source": [
    "model.compile(optimizer='adam',\n",
    "             loss='binary_crossentropy',\n",
    "             metrics=['acc'])"
   ]
  },
  {
   "cell_type": "code",
   "execution_count": 253,
   "metadata": {},
   "outputs": [],
   "source": [
    "step_per_epoch=train_count//BATCH_SIZE\n",
    "validation_steps=test_count//BATCH_SIZE"
   ]
  },
  {
   "cell_type": "code",
   "execution_count": 257,
   "metadata": {},
   "outputs": [
    {
     "data": {
      "text/plain": [
       "(<BatchDataset shapes: ((None, None, None, None, None, 256, 256, 3), (None, None, None, None, None)), types: (tf.float32, tf.int32)>,\n",
       " <BatchDataset shapes: ((None, None, None, 256, 256, 3), (None, None, None)), types: (tf.float32, tf.int32)>)"
      ]
     },
     "execution_count": 257,
     "metadata": {},
     "output_type": "execute_result"
    }
   ],
   "source": [
    "train_dataset,test_dataset"
   ]
  },
  {
   "cell_type": "code",
   "execution_count": 259,
   "metadata": {},
   "outputs": [
    {
     "ename": "TypeError",
     "evalue": "'float' object cannot be interpreted as an integer",
     "output_type": "error",
     "traceback": [
      "\u001b[1;31m---------------------------------------------------------------------------\u001b[0m",
      "\u001b[1;31mTypeError\u001b[0m                                 Traceback (most recent call last)",
      "\u001b[1;32m<ipython-input-259-fc67581fe294>\u001b[0m in \u001b[0;36m<module>\u001b[1;34m\u001b[0m\n\u001b[1;32m----> 1\u001b[1;33m history=model.fit(train_dataset,epochs=20.,steps_per_epoch=step_per_epoch,\n\u001b[0m\u001b[0;32m      2\u001b[0m                   validation_data=test_dataset,validation_steps=validation_steps)\n",
      "\u001b[1;32mC:\\ProgramData\\Anaconda3\\lib\\site-packages\\tensorflow\\python\\keras\\engine\\training.py\u001b[0m in \u001b[0;36m_method_wrapper\u001b[1;34m(self, *args, **kwargs)\u001b[0m\n\u001b[0;32m    106\u001b[0m   \u001b[1;32mdef\u001b[0m \u001b[0m_method_wrapper\u001b[0m\u001b[1;33m(\u001b[0m\u001b[0mself\u001b[0m\u001b[1;33m,\u001b[0m \u001b[1;33m*\u001b[0m\u001b[0margs\u001b[0m\u001b[1;33m,\u001b[0m \u001b[1;33m**\u001b[0m\u001b[0mkwargs\u001b[0m\u001b[1;33m)\u001b[0m\u001b[1;33m:\u001b[0m\u001b[1;33m\u001b[0m\u001b[1;33m\u001b[0m\u001b[0m\n\u001b[0;32m    107\u001b[0m     \u001b[1;32mif\u001b[0m \u001b[1;32mnot\u001b[0m \u001b[0mself\u001b[0m\u001b[1;33m.\u001b[0m\u001b[0m_in_multi_worker_mode\u001b[0m\u001b[1;33m(\u001b[0m\u001b[1;33m)\u001b[0m\u001b[1;33m:\u001b[0m  \u001b[1;31m# pylint: disable=protected-access\u001b[0m\u001b[1;33m\u001b[0m\u001b[1;33m\u001b[0m\u001b[0m\n\u001b[1;32m--> 108\u001b[1;33m       \u001b[1;32mreturn\u001b[0m \u001b[0mmethod\u001b[0m\u001b[1;33m(\u001b[0m\u001b[0mself\u001b[0m\u001b[1;33m,\u001b[0m \u001b[1;33m*\u001b[0m\u001b[0margs\u001b[0m\u001b[1;33m,\u001b[0m \u001b[1;33m**\u001b[0m\u001b[0mkwargs\u001b[0m\u001b[1;33m)\u001b[0m\u001b[1;33m\u001b[0m\u001b[1;33m\u001b[0m\u001b[0m\n\u001b[0m\u001b[0;32m    109\u001b[0m \u001b[1;33m\u001b[0m\u001b[0m\n\u001b[0;32m    110\u001b[0m     \u001b[1;31m# Running inside `run_distribute_coordinator` already.\u001b[0m\u001b[1;33m\u001b[0m\u001b[1;33m\u001b[0m\u001b[1;33m\u001b[0m\u001b[0m\n",
      "\u001b[1;32mC:\\ProgramData\\Anaconda3\\lib\\site-packages\\tensorflow\\python\\keras\\engine\\training.py\u001b[0m in \u001b[0;36mfit\u001b[1;34m(self, x, y, batch_size, epochs, verbose, callbacks, validation_split, validation_data, shuffle, class_weight, sample_weight, initial_epoch, steps_per_epoch, validation_steps, validation_batch_size, validation_freq, max_queue_size, workers, use_multiprocessing)\u001b[0m\n\u001b[0;32m   1084\u001b[0m       data_handler._initial_epoch = (  # pylint: disable=protected-access\n\u001b[0;32m   1085\u001b[0m           self._maybe_load_initial_epoch_from_ckpt(initial_epoch))\n\u001b[1;32m-> 1086\u001b[1;33m       \u001b[1;32mfor\u001b[0m \u001b[0mepoch\u001b[0m\u001b[1;33m,\u001b[0m \u001b[0miterator\u001b[0m \u001b[1;32min\u001b[0m \u001b[0mdata_handler\u001b[0m\u001b[1;33m.\u001b[0m\u001b[0menumerate_epochs\u001b[0m\u001b[1;33m(\u001b[0m\u001b[1;33m)\u001b[0m\u001b[1;33m:\u001b[0m\u001b[1;33m\u001b[0m\u001b[1;33m\u001b[0m\u001b[0m\n\u001b[0m\u001b[0;32m   1087\u001b[0m         \u001b[0mself\u001b[0m\u001b[1;33m.\u001b[0m\u001b[0mreset_metrics\u001b[0m\u001b[1;33m(\u001b[0m\u001b[1;33m)\u001b[0m\u001b[1;33m\u001b[0m\u001b[1;33m\u001b[0m\u001b[0m\n\u001b[0;32m   1088\u001b[0m         \u001b[0mcallbacks\u001b[0m\u001b[1;33m.\u001b[0m\u001b[0mon_epoch_begin\u001b[0m\u001b[1;33m(\u001b[0m\u001b[0mepoch\u001b[0m\u001b[1;33m)\u001b[0m\u001b[1;33m\u001b[0m\u001b[1;33m\u001b[0m\u001b[0m\n",
      "\u001b[1;32mC:\\ProgramData\\Anaconda3\\lib\\site-packages\\tensorflow\\python\\keras\\engine\\data_adapter.py\u001b[0m in \u001b[0;36menumerate_epochs\u001b[1;34m(self)\u001b[0m\n\u001b[0;32m   1137\u001b[0m     \u001b[1;32mwith\u001b[0m \u001b[0mself\u001b[0m\u001b[1;33m.\u001b[0m\u001b[0m_truncate_execution_to_epoch\u001b[0m\u001b[1;33m(\u001b[0m\u001b[1;33m)\u001b[0m\u001b[1;33m:\u001b[0m\u001b[1;33m\u001b[0m\u001b[1;33m\u001b[0m\u001b[0m\n\u001b[0;32m   1138\u001b[0m       \u001b[0mdata_iterator\u001b[0m \u001b[1;33m=\u001b[0m \u001b[0miter\u001b[0m\u001b[1;33m(\u001b[0m\u001b[0mself\u001b[0m\u001b[1;33m.\u001b[0m\u001b[0m_dataset\u001b[0m\u001b[1;33m)\u001b[0m\u001b[1;33m\u001b[0m\u001b[1;33m\u001b[0m\u001b[0m\n\u001b[1;32m-> 1139\u001b[1;33m       \u001b[1;32mfor\u001b[0m \u001b[0mepoch\u001b[0m \u001b[1;32min\u001b[0m \u001b[0mrange\u001b[0m\u001b[1;33m(\u001b[0m\u001b[0mself\u001b[0m\u001b[1;33m.\u001b[0m\u001b[0m_initial_epoch\u001b[0m\u001b[1;33m,\u001b[0m \u001b[0mself\u001b[0m\u001b[1;33m.\u001b[0m\u001b[0m_epochs\u001b[0m\u001b[1;33m)\u001b[0m\u001b[1;33m:\u001b[0m\u001b[1;33m\u001b[0m\u001b[1;33m\u001b[0m\u001b[0m\n\u001b[0m\u001b[0;32m   1140\u001b[0m         \u001b[1;32mif\u001b[0m \u001b[0mself\u001b[0m\u001b[1;33m.\u001b[0m\u001b[0m_insufficient_data\u001b[0m\u001b[1;33m:\u001b[0m  \u001b[1;31m# Set by `catch_stop_iteration`.\u001b[0m\u001b[1;33m\u001b[0m\u001b[1;33m\u001b[0m\u001b[0m\n\u001b[0;32m   1141\u001b[0m           \u001b[1;32mbreak\u001b[0m\u001b[1;33m\u001b[0m\u001b[1;33m\u001b[0m\u001b[0m\n",
      "\u001b[1;31mTypeError\u001b[0m: 'float' object cannot be interpreted as an integer"
     ]
    }
   ],
   "source": [
    "history=model.fit(train_dataset,epochs=20.,steps_per_epoch=step_per_epoch,\n",
    "                  validation_data=test_dataset,validation_steps=validation_steps)"
   ]
  },
  {
   "cell_type": "code",
   "execution_count": null,
   "metadata": {},
   "outputs": [],
   "source": [
    "model = tf.keras.Sequential()\n",
    "model.add(tf.keras.layers.Conv2D(64,(3,3),input_shape=(256,256,3)))#填充的话 padding='same'\n",
    "model.add(tf.keras.layers.BatchNormalization())\n",
    "model.add(tf.keras.layers.Activation('relu'))\n",
    "\n",
    "model.add(tf.keras.layers.Conv2D(64,(3,3)))\n",
    "model.add(tf.keras.layers.BatchNormalization())\n",
    "model.add(tf.keras.layers.Activation('relu'))\n",
    "\n",
    "model.add(tf.keras.layers.MaxPool2D())\n",
    "model.add(tf.keras.layers.Conv2D(128,(3,3)))\n",
    "model.add(tf.keras.layers.BatchNormalization())\n",
    "model.add(tf.keras.layers.Activation('relu'))\n",
    "\n",
    "#dense同理"
   ]
  },
  {
   "cell_type": "code",
   "execution_count": null,
   "metadata": {},
   "outputs": [],
   "source": []
  }
 ],
 "metadata": {
  "kernelspec": {
   "display_name": "Python 3",
   "language": "python",
   "name": "python3"
  },
  "language_info": {
   "codemirror_mode": {
    "name": "ipython",
    "version": 3
   },
   "file_extension": ".py",
   "mimetype": "text/x-python",
   "name": "python",
   "nbconvert_exporter": "python",
   "pygments_lexer": "ipython3",
   "version": "3.8.3"
  },
  "toc": {
   "base_numbering": 1,
   "nav_menu": {},
   "number_sections": true,
   "sideBar": true,
   "skip_h1_title": false,
   "title_cell": "Table of Contents",
   "title_sidebar": "Contents",
   "toc_cell": false,
   "toc_position": {},
   "toc_section_display": true,
   "toc_window_display": false
  }
 },
 "nbformat": 4,
 "nbformat_minor": 4
}
